{
 "cells": [
  {
   "cell_type": "markdown",
   "metadata": {},
   "source": [
    "# Hyper parameters"
   ]
  },
  {
   "cell_type": "code",
   "execution_count": null,
   "metadata": {},
   "outputs": [],
   "source": [
    "EPOCHS = 250\n",
    "BATCH_SIZE = 256\n",
    "LEARNING_RATE = 0.001"
   ]
  },
  {
   "cell_type": "code",
   "execution_count": 1,
   "metadata": {},
   "outputs": [],
   "source": [
    "import pandas as pd\n",
    "import numpy as np\n",
    "from sklearn.model_selection import train_test_split\n",
    "from sklearn.preprocessing import StandardScaler\n",
    "import torch\n",
    "from torch.utils.data import DataLoader, Dataset\n",
    "import torch.nn as nn\n",
    "import torch.optim as optim\n",
    "from tqdm.auto import tqdm\n",
    "from sklearn.metrics import r2_score, mean_squared_error, mean_absolute_error\n",
    "import matplotlib.pyplot as plt\n",
    "import pickle\n",
    "import os\n"
   ]
  },
  {
   "cell_type": "code",
   "execution_count": 2,
   "metadata": {},
   "outputs": [
    {
     "data": {
      "text/plain": [
       "['aalborg_3_3_0.csv',\n",
       " 'alpine1_3_8_0.csv',\n",
       " 'alpine2_3_10_0.csv',\n",
       " 'aspeedway_3_3_0.csv',\n",
       " 'aspeedway_3_8_0.csv',\n",
       " 'brondehach_3_10_0.csv',\n",
       " 'cgspeedwaynumber1_3_10_0.csv',\n",
       " 'cgtrack2_3_10_0.csv',\n",
       " 'cgtrack3_3_3_0.csv',\n",
       " 'corkscrew_3_10_0.csv',\n",
       " 'cspeedway_3_5_0.csv',\n",
       " 'dspeedway_3_10_0.csv',\n",
       " 'eroad_3_5_0.csv',\n",
       " 'espeedway_3_2_0.csv',\n",
       " 'etrack3_3_9_0.csv',\n",
       " 'etrack4_3_5_0.csv',\n",
       " 'etrack5_3_6_0.csv',\n",
       " 'etrack6_3_8_0.csv',\n",
       " 'forza_3_7_0.csv',\n",
       " 'fspeedway_3_2_0.csv',\n",
       " 'gspeedway_3_5_0.csv',\n",
       " 'michiganspeedway_3_9_0.csv',\n",
       " 'olethrosroad1_3_3_0.csv',\n",
       " 'ruudskogen_3_7_0.csv',\n",
       " 'spring_1_4_0.csv',\n",
       " 'street1_3_5_0.csv',\n",
       " 'wheel1_3_6_0.csv',\n",
       " 'wheel2_3_7_0.csv']"
      ]
     },
     "execution_count": 2,
     "metadata": {},
     "output_type": "execute_result"
    }
   ],
   "source": [
    "# Get list of files in collected_data folder\n",
    "files = os.listdir('collected_data')\n",
    "files"
   ]
  },
  {
   "cell_type": "code",
   "execution_count": 3,
   "metadata": {},
   "outputs": [
    {
     "data": {
      "text/html": [
       "<div>\n",
       "<style scoped>\n",
       "    .dataframe tbody tr th:only-of-type {\n",
       "        vertical-align: middle;\n",
       "    }\n",
       "\n",
       "    .dataframe tbody tr th {\n",
       "        vertical-align: top;\n",
       "    }\n",
       "\n",
       "    .dataframe thead th {\n",
       "        text-align: right;\n",
       "    }\n",
       "</style>\n",
       "<table border=\"1\" class=\"dataframe\">\n",
       "  <thead>\n",
       "    <tr style=\"text-align: right;\">\n",
       "      <th></th>\n",
       "      <th>Angle</th>\n",
       "      <th>CurrentLapTime</th>\n",
       "      <th>Damage</th>\n",
       "      <th>DistanceFromStart</th>\n",
       "      <th>DistanceCovered</th>\n",
       "      <th>FuelLevel</th>\n",
       "      <th>Gear</th>\n",
       "      <th>LastLapTime</th>\n",
       "      <th>Opponent_1</th>\n",
       "      <th>Opponent_2</th>\n",
       "      <th>...</th>\n",
       "      <th>WheelSpinVelocity_1</th>\n",
       "      <th>WheelSpinVelocity_2</th>\n",
       "      <th>WheelSpinVelocity_3</th>\n",
       "      <th>WheelSpinVelocity_4</th>\n",
       "      <th>Z</th>\n",
       "      <th>Acceleration</th>\n",
       "      <th>Braking</th>\n",
       "      <th>Clutch</th>\n",
       "      <th>Gear</th>\n",
       "      <th>Steering</th>\n",
       "    </tr>\n",
       "  </thead>\n",
       "  <tbody>\n",
       "    <tr>\n",
       "      <th>0</th>\n",
       "      <td>0.001991</td>\n",
       "      <td>-0.982</td>\n",
       "      <td>0.0</td>\n",
       "      <td>2542.53</td>\n",
       "      <td>0.0</td>\n",
       "      <td>94.0000</td>\n",
       "      <td>0</td>\n",
       "      <td>0.0</td>\n",
       "      <td>30.1827</td>\n",
       "      <td>10.8396</td>\n",
       "      <td>...</td>\n",
       "      <td>0.0</td>\n",
       "      <td>0.0</td>\n",
       "      <td>0.0</td>\n",
       "      <td>0.0</td>\n",
       "      <td>0.345289</td>\n",
       "      <td>1.0</td>\n",
       "      <td>0.0</td>\n",
       "      <td>0.64</td>\n",
       "      <td>1</td>\n",
       "      <td>0.012217</td>\n",
       "    </tr>\n",
       "    <tr>\n",
       "      <th>1</th>\n",
       "      <td>0.001991</td>\n",
       "      <td>-0.962</td>\n",
       "      <td>0.0</td>\n",
       "      <td>2542.53</td>\n",
       "      <td>0.0</td>\n",
       "      <td>94.0000</td>\n",
       "      <td>0</td>\n",
       "      <td>0.0</td>\n",
       "      <td>30.1827</td>\n",
       "      <td>10.8396</td>\n",
       "      <td>...</td>\n",
       "      <td>0.0</td>\n",
       "      <td>0.0</td>\n",
       "      <td>0.0</td>\n",
       "      <td>0.0</td>\n",
       "      <td>0.345289</td>\n",
       "      <td>1.0</td>\n",
       "      <td>0.0</td>\n",
       "      <td>0.64</td>\n",
       "      <td>1</td>\n",
       "      <td>0.012217</td>\n",
       "    </tr>\n",
       "    <tr>\n",
       "      <th>2</th>\n",
       "      <td>0.001991</td>\n",
       "      <td>-0.942</td>\n",
       "      <td>0.0</td>\n",
       "      <td>2542.53</td>\n",
       "      <td>0.0</td>\n",
       "      <td>93.9999</td>\n",
       "      <td>0</td>\n",
       "      <td>0.0</td>\n",
       "      <td>30.1827</td>\n",
       "      <td>10.8396</td>\n",
       "      <td>...</td>\n",
       "      <td>0.0</td>\n",
       "      <td>0.0</td>\n",
       "      <td>0.0</td>\n",
       "      <td>0.0</td>\n",
       "      <td>0.345289</td>\n",
       "      <td>1.0</td>\n",
       "      <td>0.0</td>\n",
       "      <td>0.64</td>\n",
       "      <td>1</td>\n",
       "      <td>0.012217</td>\n",
       "    </tr>\n",
       "    <tr>\n",
       "      <th>3</th>\n",
       "      <td>0.001991</td>\n",
       "      <td>-0.922</td>\n",
       "      <td>0.0</td>\n",
       "      <td>2542.53</td>\n",
       "      <td>0.0</td>\n",
       "      <td>93.9998</td>\n",
       "      <td>0</td>\n",
       "      <td>0.0</td>\n",
       "      <td>30.1827</td>\n",
       "      <td>10.8396</td>\n",
       "      <td>...</td>\n",
       "      <td>0.0</td>\n",
       "      <td>0.0</td>\n",
       "      <td>0.0</td>\n",
       "      <td>0.0</td>\n",
       "      <td>0.345289</td>\n",
       "      <td>1.0</td>\n",
       "      <td>0.0</td>\n",
       "      <td>0.64</td>\n",
       "      <td>1</td>\n",
       "      <td>0.012217</td>\n",
       "    </tr>\n",
       "    <tr>\n",
       "      <th>4</th>\n",
       "      <td>0.001991</td>\n",
       "      <td>-0.902</td>\n",
       "      <td>0.0</td>\n",
       "      <td>2542.53</td>\n",
       "      <td>0.0</td>\n",
       "      <td>93.9997</td>\n",
       "      <td>0</td>\n",
       "      <td>0.0</td>\n",
       "      <td>30.1827</td>\n",
       "      <td>10.8396</td>\n",
       "      <td>...</td>\n",
       "      <td>0.0</td>\n",
       "      <td>0.0</td>\n",
       "      <td>0.0</td>\n",
       "      <td>0.0</td>\n",
       "      <td>0.345289</td>\n",
       "      <td>1.0</td>\n",
       "      <td>0.0</td>\n",
       "      <td>0.64</td>\n",
       "      <td>1</td>\n",
       "      <td>0.012217</td>\n",
       "    </tr>\n",
       "  </tbody>\n",
       "</table>\n",
       "<p>5 rows × 79 columns</p>\n",
       "</div>"
      ],
      "text/plain": [
       "      Angle   CurrentLapTime   Damage   DistanceFromStart   DistanceCovered  \\\n",
       "0  0.001991           -0.982      0.0             2542.53               0.0   \n",
       "1  0.001991           -0.962      0.0             2542.53               0.0   \n",
       "2  0.001991           -0.942      0.0             2542.53               0.0   \n",
       "3  0.001991           -0.922      0.0             2542.53               0.0   \n",
       "4  0.001991           -0.902      0.0             2542.53               0.0   \n",
       "\n",
       "    FuelLevel   Gear   LastLapTime   Opponent_1  Opponent_2  ...  \\\n",
       "0     94.0000      0           0.0      30.1827     10.8396  ...   \n",
       "1     94.0000      0           0.0      30.1827     10.8396  ...   \n",
       "2     93.9999      0           0.0      30.1827     10.8396  ...   \n",
       "3     93.9998      0           0.0      30.1827     10.8396  ...   \n",
       "4     93.9997      0           0.0      30.1827     10.8396  ...   \n",
       "\n",
       "    WheelSpinVelocity_1  WheelSpinVelocity_2  WheelSpinVelocity_3  \\\n",
       "0                   0.0                  0.0                  0.0   \n",
       "1                   0.0                  0.0                  0.0   \n",
       "2                   0.0                  0.0                  0.0   \n",
       "3                   0.0                  0.0                  0.0   \n",
       "4                   0.0                  0.0                  0.0   \n",
       "\n",
       "   WheelSpinVelocity_4         Z   Acceleration  Braking  Clutch  Gear  \\\n",
       "0                  0.0  0.345289            1.0      0.0    0.64     1   \n",
       "1                  0.0  0.345289            1.0      0.0    0.64     1   \n",
       "2                  0.0  0.345289            1.0      0.0    0.64     1   \n",
       "3                  0.0  0.345289            1.0      0.0    0.64     1   \n",
       "4                  0.0  0.345289            1.0      0.0    0.64     1   \n",
       "\n",
       "   Steering  \n",
       "0  0.012217  \n",
       "1  0.012217  \n",
       "2  0.012217  \n",
       "3  0.012217  \n",
       "4  0.012217  \n",
       "\n",
       "[5 rows x 79 columns]"
      ]
     },
     "execution_count": 3,
     "metadata": {},
     "output_type": "execute_result"
    }
   ],
   "source": [
    "# Merge all csv files from collected_data folder\n",
    "df = pd.read_csv(f\"collected_data/{files[0]}\")\n",
    "df.head()"
   ]
  },
  {
   "cell_type": "code",
   "execution_count": 4,
   "metadata": {},
   "outputs": [
    {
     "data": {
      "text/plain": [
       "12738"
      ]
     },
     "execution_count": 4,
     "metadata": {},
     "output_type": "execute_result"
    }
   ],
   "source": [
    "len(df)"
   ]
  },
  {
   "cell_type": "code",
   "execution_count": 5,
   "metadata": {},
   "outputs": [
    {
     "name": "stderr",
     "output_type": "stream",
     "text": [
      "C:\\Users\\sam_y\\AppData\\Local\\Temp\\ipykernel_19000\\2414074000.py:2: FutureWarning: The frame.append method is deprecated and will be removed from pandas in a future version. Use pandas.concat instead.\n",
      "  df = df.append(pd.read_csv(f'collected_data/{file}'), ignore_index=True)\n",
      "C:\\Users\\sam_y\\AppData\\Local\\Temp\\ipykernel_19000\\2414074000.py:2: FutureWarning: The frame.append method is deprecated and will be removed from pandas in a future version. Use pandas.concat instead.\n",
      "  df = df.append(pd.read_csv(f'collected_data/{file}'), ignore_index=True)\n",
      "C:\\Users\\sam_y\\AppData\\Local\\Temp\\ipykernel_19000\\2414074000.py:2: FutureWarning: The frame.append method is deprecated and will be removed from pandas in a future version. Use pandas.concat instead.\n",
      "  df = df.append(pd.read_csv(f'collected_data/{file}'), ignore_index=True)\n",
      "C:\\Users\\sam_y\\AppData\\Local\\Temp\\ipykernel_19000\\2414074000.py:2: FutureWarning: The frame.append method is deprecated and will be removed from pandas in a future version. Use pandas.concat instead.\n",
      "  df = df.append(pd.read_csv(f'collected_data/{file}'), ignore_index=True)\n",
      "C:\\Users\\sam_y\\AppData\\Local\\Temp\\ipykernel_19000\\2414074000.py:2: FutureWarning: The frame.append method is deprecated and will be removed from pandas in a future version. Use pandas.concat instead.\n",
      "  df = df.append(pd.read_csv(f'collected_data/{file}'), ignore_index=True)\n",
      "C:\\Users\\sam_y\\AppData\\Local\\Temp\\ipykernel_19000\\2414074000.py:2: FutureWarning: The frame.append method is deprecated and will be removed from pandas in a future version. Use pandas.concat instead.\n",
      "  df = df.append(pd.read_csv(f'collected_data/{file}'), ignore_index=True)\n",
      "C:\\Users\\sam_y\\AppData\\Local\\Temp\\ipykernel_19000\\2414074000.py:2: FutureWarning: The frame.append method is deprecated and will be removed from pandas in a future version. Use pandas.concat instead.\n",
      "  df = df.append(pd.read_csv(f'collected_data/{file}'), ignore_index=True)\n",
      "C:\\Users\\sam_y\\AppData\\Local\\Temp\\ipykernel_19000\\2414074000.py:2: FutureWarning: The frame.append method is deprecated and will be removed from pandas in a future version. Use pandas.concat instead.\n",
      "  df = df.append(pd.read_csv(f'collected_data/{file}'), ignore_index=True)\n",
      "C:\\Users\\sam_y\\AppData\\Local\\Temp\\ipykernel_19000\\2414074000.py:2: FutureWarning: The frame.append method is deprecated and will be removed from pandas in a future version. Use pandas.concat instead.\n",
      "  df = df.append(pd.read_csv(f'collected_data/{file}'), ignore_index=True)\n",
      "C:\\Users\\sam_y\\AppData\\Local\\Temp\\ipykernel_19000\\2414074000.py:2: FutureWarning: The frame.append method is deprecated and will be removed from pandas in a future version. Use pandas.concat instead.\n",
      "  df = df.append(pd.read_csv(f'collected_data/{file}'), ignore_index=True)\n",
      "C:\\Users\\sam_y\\AppData\\Local\\Temp\\ipykernel_19000\\2414074000.py:2: FutureWarning: The frame.append method is deprecated and will be removed from pandas in a future version. Use pandas.concat instead.\n",
      "  df = df.append(pd.read_csv(f'collected_data/{file}'), ignore_index=True)\n",
      "C:\\Users\\sam_y\\AppData\\Local\\Temp\\ipykernel_19000\\2414074000.py:2: FutureWarning: The frame.append method is deprecated and will be removed from pandas in a future version. Use pandas.concat instead.\n",
      "  df = df.append(pd.read_csv(f'collected_data/{file}'), ignore_index=True)\n",
      "C:\\Users\\sam_y\\AppData\\Local\\Temp\\ipykernel_19000\\2414074000.py:2: FutureWarning: The frame.append method is deprecated and will be removed from pandas in a future version. Use pandas.concat instead.\n",
      "  df = df.append(pd.read_csv(f'collected_data/{file}'), ignore_index=True)\n",
      "C:\\Users\\sam_y\\AppData\\Local\\Temp\\ipykernel_19000\\2414074000.py:2: FutureWarning: The frame.append method is deprecated and will be removed from pandas in a future version. Use pandas.concat instead.\n",
      "  df = df.append(pd.read_csv(f'collected_data/{file}'), ignore_index=True)\n",
      "C:\\Users\\sam_y\\AppData\\Local\\Temp\\ipykernel_19000\\2414074000.py:2: FutureWarning: The frame.append method is deprecated and will be removed from pandas in a future version. Use pandas.concat instead.\n",
      "  df = df.append(pd.read_csv(f'collected_data/{file}'), ignore_index=True)\n",
      "C:\\Users\\sam_y\\AppData\\Local\\Temp\\ipykernel_19000\\2414074000.py:2: FutureWarning: The frame.append method is deprecated and will be removed from pandas in a future version. Use pandas.concat instead.\n",
      "  df = df.append(pd.read_csv(f'collected_data/{file}'), ignore_index=True)\n",
      "C:\\Users\\sam_y\\AppData\\Local\\Temp\\ipykernel_19000\\2414074000.py:2: FutureWarning: The frame.append method is deprecated and will be removed from pandas in a future version. Use pandas.concat instead.\n",
      "  df = df.append(pd.read_csv(f'collected_data/{file}'), ignore_index=True)\n",
      "C:\\Users\\sam_y\\AppData\\Local\\Temp\\ipykernel_19000\\2414074000.py:2: FutureWarning: The frame.append method is deprecated and will be removed from pandas in a future version. Use pandas.concat instead.\n",
      "  df = df.append(pd.read_csv(f'collected_data/{file}'), ignore_index=True)\n",
      "C:\\Users\\sam_y\\AppData\\Local\\Temp\\ipykernel_19000\\2414074000.py:2: FutureWarning: The frame.append method is deprecated and will be removed from pandas in a future version. Use pandas.concat instead.\n",
      "  df = df.append(pd.read_csv(f'collected_data/{file}'), ignore_index=True)\n",
      "C:\\Users\\sam_y\\AppData\\Local\\Temp\\ipykernel_19000\\2414074000.py:2: FutureWarning: The frame.append method is deprecated and will be removed from pandas in a future version. Use pandas.concat instead.\n",
      "  df = df.append(pd.read_csv(f'collected_data/{file}'), ignore_index=True)\n",
      "C:\\Users\\sam_y\\AppData\\Local\\Temp\\ipykernel_19000\\2414074000.py:2: FutureWarning: The frame.append method is deprecated and will be removed from pandas in a future version. Use pandas.concat instead.\n",
      "  df = df.append(pd.read_csv(f'collected_data/{file}'), ignore_index=True)\n",
      "C:\\Users\\sam_y\\AppData\\Local\\Temp\\ipykernel_19000\\2414074000.py:2: FutureWarning: The frame.append method is deprecated and will be removed from pandas in a future version. Use pandas.concat instead.\n",
      "  df = df.append(pd.read_csv(f'collected_data/{file}'), ignore_index=True)\n",
      "C:\\Users\\sam_y\\AppData\\Local\\Temp\\ipykernel_19000\\2414074000.py:2: FutureWarning: The frame.append method is deprecated and will be removed from pandas in a future version. Use pandas.concat instead.\n",
      "  df = df.append(pd.read_csv(f'collected_data/{file}'), ignore_index=True)\n",
      "C:\\Users\\sam_y\\AppData\\Local\\Temp\\ipykernel_19000\\2414074000.py:2: FutureWarning: The frame.append method is deprecated and will be removed from pandas in a future version. Use pandas.concat instead.\n",
      "  df = df.append(pd.read_csv(f'collected_data/{file}'), ignore_index=True)\n",
      "C:\\Users\\sam_y\\AppData\\Local\\Temp\\ipykernel_19000\\2414074000.py:2: FutureWarning: The frame.append method is deprecated and will be removed from pandas in a future version. Use pandas.concat instead.\n",
      "  df = df.append(pd.read_csv(f'collected_data/{file}'), ignore_index=True)\n",
      "C:\\Users\\sam_y\\AppData\\Local\\Temp\\ipykernel_19000\\2414074000.py:2: FutureWarning: The frame.append method is deprecated and will be removed from pandas in a future version. Use pandas.concat instead.\n",
      "  df = df.append(pd.read_csv(f'collected_data/{file}'), ignore_index=True)\n",
      "C:\\Users\\sam_y\\AppData\\Local\\Temp\\ipykernel_19000\\2414074000.py:2: FutureWarning: The frame.append method is deprecated and will be removed from pandas in a future version. Use pandas.concat instead.\n",
      "  df = df.append(pd.read_csv(f'collected_data/{file}'), ignore_index=True)\n"
     ]
    }
   ],
   "source": [
    "for file in files[1:]:\n",
    "    df = df.append(pd.read_csv(f'collected_data/{file}'), ignore_index=True)"
   ]
  },
  {
   "cell_type": "code",
   "execution_count": 6,
   "metadata": {},
   "outputs": [
    {
     "data": {
      "text/plain": [
       "330043"
      ]
     },
     "execution_count": 6,
     "metadata": {},
     "output_type": "execute_result"
    }
   ],
   "source": [
    "len(df)"
   ]
  },
  {
   "cell_type": "code",
   "execution_count": 7,
   "metadata": {},
   "outputs": [
    {
     "data": {
      "text/plain": [
       "Index(['Angle', ' CurrentLapTime', ' Damage', ' DistanceFromStart',\n",
       "       ' DistanceCovered', ' FuelLevel', ' Gear', ' LastLapTime',\n",
       "       ' Opponent_1', 'Opponent_2', 'Opponent_3', 'Opponent_4', 'Opponent_5',\n",
       "       'Opponent_6', 'Opponent_7', 'Opponent_8', 'Opponent_9', 'Opponent_10',\n",
       "       'Opponent_11', 'Opponent_12', 'Opponent_13', 'Opponent_14',\n",
       "       'Opponent_15', 'Opponent_16', 'Opponent_17', 'Opponent_18',\n",
       "       'Opponent_19', 'Opponent_20', 'Opponent_21', 'Opponent_22',\n",
       "       'Opponent_23', 'Opponent_24', 'Opponent_25', 'Opponent_26',\n",
       "       'Opponent_27', 'Opponent_28', 'Opponent_29', 'Opponent_30',\n",
       "       'Opponent_31', 'Opponent_32', 'Opponent_33', 'Opponent_34',\n",
       "       'Opponent_35', 'Opponent_36', 'RacePosition', ' RPM', ' SpeedX',\n",
       "       ' SpeedY', ' SpeedZ', ' Track_1', 'Track_2', 'Track_3', 'Track_4',\n",
       "       'Track_5', 'Track_6', 'Track_7', 'Track_8', 'Track_9', 'Track_10',\n",
       "       'Track_11', 'Track_12', 'Track_13', 'Track_14', 'Track_15', 'Track_16',\n",
       "       'Track_17', 'Track_18', 'Track_19', 'TrackPosition',\n",
       "       ' WheelSpinVelocity_1', 'WheelSpinVelocity_2', 'WheelSpinVelocity_3',\n",
       "       'WheelSpinVelocity_4', 'Z', ' Acceleration', 'Braking', 'Clutch',\n",
       "       'Gear', 'Steering'],\n",
       "      dtype='object')"
      ]
     },
     "execution_count": 7,
     "metadata": {},
     "output_type": "execute_result"
    }
   ],
   "source": [
    "df.columns"
   ]
  },
  {
   "cell_type": "markdown",
   "metadata": {},
   "source": [
    "# Prepare PyTorch Data"
   ]
  },
  {
   "cell_type": "code",
   "execution_count": 8,
   "metadata": {},
   "outputs": [
    {
     "data": {
      "text/plain": [
       "device(type='cuda')"
      ]
     },
     "execution_count": 8,
     "metadata": {},
     "output_type": "execute_result"
    }
   ],
   "source": [
    "# Check if GPU is available\n",
    "device = torch.device('cuda' if torch.cuda.is_available() else 'cpu')\n",
    "device"
   ]
  },
  {
   "cell_type": "code",
   "execution_count": 9,
   "metadata": {},
   "outputs": [
    {
     "data": {
      "text/plain": [
       "Index(['Angle', ' CurrentLapTime', ' Damage', ' DistanceFromStart',\n",
       "       ' DistanceCovered', ' FuelLevel', ' Gear', ' LastLapTime',\n",
       "       ' Opponent_1', 'Opponent_2', 'Opponent_3', 'Opponent_4', 'Opponent_5',\n",
       "       'Opponent_6', 'Opponent_7', 'Opponent_8', 'Opponent_9', 'Opponent_10',\n",
       "       'Opponent_11', 'Opponent_12', 'Opponent_13', 'Opponent_14',\n",
       "       'Opponent_15', 'Opponent_16', 'Opponent_17', 'Opponent_18',\n",
       "       'Opponent_19', 'Opponent_20', 'Opponent_21', 'Opponent_22',\n",
       "       'Opponent_23', 'Opponent_24', 'Opponent_25', 'Opponent_26',\n",
       "       'Opponent_27', 'Opponent_28', 'Opponent_29', 'Opponent_30',\n",
       "       'Opponent_31', 'Opponent_32', 'Opponent_33', 'Opponent_34',\n",
       "       'Opponent_35', 'Opponent_36', 'RacePosition', ' RPM', ' SpeedX',\n",
       "       ' SpeedY', ' SpeedZ', ' Track_1', 'Track_2', 'Track_3', 'Track_4',\n",
       "       'Track_5', 'Track_6', 'Track_7', 'Track_8', 'Track_9', 'Track_10',\n",
       "       'Track_11', 'Track_12', 'Track_13', 'Track_14', 'Track_15', 'Track_16',\n",
       "       'Track_17', 'Track_18', 'Track_19', 'TrackPosition',\n",
       "       ' WheelSpinVelocity_1', 'WheelSpinVelocity_2', 'WheelSpinVelocity_3',\n",
       "       'WheelSpinVelocity_4', 'Z', ' Acceleration', 'Braking', 'Clutch',\n",
       "       'Gear', 'Steering'],\n",
       "      dtype='object')"
      ]
     },
     "execution_count": 9,
     "metadata": {},
     "output_type": "execute_result"
    }
   ],
   "source": [
    "df.columns"
   ]
  },
  {
   "cell_type": "code",
   "execution_count": 10,
   "metadata": {},
   "outputs": [],
   "source": [
    "x_columns = [\n",
    "    \"Angle\",\n",
    "    \" DistanceCovered\",  # Distance raced\n",
    "    \" Opponent_1\", \"Opponent_2\", \"Opponent_3\", \"Opponent_4\", \"Opponent_5\", \"Opponent_6\", \"Opponent_7\", \"Opponent_8\", \"Opponent_9\", \"Opponent_10\", \"Opponent_11\", \"Opponent_12\", \"Opponent_13\", \"Opponent_14\", \"Opponent_15\", \"Opponent_16\", \"Opponent_17\", \"Opponent_18\", \"Opponent_19\", \"Opponent_20\", \"Opponent_21\", \"Opponent_22\", \"Opponent_23\", \"Opponent_24\", \"Opponent_25\", \"Opponent_26\", \"Opponent_27\", \"Opponent_28\", \"Opponent_29\", \"Opponent_30\", \"Opponent_31\", \"Opponent_32\", \"Opponent_33\", \"Opponent_34\", \"Opponent_35\", \"Opponent_36\",\n",
    "    \" RPM\",\n",
    "    \" SpeedX\",\n",
    "    \" SpeedY\",\n",
    "    \" SpeedZ\",\n",
    "    \" Track_1\", \"Track_2\", \"Track_3\", \"Track_4\", \"Track_5\", \"Track_6\", \"Track_7\", \"Track_8\", \"Track_9\", \"Track_10\", \"Track_11\", \"Track_12\", \"Track_13\", \"Track_14\", \"Track_15\", \"Track_16\", \"Track_17\", \"Track_18\", \"Track_19\",\n",
    "    \"TrackPosition\",\n",
    "    \" WheelSpinVelocity_1\",\n",
    "    \"WheelSpinVelocity_2\",\n",
    "    \"WheelSpinVelocity_3\",\n",
    "    \"WheelSpinVelocity_4\",\n",
    "    \"Z\",\n",
    "]\n",
    "y_columns = [\" Acceleration\", \"Braking\", \"Steering\"]"
   ]
  },
  {
   "cell_type": "code",
   "execution_count": 11,
   "metadata": {},
   "outputs": [],
   "source": [
    "# Select relevant columns for features and target\n",
    "features = df[x_columns]\n",
    "targets = df[y_columns]\n",
    "\n",
    "# Normalize features\n",
    "scaler = StandardScaler()\n",
    "features = scaler.fit_transform(features)\n",
    "\n",
    "# Split the dataset\n",
    "X_train, X_test, y_train, y_test = train_test_split(features, targets, test_size=0.2,)\n",
    "\n",
    "# Convert to PyTorch tensors\n",
    "X_train = torch.tensor(X_train, dtype=torch.float32).to(device)\n",
    "X_test = torch.tensor(X_test, dtype=torch.float32).to(device)\n",
    "y_train = torch.tensor(y_train.values, dtype=torch.float32).to(device)\n",
    "y_test = torch.tensor(y_test.values, dtype=torch.float32).to(device)\n"
   ]
  },
  {
   "cell_type": "code",
   "execution_count": 12,
   "metadata": {},
   "outputs": [],
   "source": [
    "train_dataset = torch.utils.data.TensorDataset(X_train, y_train)\n",
    "test_dataset = torch.utils.data.TensorDataset(X_test, y_test)\n",
    "train_loader = DataLoader(train_dataset, batch_size=256, shuffle=True)\n",
    "test_loader = DataLoader(test_dataset, batch_size=256, shuffle=False)"
   ]
  },
  {
   "cell_type": "code",
   "execution_count": 13,
   "metadata": {},
   "outputs": [
    {
     "data": {
      "text/plain": [
       "(67, 3)"
      ]
     },
     "execution_count": 13,
     "metadata": {},
     "output_type": "execute_result"
    }
   ],
   "source": [
    "X_train.shape[1], y_train.shape[1]"
   ]
  },
  {
   "cell_type": "code",
   "execution_count": 14,
   "metadata": {},
   "outputs": [
    {
     "name": "stdout",
     "output_type": "stream",
     "text": [
      "67 3\n"
     ]
    }
   ],
   "source": [
    "class Model(nn.Module):\n",
    "    def __init__(self, input_size, output_size):\n",
    "        super(Model, self).__init__()\n",
    "        self.fc1 = nn.Linear(input_size, 128)\n",
    "        self.fc2 = nn.Linear(128, 64)\n",
    "        self.fc3 = nn.Linear(64, 32)\n",
    "        self.fc4 = nn.Linear(32, 16)\n",
    "        self.fc5 = nn.Linear(16, 8)\n",
    "        self.fc6 = nn.Linear(8, output_size)\n",
    "    def forward(self, x):\n",
    "        x = torch.relu(self.fc1(x))\n",
    "        x = torch.relu(self.fc2(x))\n",
    "        x = torch.relu(self.fc3(x))\n",
    "        x = torch.relu(self.fc4(x))\n",
    "        x = torch.relu(self.fc5(x))\n",
    "        x = self.fc6(x)\n",
    "        return x\n",
    "    \n",
    "model = Model(X_train.shape[1], y_train.shape[1]).to(device)\n",
    "print(X_train.shape[1], y_train.shape[1])\n",
    "    "
   ]
  },
  {
   "cell_type": "code",
   "execution_count": 15,
   "metadata": {},
   "outputs": [
    {
     "data": {
      "application/vnd.jupyter.widget-view+json": {
       "model_id": "ae3fafe159f74225bc05f43cbdb3bb83",
       "version_major": 2,
       "version_minor": 0
      },
      "text/plain": [
       "  0%|          | 0/250 [00:00<?, ?it/s]"
      ]
     },
     "metadata": {},
     "output_type": "display_data"
    },
    {
     "name": "stdout",
     "output_type": "stream",
     "text": [
      "Epoch 1/250, Train Loss: 0.05525660816067469, Val Loss: 0.030579622834920883, Val R2: 0.4428989964731391\n",
      "Epoch 2/250, Train Loss: 0.026174350301446322, Val Loss: 0.023691434413194656, Val R2: 0.5409922448691858\n",
      "Epoch 3/250, Train Loss: 0.02068723130487483, Val Loss: 0.02002212405204773, Val R2: 0.6072869167080138\n",
      "Epoch 4/250, Train Loss: 0.016542695186555732, Val Loss: 0.016672750934958458, Val R2: 0.6816974098988515\n",
      "Epoch 5/250, Train Loss: 0.014165445108620032, Val Loss: 0.013847594149410725, Val R2: 0.7337564573350269\n",
      "Epoch 6/250, Train Loss: 0.012875535677894661, Val Loss: 0.013407017104327679, Val R2: 0.7478349564890605\n",
      "Epoch 7/250, Train Loss: 0.012074246636209216, Val Loss: 0.012800510972738266, Val R2: 0.7472705635640122\n",
      "Epoch 8/250, Train Loss: 0.011345312785350017, Val Loss: 0.01196694653481245, Val R2: 0.7673546506681932\n",
      "Epoch 9/250, Train Loss: 0.010912133115452043, Val Loss: 0.011879303492605686, Val R2: 0.7732130705627082\n",
      "Epoch 10/250, Train Loss: 0.010433932496938681, Val Loss: 0.011351652443408966, Val R2: 0.7823666844419042\n",
      "Epoch 11/250, Train Loss: 0.010196001121824852, Val Loss: 0.011470960453152657, Val R2: 0.7822912627911981\n",
      "Epoch 12/250, Train Loss: 0.00992971489611154, Val Loss: 0.01100869383662939, Val R2: 0.789409356738783\n",
      "Epoch 13/250, Train Loss: 0.009678968042044994, Val Loss: 0.010720632039010525, Val R2: 0.7888862884975879\n",
      "Epoch 14/250, Train Loss: 0.00941302243560596, Val Loss: 0.010864087380468845, Val R2: 0.7956844110723423\n",
      "Epoch 15/250, Train Loss: 0.009282539996621741, Val Loss: 0.010909441858530045, Val R2: 0.7906191133567129\n",
      "Epoch 16/250, Train Loss: 0.009168636953311994, Val Loss: 0.010123721323907375, Val R2: 0.8019788940429803\n",
      "Epoch 17/250, Train Loss: 0.009020580189544419, Val Loss: 0.010136700235307217, Val R2: 0.803096910714404\n",
      "Epoch 18/250, Train Loss: 0.008863332274806679, Val Loss: 0.01014003437012434, Val R2: 0.8031926014406583\n",
      "Epoch 19/250, Train Loss: 0.008792853918713482, Val Loss: 0.010276797227561474, Val R2: 0.8011056354383234\n",
      "Epoch 20/250, Train Loss: 0.00864324873618334, Val Loss: 0.009724220260977745, Val R2: 0.8101342313777744\n",
      "Epoch 21/250, Train Loss: 0.008442354302125976, Val Loss: 0.009911829605698586, Val R2: 0.8081099836851777\n",
      "Epoch 22/250, Train Loss: 0.008349856062812095, Val Loss: 0.009895579889416695, Val R2: 0.8078655215875976\n",
      "Epoch 23/250, Train Loss: 0.008276295025387143, Val Loss: 0.009591766633093357, Val R2: 0.8119669643198972\n",
      "Epoch 24/250, Train Loss: 0.008177779199349759, Val Loss: 0.009638369083404541, Val R2: 0.8140633102650311\n",
      "Epoch 25/250, Train Loss: 0.00805152676455395, Val Loss: 0.009780199266970158, Val R2: 0.8075492119279826\n",
      "Epoch 26/250, Train Loss: 0.00800378717524505, Val Loss: 0.009733741171658039, Val R2: 0.8075357769582229\n",
      "Epoch 27/250, Train Loss: 0.00789092982376478, Val Loss: 0.009594013914465904, Val R2: 0.8130080053046895\n",
      "Epoch 28/250, Train Loss: 0.007805366070883334, Val Loss: 0.0099253561347723, Val R2: 0.8083012567231312\n",
      "Epoch 29/250, Train Loss: 0.007829986936358606, Val Loss: 0.009313912130892277, Val R2: 0.818303031267383\n",
      "Epoch 30/250, Train Loss: 0.0076840638235850306, Val Loss: 0.009711234830319881, Val R2: 0.8070959632683407\n",
      "Epoch 31/250, Train Loss: 0.007729803792033128, Val Loss: 0.009198226034641266, Val R2: 0.8204294578280454\n",
      "Epoch 32/250, Train Loss: 0.007586105062234641, Val Loss: 0.009137234650552273, Val R2: 0.8221240155443089\n",
      "Epoch 33/250, Train Loss: 0.007498282739078597, Val Loss: 0.00949800107628107, Val R2: 0.8131228881214869\n",
      "Epoch 34/250, Train Loss: 0.007405702905032726, Val Loss: 0.009631944820284843, Val R2: 0.8107414564578396\n",
      "Epoch 35/250, Train Loss: 0.007402769341124511, Val Loss: 0.00951146800071001, Val R2: 0.8142443935799207\n",
      "Epoch 36/250, Train Loss: 0.007416282041817759, Val Loss: 0.009361417032778263, Val R2: 0.8140263519097207\n",
      "Epoch 37/250, Train Loss: 0.007186526363370796, Val Loss: 0.009162860922515392, Val R2: 0.8221457608140899\n",
      "Epoch 38/250, Train Loss: 0.007189402998381749, Val Loss: 0.009650309570133686, Val R2: 0.8115662120970887\n",
      "Epoch 39/250, Train Loss: 0.007107941127858709, Val Loss: 0.009178479202091694, Val R2: 0.8219631172859417\n",
      "Epoch 40/250, Train Loss: 0.007196168010953323, Val Loss: 0.008648311719298363, Val R2: 0.8284880105434428\n",
      "Epoch 41/250, Train Loss: 0.0070352723879302855, Val Loss: 0.009017438627779484, Val R2: 0.8251595060400319\n",
      "Epoch 42/250, Train Loss: 0.006980859047314513, Val Loss: 0.009339453652501106, Val R2: 0.8172099423329335\n",
      "Epoch 43/250, Train Loss: 0.006969855262179563, Val Loss: 0.008985850028693676, Val R2: 0.8252772512564436\n",
      "Epoch 44/250, Train Loss: 0.006904547501855364, Val Loss: 0.009106478653848171, Val R2: 0.823998401511698\n",
      "Epoch 45/250, Train Loss: 0.006928159888245368, Val Loss: 0.008873471058905125, Val R2: 0.826773130687351\n",
      "Epoch 46/250, Train Loss: 0.006862273372307261, Val Loss: 0.008740468882024288, Val R2: 0.8297479059924627\n",
      "Epoch 47/250, Train Loss: 0.006819615351729268, Val Loss: 0.008869687095284462, Val R2: 0.8245366890010742\n",
      "Epoch 48/250, Train Loss: 0.006717501926306245, Val Loss: 0.008856222964823246, Val R2: 0.8263392798073254\n",
      "Epoch 49/250, Train Loss: 0.006753463892116348, Val Loss: 0.008857564069330692, Val R2: 0.827664926572842\n",
      "Epoch 50/250, Train Loss: 0.006664430381921517, Val Loss: 0.008653366006910801, Val R2: 0.8297538159173512\n",
      "Epoch 51/250, Train Loss: 0.006606523742377686, Val Loss: 0.008842202834784985, Val R2: 0.8304245000603672\n",
      "Epoch 52/250, Train Loss: 0.006601451316761763, Val Loss: 0.008746696636080742, Val R2: 0.8271490363501001\n",
      "Epoch 53/250, Train Loss: 0.006565772226872645, Val Loss: 0.008703012019395828, Val R2: 0.8288037003835781\n",
      "Epoch 54/250, Train Loss: 0.006523226657178426, Val Loss: 0.008811363019049168, Val R2: 0.8283572200032339\n",
      "Epoch 55/250, Train Loss: 0.0064444313484132145, Val Loss: 0.008494838140904903, Val R2: 0.833501821815538\n",
      "Epoch 56/250, Train Loss: 0.006463015277178727, Val Loss: 0.00922626256942749, Val R2: 0.8175435765153592\n",
      "Epoch 57/250, Train Loss: 0.0064691168850814825, Val Loss: 0.00864457804709673, Val R2: 0.8318604657902395\n",
      "Epoch 58/250, Train Loss: 0.006401236403901347, Val Loss: 0.008751421235501766, Val R2: 0.8263886351986264\n",
      "Epoch 59/250, Train Loss: 0.006359372857431051, Val Loss: 0.008466667495667934, Val R2: 0.8339010190458808\n",
      "Epoch 60/250, Train Loss: 0.006396839316878396, Val Loss: 0.008641503751277924, Val R2: 0.8293528395491129\n",
      "Epoch 61/250, Train Loss: 0.006311284287024087, Val Loss: 0.00853144284337759, Val R2: 0.8326059816235675\n",
      "Epoch 62/250, Train Loss: 0.006363425399095557, Val Loss: 0.008593065664172173, Val R2: 0.832534643908729\n",
      "Epoch 63/250, Train Loss: 0.006267252231969736, Val Loss: 0.00889482069760561, Val R2: 0.820201175050124\n",
      "Epoch 64/250, Train Loss: 0.006210664656309252, Val Loss: 0.008444530889391899, Val R2: 0.8365037962622787\n",
      "Epoch 65/250, Train Loss: 0.006221730790647873, Val Loss: 0.008694909512996674, Val R2: 0.8323996229382411\n",
      "Epoch 66/250, Train Loss: 0.00621089978570429, Val Loss: 0.008672919124364853, Val R2: 0.8327847503538471\n",
      "Epoch 67/250, Train Loss: 0.00618821944677733, Val Loss: 0.008497563190758228, Val R2: 0.8332126944132491\n",
      "Epoch 68/250, Train Loss: 0.00621571689447056, Val Loss: 0.008539717644453049, Val R2: 0.8319232737289651\n",
      "Epoch 69/250, Train Loss: 0.006053793505547106, Val Loss: 0.008403581567108631, Val R2: 0.8357342935739153\n",
      "Epoch 70/250, Train Loss: 0.006125831215321122, Val Loss: 0.008914650417864323, Val R2: 0.8220343365250738\n",
      "Epoch 71/250, Train Loss: 0.006062695153947385, Val Loss: 0.008467595092952251, Val R2: 0.8340372353660043\n",
      "Epoch 72/250, Train Loss: 0.0061341898117391325, Val Loss: 0.008366228081285954, Val R2: 0.8340955510330547\n",
      "Epoch 73/250, Train Loss: 0.006053192140769156, Val Loss: 0.008634692057967186, Val R2: 0.8297904913534081\n",
      "Epoch 74/250, Train Loss: 0.006022673307344057, Val Loss: 0.008710348978638649, Val R2: 0.8284004342766297\n",
      "Epoch 75/250, Train Loss: 0.006030430260805644, Val Loss: 0.008483472280204296, Val R2: 0.8325670261039179\n",
      "Epoch 76/250, Train Loss: 0.005991910824546764, Val Loss: 0.008724006824195385, Val R2: 0.8316989799767175\n",
      "Epoch 77/250, Train Loss: 0.005924090683954775, Val Loss: 0.008516213856637478, Val R2: 0.8328413885307624\n",
      "Epoch 78/250, Train Loss: 0.005966433763297368, Val Loss: 0.008529137820005417, Val R2: 0.8340599585634255\n",
      "Epoch 79/250, Train Loss: 0.005938790921553204, Val Loss: 0.008783447556197643, Val R2: 0.8231289302046384\n",
      "Epoch 80/250, Train Loss: 0.005876003929942687, Val Loss: 0.00833231583237648, Val R2: 0.8356935354126644\n",
      "Epoch 81/250, Train Loss: 0.005939658205322705, Val Loss: 0.0083018708974123, Val R2: 0.8349350620372659\n",
      "Epoch 82/250, Train Loss: 0.00586500116378022, Val Loss: 0.008427920751273632, Val R2: 0.8344071238030676\n",
      "Epoch 83/250, Train Loss: 0.005851976739968238, Val Loss: 0.008324618451297283, Val R2: 0.834760546182567\n",
      "Epoch 84/250, Train Loss: 0.005881220383872819, Val Loss: 0.008221551775932312, Val R2: 0.8387780979177785\n",
      "Epoch 85/250, Train Loss: 0.005832779632976943, Val Loss: 0.008314096368849277, Val R2: 0.8351401916184734\n",
      "Epoch 86/250, Train Loss: 0.005762442501077732, Val Loss: 0.008519341237843037, Val R2: 0.8325709248695463\n",
      "Epoch 87/250, Train Loss: 0.005753726224900519, Val Loss: 0.00844562891870737, Val R2: 0.8335104492400642\n",
      "Epoch 88/250, Train Loss: 0.005733783410766429, Val Loss: 0.00831573735922575, Val R2: 0.8363292037554446\n",
      "Epoch 89/250, Train Loss: 0.005731886576174383, Val Loss: 0.008135245181620121, Val R2: 0.8396099872731785\n",
      "Epoch 90/250, Train Loss: 0.005768632066622015, Val Loss: 0.008481068536639214, Val R2: 0.8347743301225176\n",
      "Epoch 91/250, Train Loss: 0.005702989334520314, Val Loss: 0.008130553178489208, Val R2: 0.8388865565463219\n",
      "Epoch 92/250, Train Loss: 0.005755491160707325, Val Loss: 0.00820377841591835, Val R2: 0.8373744188909124\n",
      "Epoch 93/250, Train Loss: 0.005662401317904862, Val Loss: 0.008161303587257862, Val R2: 0.8405977842453289\n",
      "Epoch 94/250, Train Loss: 0.005642340614418896, Val Loss: 0.008190911263227463, Val R2: 0.8364864823957673\n",
      "Epoch 95/250, Train Loss: 0.005644258382899846, Val Loss: 0.008154990151524544, Val R2: 0.8401279717698644\n",
      "Epoch 96/250, Train Loss: 0.005682862981704475, Val Loss: 0.008299456909298897, Val R2: 0.836936601801554\n",
      "Epoch 97/250, Train Loss: 0.005615134117041909, Val Loss: 0.00805722177028656, Val R2: 0.8405255233101809\n",
      "Epoch 98/250, Train Loss: 0.005544264618552817, Val Loss: 0.00814503338187933, Val R2: 0.8408225046916712\n",
      "Epoch 99/250, Train Loss: 0.0056318915388167854, Val Loss: 0.008194457739591599, Val R2: 0.83546448189004\n",
      "Epoch 100/250, Train Loss: 0.005525325759663247, Val Loss: 0.007956279441714287, Val R2: 0.8407066306568692\n",
      "Epoch 101/250, Train Loss: 0.00561013901218151, Val Loss: 0.007941603660583496, Val R2: 0.842714097656987\n",
      "Epoch 102/250, Train Loss: 0.00550192116661351, Val Loss: 0.008153802715241909, Val R2: 0.8378734166379781\n",
      "Epoch 103/250, Train Loss: 0.005566296060055191, Val Loss: 0.00810443889349699, Val R2: 0.8380123996650647\n",
      "Epoch 104/250, Train Loss: 0.005514365133365558, Val Loss: 0.008114590309560299, Val R2: 0.8400139195307137\n",
      "Epoch 105/250, Train Loss: 0.005470105591040581, Val Loss: 0.008272850885987282, Val R2: 0.8361231226584113\n",
      "Epoch 106/250, Train Loss: 0.00547470856623096, Val Loss: 0.00820970255881548, Val R2: 0.8346252590360193\n",
      "Epoch 107/250, Train Loss: 0.005454951940355245, Val Loss: 0.008280669339001179, Val R2: 0.838266256542716\n",
      "Epoch 108/250, Train Loss: 0.00545657855524436, Val Loss: 0.008221673779189587, Val R2: 0.8383268180355444\n",
      "Epoch 109/250, Train Loss: 0.0054965333403052055, Val Loss: 0.007946066558361053, Val R2: 0.8414146429522936\n",
      "Epoch 110/250, Train Loss: 0.005448473822514981, Val Loss: 0.00821220874786377, Val R2: 0.8373263552248839\n",
      "Epoch 111/250, Train Loss: 0.005489451102073153, Val Loss: 0.008209092542529106, Val R2: 0.8343375824448306\n",
      "Epoch 112/250, Train Loss: 0.0054171284655733535, Val Loss: 0.008085615932941437, Val R2: 0.8379082867627098\n",
      "Epoch 113/250, Train Loss: 0.0054058209899767815, Val Loss: 0.008413475938141346, Val R2: 0.8380334147083764\n",
      "Epoch 114/250, Train Loss: 0.005383758892778076, Val Loss: 0.008143585175275803, Val R2: 0.83620511739317\n",
      "Epoch 115/250, Train Loss: 0.005404984450343158, Val Loss: 0.008037983439862728, Val R2: 0.8416343169753603\n",
      "Epoch 116/250, Train Loss: 0.005324836392605374, Val Loss: 0.008089007809758186, Val R2: 0.8392426897588207\n",
      "Epoch 117/250, Train Loss: 0.005319983070552017, Val Loss: 0.008208454586565495, Val R2: 0.8376282965594664\n",
      "Epoch 118/250, Train Loss: 0.005376312335165282, Val Loss: 0.00809802021831274, Val R2: 0.8392183301079452\n",
      "Epoch 119/250, Train Loss: 0.005449462992675212, Val Loss: 0.008274215273559093, Val R2: 0.8380814851380958\n",
      "Epoch 120/250, Train Loss: 0.005306367013132373, Val Loss: 0.008138387463986874, Val R2: 0.8399165099101532\n",
      "Epoch 121/250, Train Loss: 0.005298087622901757, Val Loss: 0.008349780924618244, Val R2: 0.8368057380468236\n",
      "Epoch 122/250, Train Loss: 0.005294253043207708, Val Loss: 0.007990417070686817, Val R2: 0.8416367225194299\n",
      "Epoch 123/250, Train Loss: 0.005260729308099335, Val Loss: 0.008018647320568562, Val R2: 0.8401526403154063\n",
      "Epoch 124/250, Train Loss: 0.0052863387190177314, Val Loss: 0.00807847362011671, Val R2: 0.8424886917264097\n",
      "Epoch 125/250, Train Loss: 0.0052884197702528475, Val Loss: 0.007868330925703049, Val R2: 0.8442559295914904\n",
      "Epoch 126/250, Train Loss: 0.0052103988493272906, Val Loss: 0.007910954765975475, Val R2: 0.8415470550137479\n",
      "Epoch 127/250, Train Loss: 0.005305056005595396, Val Loss: 0.008087887428700924, Val R2: 0.8367264771731399\n",
      "Epoch 128/250, Train Loss: 0.005230362780659294, Val Loss: 0.008103433065116405, Val R2: 0.8415829898330119\n",
      "Epoch 129/250, Train Loss: 0.005193249253662621, Val Loss: 0.008185228332877159, Val R2: 0.8378188463825854\n",
      "Epoch 130/250, Train Loss: 0.0052343421372451435, Val Loss: 0.007947220467031002, Val R2: 0.843331885085172\n",
      "Epoch 131/250, Train Loss: 0.0052318527896134115, Val Loss: 0.008194376714527607, Val R2: 0.837341744970835\n",
      "Epoch 132/250, Train Loss: 0.005226458860299543, Val Loss: 0.008015627972781658, Val R2: 0.8402010470506504\n",
      "Epoch 133/250, Train Loss: 0.005217812995763871, Val Loss: 0.008076668716967106, Val R2: 0.8384468049341072\n",
      "Epoch 134/250, Train Loss: 0.005206743402468842, Val Loss: 0.0079403230920434, Val R2: 0.8445375934273839\n",
      "Epoch 135/250, Train Loss: 0.005170183162639899, Val Loss: 0.008177577517926693, Val R2: 0.839313367027127\n",
      "Epoch 136/250, Train Loss: 0.005157858919570685, Val Loss: 0.008028248324990273, Val R2: 0.843039223746552\n",
      "Epoch 137/250, Train Loss: 0.00516400815848651, Val Loss: 0.008034767583012581, Val R2: 0.8412810351450055\n",
      "Epoch 138/250, Train Loss: 0.005133797367560937, Val Loss: 0.007789658848196268, Val R2: 0.8458560626515886\n",
      "Epoch 139/250, Train Loss: 0.005156519489548739, Val Loss: 0.008023642003536224, Val R2: 0.8421974852239104\n",
      "Epoch 140/250, Train Loss: 0.0051099737460207, Val Loss: 0.008042562752962112, Val R2: 0.8411284946903628\n",
      "Epoch 141/250, Train Loss: 0.005195781244384666, Val Loss: 0.008175395429134369, Val R2: 0.8381297534157991\n",
      "Epoch 142/250, Train Loss: 0.005072610507933098, Val Loss: 0.008000604808330536, Val R2: 0.8425097767834663\n",
      "Epoch 143/250, Train Loss: 0.0050745840518746175, Val Loss: 0.007818451151251793, Val R2: 0.8459571537089773\n",
      "Epoch 144/250, Train Loss: 0.005110387867695631, Val Loss: 0.007792952470481396, Val R2: 0.845760010023289\n",
      "Epoch 145/250, Train Loss: 0.005094750826526794, Val Loss: 0.008315274491906166, Val R2: 0.8381435015226479\n",
      "Epoch 146/250, Train Loss: 0.005046096312170018, Val Loss: 0.007857389748096466, Val R2: 0.8433113463598317\n",
      "Epoch 147/250, Train Loss: 0.005071665289181884, Val Loss: 0.008043860085308552, Val R2: 0.842209859324948\n",
      "Epoch 148/250, Train Loss: 0.0050229586389226215, Val Loss: 0.007921242155134678, Val R2: 0.8444621709059073\n",
      "Epoch 149/250, Train Loss: 0.00508863566221774, Val Loss: 0.007847482338547707, Val R2: 0.8435895692786826\n",
      "Epoch 150/250, Train Loss: 0.00502501771608891, Val Loss: 0.007808550260961056, Val R2: 0.8453361033781382\n",
      "Epoch 151/250, Train Loss: 0.005045600628702317, Val Loss: 0.008041990920901299, Val R2: 0.8379770439423915\n",
      "Epoch 152/250, Train Loss: 0.005031530888026487, Val Loss: 0.008080205880105495, Val R2: 0.8401982146318918\n",
      "Epoch 153/250, Train Loss: 0.005004377225269528, Val Loss: 0.007916303351521492, Val R2: 0.843206982020256\n",
      "Epoch 154/250, Train Loss: 0.0050119580555474386, Val Loss: 0.00790700875222683, Val R2: 0.8431268653593568\n",
      "Epoch 155/250, Train Loss: 0.005007250855817611, Val Loss: 0.007962772622704506, Val R2: 0.8437009824722058\n",
      "Epoch 156/250, Train Loss: 0.004989185559341337, Val Loss: 0.00799303688108921, Val R2: 0.841777763140696\n",
      "Epoch 157/250, Train Loss: 0.0050145279130602415, Val Loss: 0.007852496579289436, Val R2: 0.8457864885416756\n",
      "Epoch 158/250, Train Loss: 0.005022908596127013, Val Loss: 0.008260120637714863, Val R2: 0.8342701433132927\n",
      "Epoch 159/250, Train Loss: 0.005004183324157665, Val Loss: 0.007823887281119823, Val R2: 0.8449224712589772\n",
      "Epoch 160/250, Train Loss: 0.004908197804204325, Val Loss: 0.008006259799003601, Val R2: 0.8397781511610726\n",
      "Epoch 161/250, Train Loss: 0.004959351877463519, Val Loss: 0.00817140843719244, Val R2: 0.8368266255093056\n",
      "Epoch 162/250, Train Loss: 0.004976369710386435, Val Loss: 0.007922549732029438, Val R2: 0.8433456661195736\n",
      "Epoch 163/250, Train Loss: 0.004909380754887292, Val Loss: 0.007903426885604858, Val R2: 0.8412650160968282\n",
      "Epoch 164/250, Train Loss: 0.004931083908227865, Val Loss: 0.007877680473029613, Val R2: 0.8443906363570339\n",
      "Epoch 165/250, Train Loss: 0.004933687948979177, Val Loss: 0.007817677222192287, Val R2: 0.8449756210442003\n",
      "Epoch 166/250, Train Loss: 0.004919016891693364, Val Loss: 0.00799072440713644, Val R2: 0.8438083832384917\n",
      "Epoch 167/250, Train Loss: 0.004962887660313268, Val Loss: 0.00809507817029953, Val R2: 0.8415212237000844\n",
      "Epoch 168/250, Train Loss: 0.004961434407692128, Val Loss: 0.007873233407735825, Val R2: 0.8430012116816167\n",
      "Epoch 169/250, Train Loss: 0.00486966597682042, Val Loss: 0.007872718386352062, Val R2: 0.8431902707618238\n",
      "Epoch 170/250, Train Loss: 0.004882864523548164, Val Loss: 0.007895146496593952, Val R2: 0.8435433206056433\n",
      "Epoch 171/250, Train Loss: 0.0048796258794140185, Val Loss: 0.007744775153696537, Val R2: 0.8454169368299139\n",
      "Epoch 172/250, Train Loss: 0.004891752838671511, Val Loss: 0.007696846500039101, Val R2: 0.8465136399616408\n",
      "Epoch 173/250, Train Loss: 0.0048543053103634335, Val Loss: 0.007780201733112335, Val R2: 0.8457315419060519\n",
      "Epoch 174/250, Train Loss: 0.00490572043776227, Val Loss: 0.007986864075064659, Val R2: 0.8429507415837131\n",
      "Epoch 175/250, Train Loss: 0.004866051666083017, Val Loss: 0.00791078433394432, Val R2: 0.8429632948026441\n",
      "Epoch 176/250, Train Loss: 0.0048998203379004585, Val Loss: 0.007952048443257809, Val R2: 0.8417178784118922\n",
      "Epoch 177/250, Train Loss: 0.004850829617786329, Val Loss: 0.008000191301107407, Val R2: 0.8392010059129066\n",
      "Epoch 178/250, Train Loss: 0.004831698816653175, Val Loss: 0.007978861220180988, Val R2: 0.8409959944599904\n",
      "Epoch 179/250, Train Loss: 0.004810458317542513, Val Loss: 0.007822539657354355, Val R2: 0.8470791680120381\n",
      "Epoch 180/250, Train Loss: 0.0048438992391677945, Val Loss: 0.007680847309529781, Val R2: 0.847370332514718\n",
      "Epoch 181/250, Train Loss: 0.0047972184153997465, Val Loss: 0.00811445526778698, Val R2: 0.834830309976241\n",
      "Epoch 182/250, Train Loss: 0.004830864256080023, Val Loss: 0.007755417376756668, Val R2: 0.8450987758617298\n",
      "Epoch 183/250, Train Loss: 0.004833823500508839, Val Loss: 0.0081429248675704, Val R2: 0.8404200287249072\n",
      "Epoch 184/250, Train Loss: 0.004767802379918898, Val Loss: 0.007957521826028824, Val R2: 0.8408813048969347\n",
      "Epoch 185/250, Train Loss: 0.00484332732712785, Val Loss: 0.007850977592170238, Val R2: 0.8435618083822694\n",
      "Epoch 186/250, Train Loss: 0.004800281642512924, Val Loss: 0.007684325333684683, Val R2: 0.8478047483706236\n",
      "Epoch 187/250, Train Loss: 0.004764975290907937, Val Loss: 0.007787684909999371, Val R2: 0.8438696210085874\n",
      "Epoch 188/250, Train Loss: 0.004733013155889993, Val Loss: 0.007913860492408276, Val R2: 0.84416317187703\n",
      "Epoch 189/250, Train Loss: 0.004780144798217428, Val Loss: 0.00793592818081379, Val R2: 0.8436352248971737\n",
      "Epoch 190/250, Train Loss: 0.0047186395670503894, Val Loss: 0.007897142320871353, Val R2: 0.8418460509394904\n",
      "Epoch 191/250, Train Loss: 0.004805721118757429, Val Loss: 0.007886961102485657, Val R2: 0.8437116925247045\n",
      "Epoch 192/250, Train Loss: 0.004761252429876873, Val Loss: 0.007939034141600132, Val R2: 0.8436705957345048\n",
      "Epoch 193/250, Train Loss: 0.00480607130958215, Val Loss: 0.007882478646934032, Val R2: 0.8445387555938134\n",
      "Epoch 194/250, Train Loss: 0.004718415207313482, Val Loss: 0.007651548366993666, Val R2: 0.8472840114260581\n",
      "Epoch 195/250, Train Loss: 0.00469610373845573, Val Loss: 0.007665437180548906, Val R2: 0.8463704641162954\n",
      "Epoch 196/250, Train Loss: 0.004735332095405347, Val Loss: 0.007803355809301138, Val R2: 0.8450894311966192\n",
      "Epoch 197/250, Train Loss: 0.0047212784188030675, Val Loss: 0.007710488513112068, Val R2: 0.8465603230638381\n",
      "Epoch 198/250, Train Loss: 0.004741146786128489, Val Loss: 0.007947995327413082, Val R2: 0.8416683371926137\n",
      "Epoch 199/250, Train Loss: 0.0047239116250894705, Val Loss: 0.007636641152203083, Val R2: 0.848064330486722\n",
      "Epoch 200/250, Train Loss: 0.004764442979592772, Val Loss: 0.007691864389926195, Val R2: 0.8460132416611928\n",
      "Epoch 201/250, Train Loss: 0.004671581260397012, Val Loss: 0.007783909793943167, Val R2: 0.8464516665302981\n",
      "Epoch 202/250, Train Loss: 0.004713769817689628, Val Loss: 0.007690486032515764, Val R2: 0.8467315254579283\n",
      "Epoch 203/250, Train Loss: 0.004685078528614953, Val Loss: 0.007633143104612827, Val R2: 0.846955880643078\n",
      "Epoch 204/250, Train Loss: 0.004707055924304169, Val Loss: 0.00798147451132536, Val R2: 0.8409303027749954\n",
      "Epoch 205/250, Train Loss: 0.004691266998930206, Val Loss: 0.007897606119513512, Val R2: 0.843674657608958\n",
      "Epoch 206/250, Train Loss: 0.004683611715188099, Val Loss: 0.007885558530688286, Val R2: 0.84412537154788\n",
      "Epoch 207/250, Train Loss: 0.004669125540662095, Val Loss: 0.007797744125127792, Val R2: 0.8439075259230379\n",
      "Epoch 208/250, Train Loss: 0.004707611931213575, Val Loss: 0.00777135556563735, Val R2: 0.846432537978945\n",
      "Epoch 209/250, Train Loss: 0.00467017243364501, Val Loss: 0.00756444875150919, Val R2: 0.8482956598709445\n",
      "Epoch 210/250, Train Loss: 0.004675440262040202, Val Loss: 0.008301760070025921, Val R2: 0.8332506296783903\n",
      "Epoch 211/250, Train Loss: 0.004640699102423269, Val Loss: 0.007950138300657272, Val R2: 0.8442216787887941\n",
      "Epoch 212/250, Train Loss: 0.00464272132071634, Val Loss: 0.007880596444010735, Val R2: 0.841888845424226\n",
      "Epoch 213/250, Train Loss: 0.0047148193547216985, Val Loss: 0.007771068252623081, Val R2: 0.8450547738500115\n",
      "Epoch 214/250, Train Loss: 0.00465060369002853, Val Loss: 0.007639285176992416, Val R2: 0.8483713790511018\n",
      "Epoch 215/250, Train Loss: 0.004617828688184485, Val Loss: 0.007880866527557373, Val R2: 0.8441160165912871\n",
      "Epoch 216/250, Train Loss: 0.0046798254645478285, Val Loss: 0.007645505480468273, Val R2: 0.8468662528377546\n",
      "Epoch 217/250, Train Loss: 0.004622318299555819, Val Loss: 0.0077105131931602955, Val R2: 0.8454954312031034\n",
      "Epoch 218/250, Train Loss: 0.004582270279358856, Val Loss: 0.007746419869363308, Val R2: 0.8445941246098853\n",
      "Epoch 219/250, Train Loss: 0.004606614396961536, Val Loss: 0.007986985146999359, Val R2: 0.8407627988046636\n",
      "Epoch 220/250, Train Loss: 0.004625476032785183, Val Loss: 0.007876857183873653, Val R2: 0.8421312024872969\n",
      "Epoch 221/250, Train Loss: 0.004585261566992199, Val Loss: 0.0078116185031831264, Val R2: 0.8427176796869703\n",
      "Epoch 222/250, Train Loss: 0.004584777599846756, Val Loss: 0.007812807336449623, Val R2: 0.8438950057252584\n",
      "Epoch 223/250, Train Loss: 0.004632674299416046, Val Loss: 0.007751373574137688, Val R2: 0.8446155730065149\n",
      "Epoch 224/250, Train Loss: 0.0045112848743009415, Val Loss: 0.007754726801067591, Val R2: 0.8460282642574652\n",
      "Epoch 225/250, Train Loss: 0.0046026507321909405, Val Loss: 0.007680807262659073, Val R2: 0.8449439058094833\n",
      "Epoch 226/250, Train Loss: 0.004596852276780166, Val Loss: 0.007752901408821344, Val R2: 0.8468021489864807\n",
      "Epoch 227/250, Train Loss: 0.004568415072492988, Val Loss: 0.007603358011692762, Val R2: 0.8493163717905029\n",
      "Epoch 228/250, Train Loss: 0.004589021580190896, Val Loss: 0.0077264029532670975, Val R2: 0.8463329080581166\n",
      "Epoch 229/250, Train Loss: 0.004575041218393648, Val Loss: 0.007803897373378277, Val R2: 0.8440500547178371\n",
      "Epoch 230/250, Train Loss: 0.004599517204549684, Val Loss: 0.007582229096442461, Val R2: 0.8484411916978717\n",
      "Epoch 231/250, Train Loss: 0.004531954465341003, Val Loss: 0.007895944640040398, Val R2: 0.8446370957053525\n",
      "Epoch 232/250, Train Loss: 0.004562823236680792, Val Loss: 0.007867836393415928, Val R2: 0.8446760874369761\n",
      "Epoch 233/250, Train Loss: 0.00454679677396464, Val Loss: 0.007606666535139084, Val R2: 0.8477325872114694\n",
      "Epoch 234/250, Train Loss: 0.004548996954735787, Val Loss: 0.0076937549747526646, Val R2: 0.8455206393746417\n",
      "Epoch 235/250, Train Loss: 0.004501227829776805, Val Loss: 0.007744654547423124, Val R2: 0.8456888785337479\n",
      "Epoch 236/250, Train Loss: 0.004578527979789186, Val Loss: 0.007640090771019459, Val R2: 0.8472973098115292\n",
      "Epoch 237/250, Train Loss: 0.00453429459673154, Val Loss: 0.007726783864200115, Val R2: 0.8456739583053946\n",
      "Epoch 238/250, Train Loss: 0.004491346274243574, Val Loss: 0.007610704749822617, Val R2: 0.8467769759052178\n",
      "Epoch 239/250, Train Loss: 0.004548075206982975, Val Loss: 0.007715413346886635, Val R2: 0.8445203370052875\n",
      "Epoch 240/250, Train Loss: 0.004536180055335655, Val Loss: 0.007783984765410423, Val R2: 0.8435048516226883\n",
      "Epoch 241/250, Train Loss: 0.004538731268009662, Val Loss: 0.007586428429931402, Val R2: 0.8493216523988588\n",
      "Epoch 242/250, Train Loss: 0.0045090603154620094, Val Loss: 0.007854417897760868, Val R2: 0.8426936490780909\n",
      "Epoch 243/250, Train Loss: 0.00451201321187162, Val Loss: 0.007743841037154198, Val R2: 0.8451750236472977\n",
      "Epoch 244/250, Train Loss: 0.004475243200205967, Val Loss: 0.007668144069612026, Val R2: 0.8454586525113182\n",
      "Epoch 245/250, Train Loss: 0.004511587103141125, Val Loss: 0.007743697613477707, Val R2: 0.8438545887694057\n",
      "Epoch 246/250, Train Loss: 0.004509992585264782, Val Loss: 0.007741601672023535, Val R2: 0.8451992921240047\n",
      "Epoch 247/250, Train Loss: 0.0044956109012737, Val Loss: 0.007586236111819744, Val R2: 0.8483695193751556\n",
      "Epoch 248/250, Train Loss: 0.004515759373339102, Val Loss: 0.007671233732253313, Val R2: 0.8459645234905523\n",
      "Epoch 249/250, Train Loss: 0.004475668260972954, Val Loss: 0.007770723197609186, Val R2: 0.8444056189850202\n",
      "Epoch 250/250, Train Loss: 0.004447875325247652, Val Loss: 0.007789555471390486, Val R2: 0.8447240791965718\n"
     ]
    }
   ],
   "source": [
    "criterion = nn.MSELoss()\n",
    "optimizer = optim.Adam(model.parameters(), lr=0.001)\n",
    "\n",
    "num_epochs = 250\n",
    "\n",
    "train_loss = []\n",
    "test_losses = []\n",
    "test_r2 = []\n",
    "\n",
    "for epoch in tqdm(range(num_epochs)):\n",
    "    model.train()\n",
    "    running_loss = 0.0\n",
    "    for i, (inputs, targets) in enumerate(train_loader):\n",
    "        optimizer.zero_grad()\n",
    "        outputs = model(inputs)\n",
    "        loss = criterion(outputs, targets)\n",
    "        loss.backward()\n",
    "        optimizer.step()\n",
    "        running_loss += loss.item()\n",
    "\n",
    "    epoch_loss = running_loss / len(train_loader)\n",
    "    train_loss.append(epoch_loss)\n",
    "\n",
    "    model.eval()\n",
    "    with torch.no_grad():\n",
    "        test_outputs = model(X_test)\n",
    "        test_loss = criterion(test_outputs, y_test)\n",
    "        test_losses.append(test_loss.item())\n",
    "        test_r2.append(r2_score(y_test.cpu().numpy(), test_outputs.cpu().numpy()))\n",
    "    print(f'Epoch {epoch+1}/{num_epochs}, Train Loss: {epoch_loss}, Test Loss: {test_loss.item()}, Test R2: {test_r2[-1]}')"
   ]
  },
  {
   "cell_type": "code",
   "execution_count": 16,
   "metadata": {},
   "outputs": [
    {
     "data": {
      "image/png": "[encoded data removed]",
      "text/plain": [
       "<Figure size 640x480 with 1 Axes>"
      ]
     },
     "metadata": {},
     "output_type": "display_data"
    }
   ],
   "source": [
    "plt.plot(train_loss, label='Train Loss')\n",
    "plt.plot(test_losses, label='Test Loss')\n",
    "plt.legend()\n",
    "plt.show()"
   ]
  },
  {
   "cell_type": "code",
   "execution_count": 17,
   "metadata": {},
   "outputs": [
    {
     "data": {
      "image/png": "[encoded data removed]",
      "text/plain": [
       "<Figure size 640x480 with 1 Axes>"
      ]
     },
     "metadata": {},
     "output_type": "display_data"
    }
   ],
   "source": [
    "plt.plot(test_r2, label='Accuracy')\n",
    "plt.legend()\n",
    "plt.show()"
   ]
  },
  {
   "cell_type": "code",
   "execution_count": 18,
   "metadata": {},
   "outputs": [
    {
     "data": {
      "text/plain": [
       "<All keys matched successfully>"
      ]
     },
     "execution_count": 18,
     "metadata": {},
     "output_type": "execute_result"
    }
   ],
   "source": [
    "#save model\n",
    "\n",
    "torch.save(model.state_dict(), 'model.pth')\n",
    "with open('scaler.pkl', 'wb') as f:\n",
    "    pickle.dump(scaler, f)\n",
    "\n",
    "#load model\n",
    "model = Model(X_train.shape[1], y_train.shape[1]).to(device)\n",
    "model.load_state_dict(torch.load('model.pth'))  \n"
   ]
  }
 ],
 "metadata": {
  "kernelspec": {
   "display_name": "Python 3",
   "language": "python",
   "name": "python3"
  },
  "language_info": {
   "codemirror_mode": {
    "name": "ipython",
    "version": 3
   },
   "file_extension": ".py",
   "mimetype": "text/x-python",
   "name": "python",
   "nbconvert_exporter": "python",
   "pygments_lexer": "ipython3",
   "version": "3.10.7"
  }
 },
 "nbformat": 4,
 "nbformat_minor": 2
}
