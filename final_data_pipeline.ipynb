{
 "cells": [
  {
   "cell_type": "markdown",
   "metadata": {},
   "source": [
    "# Hyper parameters"
   ]
  },
  {
   "cell_type": "code",
   "execution_count": 1,
   "metadata": {},
   "outputs": [],
   "source": [
    "EPOCHS = 100\n",
    "BATCH_SIZE = 256\n",
    "LEARNING_RATE = 0.001"
   ]
  },
  {
   "cell_type": "code",
   "execution_count": 2,
   "metadata": {},
   "outputs": [],
   "source": [
    "import pandas as pd\n",
    "import numpy as np\n",
    "from sklearn.model_selection import train_test_split\n",
    "from sklearn.preprocessing import StandardScaler\n",
    "import torch\n",
    "from torch.utils.data import DataLoader, Dataset\n",
    "import torch.nn as nn\n",
    "import torch.optim as optim\n",
    "from tqdm.auto import tqdm\n",
    "from sklearn.metrics import r2_score, mean_squared_error, mean_absolute_error\n",
    "import matplotlib.pyplot as plt\n",
    "import pickle\n",
    "import os\n"
   ]
  },
  {
   "cell_type": "code",
   "execution_count": 3,
   "metadata": {},
   "outputs": [
    {
     "data": {
      "text/plain": [
       "['aalborg_3_3_0.csv',\n",
       " 'alpine1_3_8_0.csv',\n",
       " 'alpine2_3_10_0.csv',\n",
       " 'brondehach_3_10_0.csv',\n",
       " 'cgspeedwaynumber1_3_10_0.csv',\n",
       " 'cgtrack2_3_10_0.csv',\n",
       " 'cgtrack3_3_3_0.csv',\n",
       " 'corkscrew_3_10_0.csv',\n",
       " 'eroad_3_5_0.csv',\n",
       " 'etrack3_3_9_0.csv',\n",
       " 'etrack4_3_5_0.csv',\n",
       " 'etrack6_3_8_0.csv',\n",
       " 'forza_3_7_0.csv',\n",
       " 'olethrosroad1_3_3_0.csv',\n",
       " 'ruudskogen_3_7_0.csv',\n",
       " 'spring_1_4_0.csv',\n",
       " 'street1_3_5_0.csv',\n",
       " 'wheel1_3_6_0.csv',\n",
       " 'wheel2_3_7_0.csv']"
      ]
     },
     "execution_count": 3,
     "metadata": {},
     "output_type": "execute_result"
    }
   ],
   "source": [
    "# Get list of files in collected_data folder\n",
    "files = os.listdir('collected_data')\n",
    "files"
   ]
  },
  {
   "cell_type": "code",
   "execution_count": 4,
   "metadata": {},
   "outputs": [
    {
     "data": {
      "text/html": [
       "<div>\n",
       "<style scoped>\n",
       "    .dataframe tbody tr th:only-of-type {\n",
       "        vertical-align: middle;\n",
       "    }\n",
       "\n",
       "    .dataframe tbody tr th {\n",
       "        vertical-align: top;\n",
       "    }\n",
       "\n",
       "    .dataframe thead th {\n",
       "        text-align: right;\n",
       "    }\n",
       "</style>\n",
       "<table border=\"1\" class=\"dataframe\">\n",
       "  <thead>\n",
       "    <tr style=\"text-align: right;\">\n",
       "      <th></th>\n",
       "      <th>Angle</th>\n",
       "      <th>CurrentLapTime</th>\n",
       "      <th>Damage</th>\n",
       "      <th>DistanceFromStart</th>\n",
       "      <th>DistanceCovered</th>\n",
       "      <th>FuelLevel</th>\n",
       "      <th>Gear</th>\n",
       "      <th>LastLapTime</th>\n",
       "      <th>Opponent_1</th>\n",
       "      <th>Opponent_2</th>\n",
       "      <th>...</th>\n",
       "      <th>WheelSpinVelocity_1</th>\n",
       "      <th>WheelSpinVelocity_2</th>\n",
       "      <th>WheelSpinVelocity_3</th>\n",
       "      <th>WheelSpinVelocity_4</th>\n",
       "      <th>Z</th>\n",
       "      <th>Acceleration</th>\n",
       "      <th>Braking</th>\n",
       "      <th>Clutch</th>\n",
       "      <th>Gear</th>\n",
       "      <th>Steering</th>\n",
       "    </tr>\n",
       "  </thead>\n",
       "  <tbody>\n",
       "    <tr>\n",
       "      <th>0</th>\n",
       "      <td>0.001991</td>\n",
       "      <td>-0.982</td>\n",
       "      <td>0.0</td>\n",
       "      <td>2542.53</td>\n",
       "      <td>0.0</td>\n",
       "      <td>94.0000</td>\n",
       "      <td>0</td>\n",
       "      <td>0.0</td>\n",
       "      <td>30.1827</td>\n",
       "      <td>10.8396</td>\n",
       "      <td>...</td>\n",
       "      <td>0.0</td>\n",
       "      <td>0.0</td>\n",
       "      <td>0.0</td>\n",
       "      <td>0.0</td>\n",
       "      <td>0.345289</td>\n",
       "      <td>1.0</td>\n",
       "      <td>0.0</td>\n",
       "      <td>0.64</td>\n",
       "      <td>1</td>\n",
       "      <td>0.012217</td>\n",
       "    </tr>\n",
       "    <tr>\n",
       "      <th>1</th>\n",
       "      <td>0.001991</td>\n",
       "      <td>-0.962</td>\n",
       "      <td>0.0</td>\n",
       "      <td>2542.53</td>\n",
       "      <td>0.0</td>\n",
       "      <td>94.0000</td>\n",
       "      <td>0</td>\n",
       "      <td>0.0</td>\n",
       "      <td>30.1827</td>\n",
       "      <td>10.8396</td>\n",
       "      <td>...</td>\n",
       "      <td>0.0</td>\n",
       "      <td>0.0</td>\n",
       "      <td>0.0</td>\n",
       "      <td>0.0</td>\n",
       "      <td>0.345289</td>\n",
       "      <td>1.0</td>\n",
       "      <td>0.0</td>\n",
       "      <td>0.64</td>\n",
       "      <td>1</td>\n",
       "      <td>0.012217</td>\n",
       "    </tr>\n",
       "    <tr>\n",
       "      <th>2</th>\n",
       "      <td>0.001991</td>\n",
       "      <td>-0.942</td>\n",
       "      <td>0.0</td>\n",
       "      <td>2542.53</td>\n",
       "      <td>0.0</td>\n",
       "      <td>93.9999</td>\n",
       "      <td>0</td>\n",
       "      <td>0.0</td>\n",
       "      <td>30.1827</td>\n",
       "      <td>10.8396</td>\n",
       "      <td>...</td>\n",
       "      <td>0.0</td>\n",
       "      <td>0.0</td>\n",
       "      <td>0.0</td>\n",
       "      <td>0.0</td>\n",
       "      <td>0.345289</td>\n",
       "      <td>1.0</td>\n",
       "      <td>0.0</td>\n",
       "      <td>0.64</td>\n",
       "      <td>1</td>\n",
       "      <td>0.012217</td>\n",
       "    </tr>\n",
       "    <tr>\n",
       "      <th>3</th>\n",
       "      <td>0.001991</td>\n",
       "      <td>-0.922</td>\n",
       "      <td>0.0</td>\n",
       "      <td>2542.53</td>\n",
       "      <td>0.0</td>\n",
       "      <td>93.9998</td>\n",
       "      <td>0</td>\n",
       "      <td>0.0</td>\n",
       "      <td>30.1827</td>\n",
       "      <td>10.8396</td>\n",
       "      <td>...</td>\n",
       "      <td>0.0</td>\n",
       "      <td>0.0</td>\n",
       "      <td>0.0</td>\n",
       "      <td>0.0</td>\n",
       "      <td>0.345289</td>\n",
       "      <td>1.0</td>\n",
       "      <td>0.0</td>\n",
       "      <td>0.64</td>\n",
       "      <td>1</td>\n",
       "      <td>0.012217</td>\n",
       "    </tr>\n",
       "    <tr>\n",
       "      <th>4</th>\n",
       "      <td>0.001991</td>\n",
       "      <td>-0.902</td>\n",
       "      <td>0.0</td>\n",
       "      <td>2542.53</td>\n",
       "      <td>0.0</td>\n",
       "      <td>93.9997</td>\n",
       "      <td>0</td>\n",
       "      <td>0.0</td>\n",
       "      <td>30.1827</td>\n",
       "      <td>10.8396</td>\n",
       "      <td>...</td>\n",
       "      <td>0.0</td>\n",
       "      <td>0.0</td>\n",
       "      <td>0.0</td>\n",
       "      <td>0.0</td>\n",
       "      <td>0.345289</td>\n",
       "      <td>1.0</td>\n",
       "      <td>0.0</td>\n",
       "      <td>0.64</td>\n",
       "      <td>1</td>\n",
       "      <td>0.012217</td>\n",
       "    </tr>\n",
       "  </tbody>\n",
       "</table>\n",
       "<p>5 rows × 79 columns</p>\n",
       "</div>"
      ],
      "text/plain": [
       "      Angle   CurrentLapTime   Damage   DistanceFromStart   DistanceCovered  \\\n",
       "0  0.001991           -0.982      0.0             2542.53               0.0   \n",
       "1  0.001991           -0.962      0.0             2542.53               0.0   \n",
       "2  0.001991           -0.942      0.0             2542.53               0.0   \n",
       "3  0.001991           -0.922      0.0             2542.53               0.0   \n",
       "4  0.001991           -0.902      0.0             2542.53               0.0   \n",
       "\n",
       "    FuelLevel   Gear   LastLapTime   Opponent_1  Opponent_2  ...  \\\n",
       "0     94.0000      0           0.0      30.1827     10.8396  ...   \n",
       "1     94.0000      0           0.0      30.1827     10.8396  ...   \n",
       "2     93.9999      0           0.0      30.1827     10.8396  ...   \n",
       "3     93.9998      0           0.0      30.1827     10.8396  ...   \n",
       "4     93.9997      0           0.0      30.1827     10.8396  ...   \n",
       "\n",
       "    WheelSpinVelocity_1  WheelSpinVelocity_2  WheelSpinVelocity_3  \\\n",
       "0                   0.0                  0.0                  0.0   \n",
       "1                   0.0                  0.0                  0.0   \n",
       "2                   0.0                  0.0                  0.0   \n",
       "3                   0.0                  0.0                  0.0   \n",
       "4                   0.0                  0.0                  0.0   \n",
       "\n",
       "   WheelSpinVelocity_4         Z   Acceleration  Braking  Clutch  Gear  \\\n",
       "0                  0.0  0.345289            1.0      0.0    0.64     1   \n",
       "1                  0.0  0.345289            1.0      0.0    0.64     1   \n",
       "2                  0.0  0.345289            1.0      0.0    0.64     1   \n",
       "3                  0.0  0.345289            1.0      0.0    0.64     1   \n",
       "4                  0.0  0.345289            1.0      0.0    0.64     1   \n",
       "\n",
       "   Steering  \n",
       "0  0.012217  \n",
       "1  0.012217  \n",
       "2  0.012217  \n",
       "3  0.012217  \n",
       "4  0.012217  \n",
       "\n",
       "[5 rows x 79 columns]"
      ]
     },
     "execution_count": 4,
     "metadata": {},
     "output_type": "execute_result"
    }
   ],
   "source": [
    "# Merge all csv files from collected_data folder\n",
    "df = pd.read_csv(f\"collected_data/{files[0]}\")\n",
    "df.head()"
   ]
  },
  {
   "cell_type": "code",
   "execution_count": 5,
   "metadata": {},
   "outputs": [],
   "source": [
    "def convert_gear_value(x):\n",
    "    return (x + 1) / 7"
   ]
  },
  {
   "cell_type": "code",
   "execution_count": 6,
   "metadata": {},
   "outputs": [
    {
     "data": {
      "text/plain": [
       "12738"
      ]
     },
     "execution_count": 6,
     "metadata": {},
     "output_type": "execute_result"
    }
   ],
   "source": [
    "len(df)"
   ]
  },
  {
   "cell_type": "code",
   "execution_count": 7,
   "metadata": {},
   "outputs": [
    {
     "name": "stderr",
     "output_type": "stream",
     "text": [
      "C:\\Users\\sam_y\\AppData\\Local\\Temp\\ipykernel_3904\\2414074000.py:2: FutureWarning: The frame.append method is deprecated and will be removed from pandas in a future version. Use pandas.concat instead.\n",
      "  df = df.append(pd.read_csv(f'collected_data/{file}'), ignore_index=True)\n",
      "C:\\Users\\sam_y\\AppData\\Local\\Temp\\ipykernel_3904\\2414074000.py:2: FutureWarning: The frame.append method is deprecated and will be removed from pandas in a future version. Use pandas.concat instead.\n",
      "  df = df.append(pd.read_csv(f'collected_data/{file}'), ignore_index=True)\n",
      "C:\\Users\\sam_y\\AppData\\Local\\Temp\\ipykernel_3904\\2414074000.py:2: FutureWarning: The frame.append method is deprecated and will be removed from pandas in a future version. Use pandas.concat instead.\n",
      "  df = df.append(pd.read_csv(f'collected_data/{file}'), ignore_index=True)\n",
      "C:\\Users\\sam_y\\AppData\\Local\\Temp\\ipykernel_3904\\2414074000.py:2: FutureWarning: The frame.append method is deprecated and will be removed from pandas in a future version. Use pandas.concat instead.\n",
      "  df = df.append(pd.read_csv(f'collected_data/{file}'), ignore_index=True)\n",
      "C:\\Users\\sam_y\\AppData\\Local\\Temp\\ipykernel_3904\\2414074000.py:2: FutureWarning: The frame.append method is deprecated and will be removed from pandas in a future version. Use pandas.concat instead.\n",
      "  df = df.append(pd.read_csv(f'collected_data/{file}'), ignore_index=True)\n",
      "C:\\Users\\sam_y\\AppData\\Local\\Temp\\ipykernel_3904\\2414074000.py:2: FutureWarning: The frame.append method is deprecated and will be removed from pandas in a future version. Use pandas.concat instead.\n",
      "  df = df.append(pd.read_csv(f'collected_data/{file}'), ignore_index=True)\n",
      "C:\\Users\\sam_y\\AppData\\Local\\Temp\\ipykernel_3904\\2414074000.py:2: FutureWarning: The frame.append method is deprecated and will be removed from pandas in a future version. Use pandas.concat instead.\n",
      "  df = df.append(pd.read_csv(f'collected_data/{file}'), ignore_index=True)\n",
      "C:\\Users\\sam_y\\AppData\\Local\\Temp\\ipykernel_3904\\2414074000.py:2: FutureWarning: The frame.append method is deprecated and will be removed from pandas in a future version. Use pandas.concat instead.\n",
      "  df = df.append(pd.read_csv(f'collected_data/{file}'), ignore_index=True)\n",
      "C:\\Users\\sam_y\\AppData\\Local\\Temp\\ipykernel_3904\\2414074000.py:2: FutureWarning: The frame.append method is deprecated and will be removed from pandas in a future version. Use pandas.concat instead.\n",
      "  df = df.append(pd.read_csv(f'collected_data/{file}'), ignore_index=True)\n",
      "C:\\Users\\sam_y\\AppData\\Local\\Temp\\ipykernel_3904\\2414074000.py:2: FutureWarning: The frame.append method is deprecated and will be removed from pandas in a future version. Use pandas.concat instead.\n",
      "  df = df.append(pd.read_csv(f'collected_data/{file}'), ignore_index=True)\n",
      "C:\\Users\\sam_y\\AppData\\Local\\Temp\\ipykernel_3904\\2414074000.py:2: FutureWarning: The frame.append method is deprecated and will be removed from pandas in a future version. Use pandas.concat instead.\n",
      "  df = df.append(pd.read_csv(f'collected_data/{file}'), ignore_index=True)\n",
      "C:\\Users\\sam_y\\AppData\\Local\\Temp\\ipykernel_3904\\2414074000.py:2: FutureWarning: The frame.append method is deprecated and will be removed from pandas in a future version. Use pandas.concat instead.\n",
      "  df = df.append(pd.read_csv(f'collected_data/{file}'), ignore_index=True)\n",
      "C:\\Users\\sam_y\\AppData\\Local\\Temp\\ipykernel_3904\\2414074000.py:2: FutureWarning: The frame.append method is deprecated and will be removed from pandas in a future version. Use pandas.concat instead.\n",
      "  df = df.append(pd.read_csv(f'collected_data/{file}'), ignore_index=True)\n",
      "C:\\Users\\sam_y\\AppData\\Local\\Temp\\ipykernel_3904\\2414074000.py:2: FutureWarning: The frame.append method is deprecated and will be removed from pandas in a future version. Use pandas.concat instead.\n",
      "  df = df.append(pd.read_csv(f'collected_data/{file}'), ignore_index=True)\n",
      "C:\\Users\\sam_y\\AppData\\Local\\Temp\\ipykernel_3904\\2414074000.py:2: FutureWarning: The frame.append method is deprecated and will be removed from pandas in a future version. Use pandas.concat instead.\n",
      "  df = df.append(pd.read_csv(f'collected_data/{file}'), ignore_index=True)\n",
      "C:\\Users\\sam_y\\AppData\\Local\\Temp\\ipykernel_3904\\2414074000.py:2: FutureWarning: The frame.append method is deprecated and will be removed from pandas in a future version. Use pandas.concat instead.\n",
      "  df = df.append(pd.read_csv(f'collected_data/{file}'), ignore_index=True)\n",
      "C:\\Users\\sam_y\\AppData\\Local\\Temp\\ipykernel_3904\\2414074000.py:2: FutureWarning: The frame.append method is deprecated and will be removed from pandas in a future version. Use pandas.concat instead.\n",
      "  df = df.append(pd.read_csv(f'collected_data/{file}'), ignore_index=True)\n",
      "C:\\Users\\sam_y\\AppData\\Local\\Temp\\ipykernel_3904\\2414074000.py:2: FutureWarning: The frame.append method is deprecated and will be removed from pandas in a future version. Use pandas.concat instead.\n",
      "  df = df.append(pd.read_csv(f'collected_data/{file}'), ignore_index=True)\n"
     ]
    }
   ],
   "source": [
    "for file in files[1:]:\n",
    "    df = df.append(pd.read_csv(f'collected_data/{file}'), ignore_index=True)"
   ]
  },
  {
   "cell_type": "code",
   "execution_count": 8,
   "metadata": {},
   "outputs": [
    {
     "data": {
      "text/plain": [
       "274509"
      ]
     },
     "execution_count": 8,
     "metadata": {},
     "output_type": "execute_result"
    }
   ],
   "source": [
    "len(df)"
   ]
  },
  {
   "cell_type": "code",
   "execution_count": 9,
   "metadata": {},
   "outputs": [
    {
     "data": {
      "text/plain": [
       " 4    84559\n",
       " 3    80486\n",
       " 2    43707\n",
       " 5    42621\n",
       " 1    19476\n",
       " 6     2440\n",
       "-1     1220\n",
       "Name: Gear, dtype: int64"
      ]
     },
     "execution_count": 9,
     "metadata": {},
     "output_type": "execute_result"
    }
   ],
   "source": [
    "df[\"Gear\"].value_counts()"
   ]
  },
  {
   "cell_type": "code",
   "execution_count": 10,
   "metadata": {},
   "outputs": [
    {
     "data": {
      "text/plain": [
       "0.714286    84559\n",
       "0.571429    80486\n",
       "0.428571    43707\n",
       "0.857143    42621\n",
       "0.285714    19476\n",
       "1.000000     2440\n",
       "0.000000     1220\n",
       "Name: Gear, dtype: int64"
      ]
     },
     "execution_count": 10,
     "metadata": {},
     "output_type": "execute_result"
    }
   ],
   "source": [
    "df[\"Gear\"] = df[\"Gear\"].apply(convert_gear_value)\n",
    "df[\"Gear\"].value_counts()"
   ]
  },
  {
   "cell_type": "code",
   "execution_count": 11,
   "metadata": {},
   "outputs": [
    {
     "data": {
      "text/plain": [
       "Index(['Angle', ' CurrentLapTime', ' Damage', ' DistanceFromStart',\n",
       "       ' DistanceCovered', ' FuelLevel', ' Gear', ' LastLapTime',\n",
       "       ' Opponent_1', 'Opponent_2', 'Opponent_3', 'Opponent_4', 'Opponent_5',\n",
       "       'Opponent_6', 'Opponent_7', 'Opponent_8', 'Opponent_9', 'Opponent_10',\n",
       "       'Opponent_11', 'Opponent_12', 'Opponent_13', 'Opponent_14',\n",
       "       'Opponent_15', 'Opponent_16', 'Opponent_17', 'Opponent_18',\n",
       "       'Opponent_19', 'Opponent_20', 'Opponent_21', 'Opponent_22',\n",
       "       'Opponent_23', 'Opponent_24', 'Opponent_25', 'Opponent_26',\n",
       "       'Opponent_27', 'Opponent_28', 'Opponent_29', 'Opponent_30',\n",
       "       'Opponent_31', 'Opponent_32', 'Opponent_33', 'Opponent_34',\n",
       "       'Opponent_35', 'Opponent_36', 'RacePosition', ' RPM', ' SpeedX',\n",
       "       ' SpeedY', ' SpeedZ', ' Track_1', 'Track_2', 'Track_3', 'Track_4',\n",
       "       'Track_5', 'Track_6', 'Track_7', 'Track_8', 'Track_9', 'Track_10',\n",
       "       'Track_11', 'Track_12', 'Track_13', 'Track_14', 'Track_15', 'Track_16',\n",
       "       'Track_17', 'Track_18', 'Track_19', 'TrackPosition',\n",
       "       ' WheelSpinVelocity_1', 'WheelSpinVelocity_2', 'WheelSpinVelocity_3',\n",
       "       'WheelSpinVelocity_4', 'Z', ' Acceleration', 'Braking', 'Clutch',\n",
       "       'Gear', 'Steering'],\n",
       "      dtype='object')"
      ]
     },
     "execution_count": 11,
     "metadata": {},
     "output_type": "execute_result"
    }
   ],
   "source": [
    "df.columns"
   ]
  },
  {
   "cell_type": "markdown",
   "metadata": {},
   "source": [
    "# Prepare PyTorch Data"
   ]
  },
  {
   "cell_type": "code",
   "execution_count": 12,
   "metadata": {},
   "outputs": [
    {
     "data": {
      "text/plain": [
       "device(type='cuda')"
      ]
     },
     "execution_count": 12,
     "metadata": {},
     "output_type": "execute_result"
    }
   ],
   "source": [
    "# Check if GPU is available\n",
    "device = torch.device('cuda' if torch.cuda.is_available() else 'cpu')\n",
    "device"
   ]
  },
  {
   "cell_type": "code",
   "execution_count": 13,
   "metadata": {},
   "outputs": [
    {
     "data": {
      "text/plain": [
       "Index(['Angle', ' CurrentLapTime', ' Damage', ' DistanceFromStart',\n",
       "       ' DistanceCovered', ' FuelLevel', ' Gear', ' LastLapTime',\n",
       "       ' Opponent_1', 'Opponent_2', 'Opponent_3', 'Opponent_4', 'Opponent_5',\n",
       "       'Opponent_6', 'Opponent_7', 'Opponent_8', 'Opponent_9', 'Opponent_10',\n",
       "       'Opponent_11', 'Opponent_12', 'Opponent_13', 'Opponent_14',\n",
       "       'Opponent_15', 'Opponent_16', 'Opponent_17', 'Opponent_18',\n",
       "       'Opponent_19', 'Opponent_20', 'Opponent_21', 'Opponent_22',\n",
       "       'Opponent_23', 'Opponent_24', 'Opponent_25', 'Opponent_26',\n",
       "       'Opponent_27', 'Opponent_28', 'Opponent_29', 'Opponent_30',\n",
       "       'Opponent_31', 'Opponent_32', 'Opponent_33', 'Opponent_34',\n",
       "       'Opponent_35', 'Opponent_36', 'RacePosition', ' RPM', ' SpeedX',\n",
       "       ' SpeedY', ' SpeedZ', ' Track_1', 'Track_2', 'Track_3', 'Track_4',\n",
       "       'Track_5', 'Track_6', 'Track_7', 'Track_8', 'Track_9', 'Track_10',\n",
       "       'Track_11', 'Track_12', 'Track_13', 'Track_14', 'Track_15', 'Track_16',\n",
       "       'Track_17', 'Track_18', 'Track_19', 'TrackPosition',\n",
       "       ' WheelSpinVelocity_1', 'WheelSpinVelocity_2', 'WheelSpinVelocity_3',\n",
       "       'WheelSpinVelocity_4', 'Z', ' Acceleration', 'Braking', 'Clutch',\n",
       "       'Gear', 'Steering'],\n",
       "      dtype='object')"
      ]
     },
     "execution_count": 13,
     "metadata": {},
     "output_type": "execute_result"
    }
   ],
   "source": [
    "df.columns"
   ]
  },
  {
   "cell_type": "code",
   "execution_count": 14,
   "metadata": {},
   "outputs": [],
   "source": [
    "x_columns = [\n",
    "    \"Angle\",\n",
    "    \" DistanceCovered\",  # Distance raced\n",
    "    # \" Gear\",\n",
    "    \" Opponent_1\", \"Opponent_2\", \"Opponent_3\", \"Opponent_4\", \"Opponent_5\", \"Opponent_6\", \"Opponent_7\", \"Opponent_8\", \"Opponent_9\", \"Opponent_10\", \"Opponent_11\", \"Opponent_12\", \"Opponent_13\", \"Opponent_14\", \"Opponent_15\", \"Opponent_16\", \"Opponent_17\", \"Opponent_18\", \"Opponent_19\", \"Opponent_20\", \"Opponent_21\", \"Opponent_22\", \"Opponent_23\", \"Opponent_24\", \"Opponent_25\", \"Opponent_26\", \"Opponent_27\", \"Opponent_28\", \"Opponent_29\", \"Opponent_30\", \"Opponent_31\", \"Opponent_32\", \"Opponent_33\", \"Opponent_34\", \"Opponent_35\", \"Opponent_36\",\n",
    "    \" RPM\",\n",
    "    \" SpeedX\",\n",
    "    \" SpeedY\",\n",
    "    \" SpeedZ\",\n",
    "    \" Track_1\", \"Track_2\", \"Track_3\", \"Track_4\", \"Track_5\", \"Track_6\", \"Track_7\", \"Track_8\", \"Track_9\", \"Track_10\", \"Track_11\", \"Track_12\", \"Track_13\", \"Track_14\", \"Track_15\", \"Track_16\", \"Track_17\", \"Track_18\", \"Track_19\",\n",
    "    \"TrackPosition\",\n",
    "    \" WheelSpinVelocity_1\",\n",
    "    \"WheelSpinVelocity_2\",\n",
    "    \"WheelSpinVelocity_3\",\n",
    "    \"WheelSpinVelocity_4\",\n",
    "    \"Z\",\n",
    "]\n",
    "y_columns = [\" Acceleration\", \"Braking\", \"Steering\", \"Clutch\"]\n",
    "# y_columns = [\" Acceleration\", \"Braking\", \"Steering\", \"Clutch\", \"Gear\"]"
   ]
  },
  {
   "cell_type": "code",
   "execution_count": 15,
   "metadata": {},
   "outputs": [],
   "source": [
    "# Select relevant columns for features and target\n",
    "features = df[x_columns]\n",
    "targets = df[y_columns]\n",
    "\n",
    "# Normalize features\n",
    "scaler = StandardScaler()\n",
    "features = scaler.fit_transform(features)\n",
    "\n",
    "# Split the dataset\n",
    "X_train, X_test, y_train, y_test = train_test_split(features, targets, test_size=0.2,)\n",
    "\n",
    "# Convert to PyTorch tensors\n",
    "X_train = torch.tensor(X_train, dtype=torch.float32).to(device)\n",
    "X_test = torch.tensor(X_test, dtype=torch.float32).to(device)\n",
    "y_train = torch.tensor(y_train.values, dtype=torch.float32).to(device)\n",
    "y_test = torch.tensor(y_test.values, dtype=torch.float32).to(device)\n"
   ]
  },
  {
   "cell_type": "code",
   "execution_count": 16,
   "metadata": {},
   "outputs": [],
   "source": [
    "train_dataset = torch.utils.data.TensorDataset(X_train, y_train)\n",
    "test_dataset = torch.utils.data.TensorDataset(X_test, y_test)\n",
    "train_loader = DataLoader(train_dataset, batch_size=BATCH_SIZE, shuffle=True)\n",
    "test_loader = DataLoader(test_dataset, batch_size=BATCH_SIZE, shuffle=False)"
   ]
  },
  {
   "cell_type": "code",
   "execution_count": 17,
   "metadata": {},
   "outputs": [
    {
     "data": {
      "text/plain": [
       "(67, 4)"
      ]
     },
     "execution_count": 17,
     "metadata": {},
     "output_type": "execute_result"
    }
   ],
   "source": [
    "X_train.shape[1], y_train.shape[1]"
   ]
  },
  {
   "cell_type": "code",
   "execution_count": 18,
   "metadata": {},
   "outputs": [
    {
     "name": "stdout",
     "output_type": "stream",
     "text": [
      "67 4\n"
     ]
    }
   ],
   "source": [
    "class Model(nn.Module):\n",
    "    def __init__(self, input_size, output_size):\n",
    "        super(Model, self).__init__()\n",
    "        self.fc1 = nn.Linear(input_size, 1024)\n",
    "        self.fc2 = nn.Linear(1024, 512)\n",
    "        self.fc3 = nn.Linear(512, 256)\n",
    "        self.fc4 = nn.Linear(256, 128)\n",
    "        self.fc5 = nn.Linear(128, 64)\n",
    "        self.fc6 = nn.Linear(64, 32)\n",
    "        self.fc7 = nn.Linear(32, 16)\n",
    "        self.fc8 = nn.Linear(16, 8)\n",
    "        self.fc9 = nn.Linear(8, output_size)\n",
    "    def forward(self, x):\n",
    "        x = torch.relu(self.fc1(x))\n",
    "        x = torch.relu(self.fc2(x))\n",
    "        x = torch.relu(self.fc3(x))\n",
    "        x = torch.relu(self.fc4(x))\n",
    "        x = torch.relu(self.fc5(x))\n",
    "        x = torch.relu(self.fc6(x))\n",
    "        x = torch.relu(self.fc7(x))\n",
    "        x = torch.relu(self.fc8(x))\n",
    "        x = self.fc9(x)\n",
    "        return x\n",
    "    \n",
    "model = Model(X_train.shape[1], y_train.shape[1]).to(device)\n",
    "print(X_train.shape[1], y_train.shape[1])\n",
    "    "
   ]
  },
  {
   "cell_type": "code",
   "execution_count": 19,
   "metadata": {},
   "outputs": [
    {
     "data": {
      "application/vnd.jupyter.widget-view+json": {
       "model_id": "1855718856a54788b6d474fcf35487d9",
       "version_major": 2,
       "version_minor": 0
      },
      "text/plain": [
       "  0%|          | 0/100 [00:00<?, ?it/s]"
      ]
     },
     "metadata": {},
     "output_type": "display_data"
    },
    {
     "name": "stdout",
     "output_type": "stream",
     "text": [
      "Epoch 1/100, Train Loss: 0.03513670245528499, Test Loss: 0.02166006527841091, Test R2: 0.6048042720222704, Train R2: 0.620470064983305\n",
      "Epoch 2/100, Train Loss: 0.017950108515789043, Test Loss: 0.015593525022268295, Test R2: 0.7236326143649752, Train R2: 0.7392933637310452\n",
      "Epoch 3/100, Train Loss: 0.01342947311788398, Test Loss: 0.012949925847351551, Test R2: 0.7654350476786036, Train R2: 0.786636225342271\n",
      "Epoch 4/100, Train Loss: 0.011470777266995334, Test Loss: 0.01364040281623602, Test R2: 0.7784425982135874, Train R2: 0.7968284406313471\n",
      "Epoch 5/100, Train Loss: 0.010510282814046824, Test Loss: 0.010264589451253414, Test R2: 0.8132676258523908, Train R2: 0.8349830973407817\n",
      "Epoch 6/100, Train Loss: 0.009519753494627756, Test Loss: 0.010637589730322361, Test R2: 0.8151213116067043, Train R2: 0.8360470186903137\n",
      "Epoch 7/100, Train Loss: 0.009266931867815277, Test Loss: 0.010298521257936954, Test R2: 0.8197692456498095, Train R2: 0.8439162079474349\n",
      "Epoch 8/100, Train Loss: 0.008737799281684252, Test Loss: 0.008904136717319489, Test R2: 0.837652802623662, Train R2: 0.8607390534267823\n",
      "Epoch 9/100, Train Loss: 0.008206842775458778, Test Loss: 0.008850056678056717, Test R2: 0.8410215273121001, Train R2: 0.8653443819194794\n",
      "Epoch 10/100, Train Loss: 0.00826109195668641, Test Loss: 0.009918036870658398, Test R2: 0.8254707312393406, Train R2: 0.846457743998219\n",
      "Epoch 11/100, Train Loss: 0.007992081239652365, Test Loss: 0.00855075940489769, Test R2: 0.8459765193154303, Train R2: 0.8716804329105281\n",
      "Epoch 12/100, Train Loss: 0.007611095802185488, Test Loss: 0.008616087958216667, Test R2: 0.8483140517257501, Train R2: 0.876302525191862\n",
      "Epoch 13/100, Train Loss: 0.007480607258963523, Test Loss: 0.008255477994680405, Test R2: 0.8517361818953474, Train R2: 0.8804309432802302\n",
      "Epoch 14/100, Train Loss: 0.006989955521375375, Test Loss: 0.00910831056535244, Test R2: 0.8373748752555199, Train R2: 0.8678665733465075\n",
      "Epoch 15/100, Train Loss: 0.007121780337190521, Test Loss: 0.0080964220687747, Test R2: 0.857649173628532, Train R2: 0.8877200151924298\n",
      "Epoch 16/100, Train Loss: 0.006672831620458766, Test Loss: 0.007840567268431187, Test R2: 0.8587320649552441, Train R2: 0.8898551679178093\n",
      "Epoch 17/100, Train Loss: 0.006577948693919814, Test Loss: 0.008008320815861225, Test R2: 0.8546174188358607, Train R2: 0.8863338243479424\n",
      "Epoch 18/100, Train Loss: 0.006573204360066507, Test Loss: 0.007515106350183487, Test R2: 0.8637808437076473, Train R2: 0.8932478289540199\n",
      "Epoch 19/100, Train Loss: 0.0065358987738571555, Test Loss: 0.008276081643998623, Test R2: 0.8536396989868056, Train R2: 0.8854772702568854\n",
      "Epoch 20/100, Train Loss: 0.00636634982157377, Test Loss: 0.007690570782870054, Test R2: 0.8633309282615123, Train R2: 0.8911004044907412\n",
      "Epoch 21/100, Train Loss: 0.006087312583392595, Test Loss: 0.007394176442176104, Test R2: 0.8677565309610151, Train R2: 0.9010692672158912\n",
      "Epoch 22/100, Train Loss: 0.0059787928793494675, Test Loss: 0.007376502268016338, Test R2: 0.8667834503595513, Train R2: 0.8998534850694808\n",
      "Epoch 23/100, Train Loss: 0.006085390379187805, Test Loss: 0.00797173660248518, Test R2: 0.8629386902873146, Train R2: 0.8945956535052215\n",
      "Epoch 24/100, Train Loss: 0.005848154309205711, Test Loss: 0.007296298630535603, Test R2: 0.8665295925358576, Train R2: 0.9011160127469315\n",
      "Epoch 25/100, Train Loss: 0.005787750442988849, Test Loss: 0.00743209570646286, Test R2: 0.8687155989729431, Train R2: 0.9010503744660998\n",
      "Epoch 26/100, Train Loss: 0.005727567556932881, Test Loss: 0.007748836185783148, Test R2: 0.8605663047498635, Train R2: 0.8953969700798753\n",
      "Epoch 27/100, Train Loss: 0.005837843816625367, Test Loss: 0.0074244216084480286, Test R2: 0.8671125714189796, Train R2: 0.899930206606921\n",
      "Epoch 28/100, Train Loss: 0.0056788787614263266, Test Loss: 0.007347951177507639, Test R2: 0.8713244561953646, Train R2: 0.9044595777306523\n",
      "Epoch 29/100, Train Loss: 0.005376077488299225, Test Loss: 0.007234342396259308, Test R2: 0.8702094066115621, Train R2: 0.9061437055471594\n",
      "Epoch 30/100, Train Loss: 0.005481936733861451, Test Loss: 0.007453571539372206, Test R2: 0.8653844857066464, Train R2: 0.9004010015910779\n",
      "Epoch 31/100, Train Loss: 0.005426957782700936, Test Loss: 0.0077730463817715645, Test R2: 0.8595121131373964, Train R2: 0.8962386276157233\n",
      "Epoch 32/100, Train Loss: 0.005419188273510524, Test Loss: 0.00703669898211956, Test R2: 0.8738566692963695, Train R2: 0.910925707158276\n",
      "Epoch 33/100, Train Loss: 0.005144825239398783, Test Loss: 0.006987599190324545, Test R2: 0.8704546931259893, Train R2: 0.909135020159481\n",
      "Epoch 34/100, Train Loss: 0.005251204359425462, Test Loss: 0.007139396388083696, Test R2: 0.8715736666624803, Train R2: 0.905957693901356\n",
      "Epoch 35/100, Train Loss: 0.005280545186783276, Test Loss: 0.00760776037350297, Test R2: 0.8635814618741542, Train R2: 0.9020486835464159\n",
      "Epoch 36/100, Train Loss: 0.005012099190977661, Test Loss: 0.007862518541514874, Test R2: 0.8620558298708159, Train R2: 0.899967543953237\n",
      "Epoch 37/100, Train Loss: 0.005105413109257314, Test Loss: 0.006755534093827009, Test R2: 0.8784131097161644, Train R2: 0.9164699735515626\n",
      "Epoch 38/100, Train Loss: 0.005073645238581142, Test Loss: 0.007424463052302599, Test R2: 0.8607406661419428, Train R2: 0.8982823876889469\n",
      "Epoch 39/100, Train Loss: 0.004936646470921614, Test Loss: 0.006821135058999062, Test R2: 0.8798901397571908, Train R2: 0.9170374690511433\n",
      "Epoch 40/100, Train Loss: 0.0049160932983643, Test Loss: 0.006685463711619377, Test R2: 0.8792282826221139, Train R2: 0.9178118016115755\n",
      "Epoch 41/100, Train Loss: 0.005062598756531857, Test Loss: 0.007248264271765947, Test R2: 0.8661269340316509, Train R2: 0.9060566227753615\n",
      "Epoch 42/100, Train Loss: 0.004688892329799875, Test Loss: 0.006987919099628925, Test R2: 0.8742318799486415, Train R2: 0.9135866291135348\n",
      "Epoch 43/100, Train Loss: 0.004862792007592539, Test Loss: 0.006503520533442497, Test R2: 0.8826915139412481, Train R2: 0.9229642112885375\n",
      "Epoch 44/100, Train Loss: 0.004698837609334234, Test Loss: 0.0066397180780768394, Test R2: 0.8793680715173426, Train R2: 0.9172327308995831\n",
      "Epoch 45/100, Train Loss: 0.004815641270422904, Test Loss: 0.00690394826233387, Test R2: 0.8756939170055038, Train R2: 0.9146619923008619\n",
      "Epoch 46/100, Train Loss: 0.004634612430259369, Test Loss: 0.006844149436801672, Test R2: 0.8818623347408385, Train R2: 0.9210848410777732\n",
      "Epoch 47/100, Train Loss: 0.0044961982898659445, Test Loss: 0.006598185282200575, Test R2: 0.8832026296578823, Train R2: 0.9236610477374417\n"
     ]
    },
    {
     "ename": "KeyboardInterrupt",
     "evalue": "",
     "output_type": "error",
     "traceback": [
      "\u001b[1;31m---------------------------------------------------------------------------\u001b[0m",
      "\u001b[1;31mKeyboardInterrupt\u001b[0m                         Traceback (most recent call last)",
      "Cell \u001b[1;32mIn [19], line 14\u001b[0m\n\u001b[0;32m     12\u001b[0m running_loss \u001b[38;5;241m=\u001b[39m \u001b[38;5;241m0.0\u001b[39m\n\u001b[0;32m     13\u001b[0m \u001b[38;5;28;01mfor\u001b[39;00m i, (inputs, targets) \u001b[38;5;129;01min\u001b[39;00m \u001b[38;5;28menumerate\u001b[39m(train_loader):\n\u001b[1;32m---> 14\u001b[0m     \u001b[43moptimizer\u001b[49m\u001b[38;5;241;43m.\u001b[39;49m\u001b[43mzero_grad\u001b[49m\u001b[43m(\u001b[49m\u001b[43m)\u001b[49m\n\u001b[0;32m     15\u001b[0m     outputs \u001b[38;5;241m=\u001b[39m model(inputs)\n\u001b[0;32m     16\u001b[0m     loss \u001b[38;5;241m=\u001b[39m criterion(outputs, targets)\n",
      "File \u001b[1;32mc:\\Users\\sam_y\\AppData\\Local\\Programs\\Python\\Python310\\lib\\site-packages\\torch\\_compile.py:24\u001b[0m, in \u001b[0;36m_disable_dynamo.<locals>.inner\u001b[1;34m(*args, **kwargs)\u001b[0m\n\u001b[0;32m     20\u001b[0m \u001b[38;5;129m@functools\u001b[39m\u001b[38;5;241m.\u001b[39mwraps(fn)\n\u001b[0;32m     21\u001b[0m \u001b[38;5;28;01mdef\u001b[39;00m \u001b[38;5;21minner\u001b[39m(\u001b[38;5;241m*\u001b[39margs, \u001b[38;5;241m*\u001b[39m\u001b[38;5;241m*\u001b[39mkwargs):\n\u001b[0;32m     22\u001b[0m     \u001b[38;5;28;01mimport\u001b[39;00m \u001b[38;5;21;01mtorch\u001b[39;00m\u001b[38;5;21;01m.\u001b[39;00m\u001b[38;5;21;01m_dynamo\u001b[39;00m\n\u001b[1;32m---> 24\u001b[0m     \u001b[38;5;28;01mreturn\u001b[39;00m \u001b[43mtorch\u001b[49m\u001b[38;5;241;43m.\u001b[39;49m\u001b[43m_dynamo\u001b[49m\u001b[38;5;241;43m.\u001b[39;49m\u001b[43mdisable\u001b[49m\u001b[43m(\u001b[49m\u001b[43mfn\u001b[49m\u001b[43m,\u001b[49m\u001b[43m \u001b[49m\u001b[43mrecursive\u001b[49m\u001b[43m)\u001b[49m(\u001b[38;5;241m*\u001b[39margs, \u001b[38;5;241m*\u001b[39m\u001b[38;5;241m*\u001b[39mkwargs)\n",
      "File \u001b[1;32mc:\\Users\\sam_y\\AppData\\Local\\Programs\\Python\\Python310\\lib\\site-packages\\torch\\_dynamo\\decorators.py:47\u001b[0m, in \u001b[0;36mdisable\u001b[1;34m(fn, recursive)\u001b[0m\n\u001b[0;32m     45\u001b[0m         fn \u001b[38;5;241m=\u001b[39m innermost_fn(fn)\n\u001b[0;32m     46\u001b[0m         \u001b[38;5;28;01massert\u001b[39;00m callable(fn)\n\u001b[1;32m---> 47\u001b[0m         \u001b[38;5;28;01mreturn\u001b[39;00m \u001b[43mDisableContext\u001b[49m\u001b[43m(\u001b[49m\u001b[43m)\u001b[49m\u001b[43m(\u001b[49m\u001b[43mfn\u001b[49m\u001b[43m)\u001b[49m\n\u001b[0;32m     48\u001b[0m     \u001b[38;5;28;01mreturn\u001b[39;00m DisableContext()\n\u001b[0;32m     49\u001b[0m \u001b[38;5;28;01melse\u001b[39;00m:\n",
      "File \u001b[1;32mc:\\Users\\sam_y\\AppData\\Local\\Programs\\Python\\Python310\\lib\\site-packages\\torch\\_dynamo\\eval_frame.py:290\u001b[0m, in \u001b[0;36m_TorchDynamoContext.__call__\u001b[1;34m(self, fn)\u001b[0m\n\u001b[0;32m    287\u001b[0m \u001b[38;5;28;01massert\u001b[39;00m callable(fn)\n\u001b[0;32m    289\u001b[0m \u001b[38;5;28;01mtry\u001b[39;00m:\n\u001b[1;32m--> 290\u001b[0m     filename \u001b[38;5;241m=\u001b[39m \u001b[43minspect\u001b[49m\u001b[38;5;241;43m.\u001b[39;49m\u001b[43mgetsourcefile\u001b[49m\u001b[43m(\u001b[49m\u001b[43mfn\u001b[49m\u001b[43m)\u001b[49m\n\u001b[0;32m    291\u001b[0m \u001b[38;5;28;01mexcept\u001b[39;00m \u001b[38;5;167;01mTypeError\u001b[39;00m:\n\u001b[0;32m    292\u001b[0m     filename \u001b[38;5;241m=\u001b[39m \u001b[38;5;28;01mNone\u001b[39;00m\n",
      "File \u001b[1;32mc:\\Users\\sam_y\\AppData\\Local\\Programs\\Python\\Python310\\lib\\inspect.py:826\u001b[0m, in \u001b[0;36mgetsourcefile\u001b[1;34m(object)\u001b[0m\n\u001b[0;32m    823\u001b[0m \u001b[38;5;28;01melif\u001b[39;00m \u001b[38;5;28many\u001b[39m(filename\u001b[38;5;241m.\u001b[39mendswith(s) \u001b[38;5;28;01mfor\u001b[39;00m s \u001b[38;5;129;01min\u001b[39;00m\n\u001b[0;32m    824\u001b[0m              importlib\u001b[38;5;241m.\u001b[39mmachinery\u001b[38;5;241m.\u001b[39mEXTENSION_SUFFIXES):\n\u001b[0;32m    825\u001b[0m     \u001b[38;5;28;01mreturn\u001b[39;00m \u001b[38;5;28;01mNone\u001b[39;00m\n\u001b[1;32m--> 826\u001b[0m \u001b[38;5;28;01mif\u001b[39;00m \u001b[43mos\u001b[49m\u001b[38;5;241;43m.\u001b[39;49m\u001b[43mpath\u001b[49m\u001b[38;5;241;43m.\u001b[39;49m\u001b[43mexists\u001b[49m\u001b[43m(\u001b[49m\u001b[43mfilename\u001b[49m\u001b[43m)\u001b[49m:\n\u001b[0;32m    827\u001b[0m     \u001b[38;5;28;01mreturn\u001b[39;00m filename\n\u001b[0;32m    828\u001b[0m \u001b[38;5;66;03m# only return a non-existent filename if the module has a PEP 302 loader\u001b[39;00m\n",
      "File \u001b[1;32mc:\\Users\\sam_y\\AppData\\Local\\Programs\\Python\\Python310\\lib\\genericpath.py:19\u001b[0m, in \u001b[0;36mexists\u001b[1;34m(path)\u001b[0m\n\u001b[0;32m     17\u001b[0m \u001b[38;5;124;03m\"\"\"Test whether a path exists.  Returns False for broken symbolic links\"\"\"\u001b[39;00m\n\u001b[0;32m     18\u001b[0m \u001b[38;5;28;01mtry\u001b[39;00m:\n\u001b[1;32m---> 19\u001b[0m     \u001b[43mos\u001b[49m\u001b[38;5;241;43m.\u001b[39;49m\u001b[43mstat\u001b[49m\u001b[43m(\u001b[49m\u001b[43mpath\u001b[49m\u001b[43m)\u001b[49m\n\u001b[0;32m     20\u001b[0m \u001b[38;5;28;01mexcept\u001b[39;00m (\u001b[38;5;167;01mOSError\u001b[39;00m, \u001b[38;5;167;01mValueError\u001b[39;00m):\n\u001b[0;32m     21\u001b[0m     \u001b[38;5;28;01mreturn\u001b[39;00m \u001b[38;5;28;01mFalse\u001b[39;00m\n",
      "\u001b[1;31mKeyboardInterrupt\u001b[0m: "
     ]
    }
   ],
   "source": [
    "criterion = nn.MSELoss()\n",
    "optimizer = optim.Adam(model.parameters(), lr=0.003)\n",
    "\n",
    "\n",
    "train_loss = []\n",
    "test_losses = []\n",
    "train_r2 = []\n",
    "test_r2 = []\n",
    "\n",
    "for epoch in tqdm(range(EPOCHS)):\n",
    "    model.train()\n",
    "    running_loss = 0.0\n",
    "    for i, (inputs, targets) in enumerate(train_loader):\n",
    "        optimizer.zero_grad()\n",
    "        outputs = model(inputs)\n",
    "        loss = criterion(outputs, targets)\n",
    "        loss.backward()\n",
    "        optimizer.step()\n",
    "        running_loss += loss.item()\n",
    "\n",
    "    epoch_loss = running_loss / len(train_loader)\n",
    "    train_loss.append(epoch_loss)\n",
    "\n",
    "    model.eval()\n",
    "\n",
    "\n",
    "    with torch.no_grad():\n",
    "        train_preds = model(X_train)\n",
    "        train_r2.append(r2_score(y_train.cpu().numpy(), train_preds.cpu().numpy()))\n",
    "\n",
    "        test_preds = model(X_test)\n",
    "        test_loss = criterion(test_preds, y_test).item()\n",
    "        test_r2.append(r2_score(y_test.cpu().numpy(), test_preds.cpu().numpy()))\n",
    "        test_losses.append(test_loss)\n",
    "\n",
    "    print(f'Epoch {epoch+1}/{EPOCHS}, Train Loss: {epoch_loss}, Test Loss: {test_loss}, Test R2: {test_r2[-1]}, Train R2: {train_r2[-1]}')"
   ]
  },
  {
   "cell_type": "code",
   "execution_count": 20,
   "metadata": {},
   "outputs": [
    {
     "data": {
      "image/png": "[encoded data removed]",
      "text/plain": [
       "<Figure size 1200x500 with 2 Axes>"
      ]
     },
     "metadata": {},
     "output_type": "display_data"
    }
   ],
   "source": [
    "fig, (ax1, ax2) = plt.subplots(1, 2, figsize=(12, 5))\n",
    "\n",
    "ax1.plot(train_loss, label='Train')\n",
    "ax1.plot(test_losses, label='Test')\n",
    "ax1.set_xlabel('Epochs')\n",
    "ax1.set_ylabel('Loss')\n",
    "ax1.legend()\n",
    "\n",
    "ax2.plot(train_r2, label='Train')\n",
    "ax2.plot(test_r2, label='Test')\n",
    "ax2.set_xlabel('Epochs')\n",
    "ax2.set_ylabel('Accuracy')\n",
    "ax2.legend()\n",
    "\n",
    "plt.show()\n"
   ]
  },
  {
   "cell_type": "code",
   "execution_count": 21,
   "metadata": {},
   "outputs": [
    {
     "data": {
      "text/plain": [
       "<All keys matched successfully>"
      ]
     },
     "execution_count": 21,
     "metadata": {},
     "output_type": "execute_result"
    }
   ],
   "source": [
    "#save model\n",
    "\n",
    "torch.save(model.state_dict(), 'model.pth')\n",
    "with open('scaler.pkl', 'wb') as f:\n",
    "    pickle.dump(scaler, f)\n",
    "\n",
    "#load model\n",
    "model = Model(X_train.shape[1], y_train.shape[1]).to(device)\n",
    "model.load_state_dict(torch.load('model.pth'))  \n"
   ]
  }
 ],
 "metadata": {
  "kernelspec": {
   "display_name": "Python 3",
   "language": "python",
   "name": "python3"
  },
  "language_info": {
   "codemirror_mode": {
    "name": "ipython",
    "version": 3
   },
   "file_extension": ".py",
   "mimetype": "text/x-python",
   "name": "python",
   "nbconvert_exporter": "python",
   "pygments_lexer": "ipython3",
   "version": "3.10.7"
  }
 },
 "nbformat": 4,
 "nbformat_minor": 2
}
