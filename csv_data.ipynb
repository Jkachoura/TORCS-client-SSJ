{
 "cells": [
  {
   "cell_type": "markdown",
   "metadata": {},
   "source": [
    "# Data Exploration"
   ]
  },
  {
   "cell_type": "code",
   "execution_count": null,
   "metadata": {},
   "outputs": [],
   "source": [
    "# read csv with pandas\n",
    "import pandas as pd"
   ]
  },
  {
   "cell_type": "code",
   "execution_count": null,
   "metadata": {},
   "outputs": [],
   "source": [
    "aalborg_df = pd.read_csv('csv_data/aalborg_2023-05-20.csv', sep=';')"
   ]
  },
  {
   "cell_type": "code",
   "execution_count": null,
   "metadata": {},
   "outputs": [],
   "source": [
    "aalborg_df"
   ]
  },
  {
   "cell_type": "code",
   "execution_count": null,
   "metadata": {},
   "outputs": [],
   "source": [
    "berniw_df = pd.read_csv('csv_data/berniw.f-speedway.5-laps.csv', sep=';')"
   ]
  },
  {
   "cell_type": "code",
   "execution_count": null,
   "metadata": {},
   "outputs": [],
   "source": [
    "berniw_df"
   ]
  },
  {
   "cell_type": "code",
   "execution_count": null,
   "metadata": {},
   "outputs": [],
   "source": [
    "forza_df = pd.read_csv('csv_data/forza_2023-05-19.csv', sep=';')"
   ]
  },
  {
   "cell_type": "code",
   "execution_count": null,
   "metadata": {},
   "outputs": [],
   "source": [
    "forza_df"
   ]
  },
  {
   "cell_type": "markdown",
   "metadata": {},
   "source": [
    "# Filter Training Data"
   ]
  },
  {
   "cell_type": "code",
   "execution_count": null,
   "metadata": {},
   "outputs": [],
   "source": [
    "filtered_df = aalborg_df.copy()\n",
    "len(filtered_df)"
   ]
  },
  {
   "cell_type": "code",
   "execution_count": null,
   "metadata": {},
   "outputs": [],
   "source": [
    "# only relevant columns\n",
    "filtered_df = filtered_df[['s_angle', 's_rpm', 's_speed_x', 's_speed_y', 's_track_position', 'a_accelation', 'a_brake', 'a_steer']]\n",
    "filtered_df.head()"
   ]
  },
  {
   "cell_type": "markdown",
   "metadata": {},
   "source": [
    "### Filter out garbage data"
   ]
  },
  {
   "cell_type": "code",
   "execution_count": null,
   "metadata": {},
   "outputs": [],
   "source": [
    "import math\n",
    "\n",
    "# Convert angle to degrees\n",
    "filtered_df[\"s_angle\"] = filtered_df[\"s_angle\"] * (180 / math.pi)\n",
    "\n",
    "# Filter out angles that are not in the range of -45 to 45 degrees\n",
    "filtered_df = filtered_df[\n",
    "    (filtered_df[\"s_angle\"] > -45) & (filtered_df[\"s_angle\"] < 45)\n",
    "]\n",
    "\n",
    "# Filter out track position not in the range of -1 to 1\n",
    "filtered_df = filtered_df[\n",
    "    (filtered_df[\"s_track_position\"] > -1) & (filtered_df[\"s_track_position\"] < 1)\n",
    "]\n",
    "\n",
    "# rename columns\n",
    "filtered_df = filtered_df.rename(\n",
    "    columns={\n",
    "        \"s_angle\": \"angle\",\n",
    "        \"s_rpm\": \"rpm\",\n",
    "        \"s_speed_x\": \"speed_x\",\n",
    "        \"s_speed_y\": \"speed_y\",\n",
    "        \"s_track_position\": \"track_position\",\n",
    "        \"a_accelation\": \"acceleration\",\n",
    "        \"a_brake\": \"brake\",\n",
    "        \"a_steer\": \"steer\",\n",
    "    }\n",
    ")\n",
    "\n",
    "filtered_df.head()"
   ]
  },
  {
   "cell_type": "code",
   "execution_count": null,
   "metadata": {},
   "outputs": [],
   "source": [
    "# Save the filtered data to a new CSV file\n",
    "filtered_df.to_csv(\"cleaned_data/aalborg_data.csv\", index=False)"
   ]
  }
 ],
 "metadata": {
  "kernelspec": {
   "display_name": "Python 3",
   "language": "python",
   "name": "python3"
  },
  "language_info": {
   "codemirror_mode": {
    "name": "ipython",
    "version": 3
   },
   "file_extension": ".py",
   "mimetype": "text/x-python",
   "name": "python",
   "nbconvert_exporter": "python",
   "pygments_lexer": "ipython3",
   "version": "3.10.7"
  }
 },
 "nbformat": 4,
 "nbformat_minor": 2
}
