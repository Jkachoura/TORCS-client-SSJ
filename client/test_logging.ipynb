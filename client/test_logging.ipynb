{
 "cells": [
  {
   "cell_type": "code",
   "execution_count": 34,
   "metadata": {},
   "outputs": [
    {
     "name": "stderr",
     "output_type": "stream",
     "text": [
      "INFO:pytocl.analysis:Accessing data log drivelogs/drivelog-2024-05-23-12-54-38.pickle.\n"
     ]
    },
    {
     "name": "stdout",
     "output_type": "stream",
     "text": [
      "[[ -0.982   0.   ]\n",
      " [ -0.962   0.   ]\n",
      " [ -0.942   0.   ]\n",
      " ...\n",
      " [662.862   0.   ]\n",
      " [662.884   0.   ]\n",
      " [662.906   0.   ]]\n"
     ]
    }
   ],
   "source": [
    "import logging\n",
    "from pytocl.analysis import DataLogReader\n",
    "\n",
    "# Set up logging (optional, but useful for debugging)\n",
    "logging.basicConfig(level=logging.INFO)\n",
    "\n",
    "# Path to the log file\n",
    "log_file_path = 'drivelogs/drivelog-2024-05-23-12-54-38.pickle'\n",
    "\n",
    "# Attributes to extract from state and command (if any, can be None)\n",
    "# state_attributes = ['speed_x', 'speed_y', 'angle', 'distance_from_center', 'rpm', 'opponents']\n",
    "state_attributes = None\n",
    "# command_attributes = ['steering', 'accelerator', 'brake']  # Example: ['steering', 'acceleration']\n",
    "command_attributes = ['accelerator']  # Example: ['steering', 'acceleration']\n",
    "\n",
    "# Instantiate DataLogReader\n",
    "log_reader = DataLogReader(filepath=log_file_path,\n",
    "                           state_attributes=state_attributes,\n",
    "                           command_attributes=command_attributes)\n",
    "\n",
    "# Read the log file and convert it to a NumPy array\n",
    "data_array = log_reader.array\n",
    "\n",
    "# Now `data_array` contains the logged data and can be used for analysis\n",
    "print(data_array)\n"
   ]
  },
  {
   "cell_type": "code",
   "execution_count": 25,
   "metadata": {},
   "outputs": [
    {
     "data": {
      "text/plain": [
       "32117"
      ]
     },
     "execution_count": 25,
     "metadata": {},
     "output_type": "execute_result"
    }
   ],
   "source": [
    "len(data_array)"
   ]
  },
  {
   "cell_type": "code",
   "execution_count": 26,
   "metadata": {},
   "outputs": [
    {
     "data": {
      "text/plain": [
       "array([-9.82000000e-01, -1.63515556e-03, -7.76938889e-03,  1.20384162e-02,\n",
       "       -3.33363000e-01,  9.42478000e+02,  2.00000000e+02,  2.00000000e+02,\n",
       "        2.00000000e+02,  2.00000000e+02,  2.00000000e+02,  2.00000000e+02,\n",
       "        2.00000000e+02,  2.00000000e+02,  2.00000000e+02,  2.00000000e+02,\n",
       "        2.00000000e+02,  2.00000000e+02,  2.00000000e+02,  2.00000000e+02,\n",
       "        2.00000000e+02,  2.00000000e+02,  2.00000000e+02,  2.00000000e+02,\n",
       "        2.00000000e+02,  2.00000000e+02,  2.00000000e+02,  2.00000000e+02,\n",
       "        2.00000000e+02,  2.00000000e+02,  2.00000000e+02,  2.00000000e+02,\n",
       "        2.00000000e+02,  2.00000000e+02,  2.00000000e+02,  2.00000000e+02,\n",
       "        2.00000000e+02,  2.00000000e+02,  2.00000000e+02,  2.00000000e+02,\n",
       "        2.00000000e+02,  2.00000000e+02,  4.36239064e-01,  9.30516958e-01,\n",
       "        0.00000000e+00])"
      ]
     },
     "execution_count": 26,
     "metadata": {},
     "output_type": "execute_result"
    }
   ],
   "source": [
    "data_array[0]"
   ]
  }
 ],
 "metadata": {
  "kernelspec": {
   "display_name": "Python 3",
   "language": "python",
   "name": "python3"
  },
  "language_info": {
   "codemirror_mode": {
    "name": "ipython",
    "version": 3
   },
   "file_extension": ".py",
   "mimetype": "text/x-python",
   "name": "python",
   "nbconvert_exporter": "python",
   "pygments_lexer": "ipython3",
   "version": "3.10.7"
  }
 },
 "nbformat": 4,
 "nbformat_minor": 2
}
