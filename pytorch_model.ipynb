{
 "cells": [
  {
   "cell_type": "markdown",
   "metadata": {},
   "source": [
    "# Pytorch"
   ]
  },
  {
   "cell_type": "markdown",
   "metadata": {},
   "source": [
    "## Preprocessing the data"
   ]
  },
  {
   "cell_type": "code",
   "execution_count": 2,
   "metadata": {},
   "outputs": [],
   "source": [
    "import pandas as pd\n",
    "from sklearn.model_selection import train_test_split\n",
    "from sklearn.preprocessing import StandardScaler\n",
    "import torch\n",
    "from torch.utils.data import Dataset, DataLoader"
   ]
  },
  {
   "cell_type": "code",
   "execution_count": 3,
   "metadata": {},
   "outputs": [
    {
     "data": {
      "text/plain": [
       "device(type='cuda')"
      ]
     },
     "execution_count": 3,
     "metadata": {},
     "output_type": "execute_result"
    }
   ],
   "source": [
    "# Check if GPU is available\n",
    "device = torch.device('cuda' if torch.cuda.is_available() else 'cpu')\n",
    "device"
   ]
  },
  {
   "cell_type": "code",
   "execution_count": 4,
   "metadata": {},
   "outputs": [
    {
     "data": {
      "text/html": [
       "<div>\n",
       "<style scoped>\n",
       "    .dataframe tbody tr th:only-of-type {\n",
       "        vertical-align: middle;\n",
       "    }\n",
       "\n",
       "    .dataframe tbody tr th {\n",
       "        vertical-align: top;\n",
       "    }\n",
       "\n",
       "    .dataframe thead th {\n",
       "        text-align: right;\n",
       "    }\n",
       "</style>\n",
       "<table border=\"1\" class=\"dataframe\">\n",
       "  <thead>\n",
       "    <tr style=\"text-align: right;\">\n",
       "      <th></th>\n",
       "      <th>angle</th>\n",
       "      <th>rpm</th>\n",
       "      <th>speed_x</th>\n",
       "      <th>speed_y</th>\n",
       "      <th>track_position</th>\n",
       "      <th>acceleration</th>\n",
       "      <th>brake</th>\n",
       "      <th>steer</th>\n",
       "    </tr>\n",
       "  </thead>\n",
       "  <tbody>\n",
       "    <tr>\n",
       "      <th>0</th>\n",
       "      <td>0.227636</td>\n",
       "      <td>942</td>\n",
       "      <td>-0.092262</td>\n",
       "      <td>0.026604</td>\n",
       "      <td>-0.334175</td>\n",
       "      <td>1.0</td>\n",
       "      <td>0.0</td>\n",
       "      <td>0.466716</td>\n",
       "    </tr>\n",
       "    <tr>\n",
       "      <th>1</th>\n",
       "      <td>0.227636</td>\n",
       "      <td>1100</td>\n",
       "      <td>-0.092262</td>\n",
       "      <td>0.026604</td>\n",
       "      <td>-0.334175</td>\n",
       "      <td>1.0</td>\n",
       "      <td>0.0</td>\n",
       "      <td>0.466716</td>\n",
       "    </tr>\n",
       "    <tr>\n",
       "      <th>2</th>\n",
       "      <td>0.227636</td>\n",
       "      <td>1263</td>\n",
       "      <td>-0.092262</td>\n",
       "      <td>0.026604</td>\n",
       "      <td>-0.334175</td>\n",
       "      <td>1.0</td>\n",
       "      <td>0.0</td>\n",
       "      <td>0.466716</td>\n",
       "    </tr>\n",
       "    <tr>\n",
       "      <th>3</th>\n",
       "      <td>0.227636</td>\n",
       "      <td>1432</td>\n",
       "      <td>-0.092262</td>\n",
       "      <td>0.026604</td>\n",
       "      <td>-0.334175</td>\n",
       "      <td>1.0</td>\n",
       "      <td>0.0</td>\n",
       "      <td>0.466716</td>\n",
       "    </tr>\n",
       "    <tr>\n",
       "      <th>4</th>\n",
       "      <td>0.227636</td>\n",
       "      <td>1605</td>\n",
       "      <td>-0.092262</td>\n",
       "      <td>0.026604</td>\n",
       "      <td>-0.334175</td>\n",
       "      <td>1.0</td>\n",
       "      <td>0.0</td>\n",
       "      <td>0.466716</td>\n",
       "    </tr>\n",
       "  </tbody>\n",
       "</table>\n",
       "</div>"
      ],
      "text/plain": [
       "      angle   rpm   speed_x   speed_y  track_position  acceleration  brake  \\\n",
       "0  0.227636   942 -0.092262  0.026604       -0.334175           1.0    0.0   \n",
       "1  0.227636  1100 -0.092262  0.026604       -0.334175           1.0    0.0   \n",
       "2  0.227636  1263 -0.092262  0.026604       -0.334175           1.0    0.0   \n",
       "3  0.227636  1432 -0.092262  0.026604       -0.334175           1.0    0.0   \n",
       "4  0.227636  1605 -0.092262  0.026604       -0.334175           1.0    0.0   \n",
       "\n",
       "      steer  \n",
       "0  0.466716  \n",
       "1  0.466716  \n",
       "2  0.466716  \n",
       "3  0.466716  \n",
       "4  0.466716  "
      ]
     },
     "execution_count": 4,
     "metadata": {},
     "output_type": "execute_result"
    }
   ],
   "source": [
    "df = pd.read_csv('cleaned_data/aalborg_data.csv')\n",
    "df.head()"
   ]
  },
  {
   "cell_type": "code",
   "execution_count": 5,
   "metadata": {},
   "outputs": [],
   "source": [
    "# Select relevant columns for features and target\n",
    "features = df[['angle', 'rpm', 'speed_x', 'speed_y', 'track_position']]\n",
    "targets = df[['acceleration', 'brake', 'steer']]\n",
    "\n",
    "# Normalize features\n",
    "scaler = StandardScaler()\n",
    "features = scaler.fit_transform(features)\n",
    "\n",
    "# Split the dataset\n",
    "X_train, X_test, y_train, y_test = train_test_split(features, targets, test_size=0.2, random_state=42)\n",
    "\n",
    "# Convert to PyTorch tensors\n",
    "X_train = torch.tensor(X_train, dtype=torch.float32).to(device)\n",
    "X_test = torch.tensor(X_test, dtype=torch.float32).to(device)\n",
    "y_train = torch.tensor(y_train.values, dtype=torch.float32).to(device)\n",
    "y_test = torch.tensor(y_test.values, dtype=torch.float32).to(device)\n"
   ]
  },
  {
   "cell_type": "markdown",
   "metadata": {},
   "source": [
    "## Create the model"
   ]
  },
  {
   "cell_type": "code",
   "execution_count": 6,
   "metadata": {},
   "outputs": [],
   "source": [
    "import torch.nn as nn\n",
    "\n",
    "class CarControlModel(nn.Module):\n",
    "    def __init__(self):\n",
    "        super(CarControlModel, self).__init__()\n",
    "        self.fc1 = nn.Linear(5, 64)  # 5 input features\n",
    "        self.fc2 = nn.Linear(64, 32)\n",
    "        self.fc3 = nn.Linear(32, 3)  # 3 output actions\n",
    "\n",
    "    def forward(self, x):\n",
    "        x = torch.relu(self.fc1(x))\n",
    "        x = torch.relu(self.fc2(x))\n",
    "        x = self.fc3(x)\n",
    "        return x\n",
    "\n",
    "model = CarControlModel().to(device)\n"
   ]
  },
  {
   "cell_type": "code",
   "execution_count": 7,
   "metadata": {},
   "outputs": [
    {
     "data": {
      "application/vnd.jupyter.widget-view+json": {
       "model_id": "134ddd83ca324ee1aa04a68d7de739e1",
       "version_major": 2,
       "version_minor": 0
      },
      "text/plain": [
       "  0%|          | 0/100 [00:00<?, ?it/s]"
      ]
     },
     "metadata": {},
     "output_type": "display_data"
    },
    {
     "name": "stdout",
     "output_type": "stream",
     "text": [
      "Epoch [1/100], Loss: 0.1044\n",
      "Epoch [2/100], Loss: 0.0221\n",
      "Epoch [3/100], Loss: 0.0082\n",
      "Epoch [4/100], Loss: 0.0021\n",
      "Epoch [5/100], Loss: 0.0013\n",
      "Epoch [6/100], Loss: 0.0314\n",
      "Epoch [7/100], Loss: 0.0096\n",
      "Epoch [8/100], Loss: 0.0051\n",
      "Epoch [9/100], Loss: 0.0137\n",
      "Epoch [10/100], Loss: 0.0043\n",
      "Epoch [11/100], Loss: 0.0314\n",
      "Epoch [12/100], Loss: 0.0024\n",
      "Epoch [13/100], Loss: 0.0088\n",
      "Epoch [14/100], Loss: 0.1512\n",
      "Epoch [15/100], Loss: 0.0086\n",
      "Epoch [16/100], Loss: 0.0015\n",
      "Epoch [17/100], Loss: 0.0002\n",
      "Epoch [18/100], Loss: 0.0016\n",
      "Epoch [19/100], Loss: 0.0080\n",
      "Epoch [20/100], Loss: 0.0507\n",
      "Epoch [21/100], Loss: 0.0294\n",
      "Epoch [22/100], Loss: 0.0035\n",
      "Epoch [23/100], Loss: 0.0082\n",
      "Epoch [24/100], Loss: 0.0006\n",
      "Epoch [25/100], Loss: 0.0013\n",
      "Epoch [26/100], Loss: 0.0034\n",
      "Epoch [27/100], Loss: 0.0023\n",
      "Epoch [28/100], Loss: 0.0123\n",
      "Epoch [29/100], Loss: 0.0035\n",
      "Epoch [30/100], Loss: 0.0034\n",
      "Epoch [31/100], Loss: 0.0029\n",
      "Epoch [32/100], Loss: 0.0015\n",
      "Epoch [33/100], Loss: 0.0016\n",
      "Epoch [34/100], Loss: 0.0008\n",
      "Epoch [35/100], Loss: 0.0036\n",
      "Epoch [36/100], Loss: 0.0277\n",
      "Epoch [37/100], Loss: 0.0283\n",
      "Epoch [38/100], Loss: 0.0246\n",
      "Epoch [39/100], Loss: 0.0015\n",
      "Epoch [40/100], Loss: 0.0053\n",
      "Epoch [41/100], Loss: 0.0007\n",
      "Epoch [42/100], Loss: 0.0004\n",
      "Epoch [43/100], Loss: 0.0017\n",
      "Epoch [44/100], Loss: 0.0012\n",
      "Epoch [45/100], Loss: 0.0479\n",
      "Epoch [46/100], Loss: 0.0039\n",
      "Epoch [47/100], Loss: 0.0020\n",
      "Epoch [48/100], Loss: 0.0613\n",
      "Epoch [49/100], Loss: 0.0514\n",
      "Epoch [50/100], Loss: 0.0018\n",
      "Epoch [51/100], Loss: 0.0012\n",
      "Epoch [52/100], Loss: 0.0039\n",
      "Epoch [53/100], Loss: 0.0002\n",
      "Epoch [54/100], Loss: 0.0022\n",
      "Epoch [55/100], Loss: 0.0066\n",
      "Epoch [56/100], Loss: 0.0014\n",
      "Epoch [57/100], Loss: 0.0013\n",
      "Epoch [58/100], Loss: 0.0029\n",
      "Epoch [59/100], Loss: 0.0048\n",
      "Epoch [60/100], Loss: 0.0007\n",
      "Epoch [61/100], Loss: 0.0004\n",
      "Epoch [62/100], Loss: 0.0089\n",
      "Epoch [63/100], Loss: 0.0008\n",
      "Epoch [64/100], Loss: 0.0011\n",
      "Epoch [65/100], Loss: 0.0004\n",
      "Epoch [66/100], Loss: 0.0025\n",
      "Epoch [67/100], Loss: 0.0259\n",
      "Epoch [68/100], Loss: 0.0036\n",
      "Epoch [69/100], Loss: 0.0027\n",
      "Epoch [70/100], Loss: 0.0013\n",
      "Epoch [71/100], Loss: 0.0052\n",
      "Epoch [72/100], Loss: 0.0022\n",
      "Epoch [73/100], Loss: 0.0013\n",
      "Epoch [74/100], Loss: 0.0024\n",
      "Epoch [75/100], Loss: 0.0059\n",
      "Epoch [76/100], Loss: 0.0022\n",
      "Epoch [77/100], Loss: 0.0017\n",
      "Epoch [78/100], Loss: 0.0013\n",
      "Epoch [79/100], Loss: 0.0012\n",
      "Epoch [80/100], Loss: 0.0318\n",
      "Epoch [81/100], Loss: 0.0117\n",
      "Epoch [82/100], Loss: 0.0028\n",
      "Epoch [83/100], Loss: 0.0205\n",
      "Epoch [84/100], Loss: 0.0021\n",
      "Epoch [85/100], Loss: 0.0265\n",
      "Epoch [86/100], Loss: 0.0005\n",
      "Epoch [87/100], Loss: 0.0006\n",
      "Epoch [88/100], Loss: 0.0022\n",
      "Epoch [89/100], Loss: 0.0008\n",
      "Epoch [90/100], Loss: 0.0016\n",
      "Epoch [91/100], Loss: 0.0003\n",
      "Epoch [92/100], Loss: 0.0002\n",
      "Epoch [93/100], Loss: 0.0003\n",
      "Epoch [94/100], Loss: 0.0114\n",
      "Epoch [95/100], Loss: 0.0015\n",
      "Epoch [96/100], Loss: 0.0020\n",
      "Epoch [97/100], Loss: 0.0005\n",
      "Epoch [98/100], Loss: 0.0003\n",
      "Epoch [99/100], Loss: 0.0010\n",
      "Epoch [100/100], Loss: 0.0008\n"
     ]
    }
   ],
   "source": [
    "import torch.optim as optim\n",
    "from tqdm.auto import tqdm\n",
    "\n",
    "# Define loss function and optimizer\n",
    "criterion = nn.MSELoss()\n",
    "optimizer = optim.Adam(model.parameters(), lr=0.001)\n",
    "\n",
    "# Training loop\n",
    "num_epochs = 100\n",
    "batch_size = 10\n",
    "\n",
    "# Create DataLoader\n",
    "train_dataset = torch.utils.data.TensorDataset(X_train, y_train)\n",
    "train_loader = DataLoader(train_dataset, batch_size=batch_size, shuffle=True)\n",
    "\n",
    "losses = []\n",
    "for epoch in tqdm(range(num_epochs)):\n",
    "    for i, (inputs, targets) in enumerate(train_loader):\n",
    "        # Zero the parameter gradients\n",
    "        optimizer.zero_grad()\n",
    "\n",
    "        # Forward pass\n",
    "        outputs = model(inputs)\n",
    "        loss = criterion(outputs, targets)\n",
    "        \n",
    "\n",
    "\n",
    "        # Backward pass and optimize\n",
    "        loss.backward()\n",
    "        optimizer.step()\n",
    "    losses.append(loss.item())\n",
    "\n",
    "    print(f'Epoch [{epoch+1}/{num_epochs}], Loss: {loss.item():.4f}')\n"
   ]
  },
  {
   "cell_type": "markdown",
   "metadata": {},
   "source": [
    "Cost graph"
   ]
  },
  {
   "cell_type": "code",
   "execution_count": 8,
   "metadata": {},
   "outputs": [
    {
     "data": {
      "image/png": "[encoded data removed]",
      "text/plain": [
       "<Figure size 640x480 with 1 Axes>"
      ]
     },
     "metadata": {},
     "output_type": "display_data"
    }
   ],
   "source": [
    "import matplotlib.pyplot as plt\n",
    "\n",
    "plt.plot(losses)\n",
    "plt.xlabel('Epoch')\n",
    "plt.ylabel('Loss')\n",
    "plt.title('Training Loss')\n",
    "plt.show()"
   ]
  },
  {
   "cell_type": "markdown",
   "metadata": {},
   "source": [
    "## Calculate the accuracy"
   ]
  },
  {
   "cell_type": "code",
   "execution_count": null,
   "metadata": {},
   "outputs": [],
   "source": [
    "import torch\n",
    "from sklearn.metrics import mean_squared_error, mean_absolute_error, r2_score\n",
    "\n",
    "def evaluate_model(model, X_test, y_test):\n",
    "    model.eval()  # Set the model to evaluation mode\n",
    "    with torch.no_grad():  # Disable gradient computation\n",
    "        predictions = model(X_test).cpu().numpy()  # Make predictions and move to CPU\n",
    "        targets = y_test.cpu().numpy()  # Move targets to CPU\n",
    "    \n",
    "    # Calculate evaluation metrics\n",
    "    mse = mean_squared_error(targets, predictions)\n",
    "    mae = mean_absolute_error(targets, predictions)\n",
    "    r2 = r2_score(targets, predictions)\n",
    "    \n",
    "    print(f'Mean Squared Error (MSE): {mse:.4f}')\n",
    "    print(f'Mean Absolute Error (MAE): {mae:.4f}')\n",
    "    print(f'R-squared (R²): {r2:.4f}')\n",
    "    \n",
    "    return mse, mae, r2\n",
    "\n",
    "mse, mae, r2 = evaluate_model(model, X_test, y_test)\n"
   ]
  },
  {
   "cell_type": "markdown",
   "metadata": {},
   "source": [
    "## Save the model"
   ]
  },
  {
   "cell_type": "code",
   "execution_count": null,
   "metadata": {},
   "outputs": [],
   "source": [
    "# Save the model\n",
    "torch.save(model.state_dict(), 'models/car_control_model.pth')"
   ]
  },
  {
   "cell_type": "code",
   "execution_count": null,
   "metadata": {},
   "outputs": [],
   "source": [
    "# load the model\n",
    "model_loaded = CarControlModel().to(device)\n",
    "model_loaded.load_state_dict(torch.load('models/car_control_model.pth'))\n"
   ]
  },
  {
   "cell_type": "code",
   "execution_count": null,
   "metadata": {},
   "outputs": [],
   "source": [
    "# Save scaler\n",
    "import pickle\n",
    "\n",
    "with open('models/scaler.pkl', 'wb') as f:\n",
    "    pickle.dump(scaler, f)\n",
    "    "
   ]
  },
  {
   "cell_type": "markdown",
   "metadata": {},
   "source": [
    "## Make predictions"
   ]
  }
 ],
 "metadata": {
  "kernelspec": {
   "display_name": "Python 3",
   "language": "python",
   "name": "python3"
  },
  "language_info": {
   "codemirror_mode": {
    "name": "ipython",
    "version": 3
   },
   "file_extension": ".py",
   "mimetype": "text/x-python",
   "name": "python",
   "nbconvert_exporter": "python",
   "pygments_lexer": "ipython3",
   "version": "3.12.3"
  }
 },
 "nbformat": 4,
 "nbformat_minor": 2
}
