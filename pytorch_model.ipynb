{
 "cells": [
  {
   "cell_type": "markdown",
   "metadata": {},
   "source": [
    "# Pytorch"
   ]
  },
  {
   "cell_type": "markdown",
   "metadata": {},
   "source": [
    "## Preprocessing the data"
   ]
  },
  {
   "cell_type": "code",
   "execution_count": 1,
   "metadata": {},
   "outputs": [],
   "source": [
    "import pandas as pd\n",
    "from sklearn.model_selection import train_test_split\n",
    "from sklearn.preprocessing import StandardScaler\n",
    "import torch\n",
    "from torch.utils.data import Dataset, DataLoader"
   ]
  },
  {
   "cell_type": "code",
   "execution_count": 2,
   "metadata": {},
   "outputs": [
    {
     "data": {
      "text/plain": [
       "device(type='cuda')"
      ]
     },
     "execution_count": 2,
     "metadata": {},
     "output_type": "execute_result"
    }
   ],
   "source": [
    "# Check if GPU is available\n",
    "device = torch.device('cuda' if torch.cuda.is_available() else 'cpu')\n",
    "device"
   ]
  },
  {
   "cell_type": "code",
   "execution_count": 3,
   "metadata": {},
   "outputs": [
    {
     "data": {
      "text/html": [
       "<div>\n",
       "<style scoped>\n",
       "    .dataframe tbody tr th:only-of-type {\n",
       "        vertical-align: middle;\n",
       "    }\n",
       "\n",
       "    .dataframe tbody tr th {\n",
       "        vertical-align: top;\n",
       "    }\n",
       "\n",
       "    .dataframe thead th {\n",
       "        text-align: right;\n",
       "    }\n",
       "</style>\n",
       "<table border=\"1\" class=\"dataframe\">\n",
       "  <thead>\n",
       "    <tr style=\"text-align: right;\">\n",
       "      <th></th>\n",
       "      <th>angle</th>\n",
       "      <th>rpm</th>\n",
       "      <th>speed_x</th>\n",
       "      <th>speed_y</th>\n",
       "      <th>track_position</th>\n",
       "      <th>acceleration</th>\n",
       "      <th>brake</th>\n",
       "      <th>steer</th>\n",
       "    </tr>\n",
       "  </thead>\n",
       "  <tbody>\n",
       "    <tr>\n",
       "      <th>0</th>\n",
       "      <td>0.227636</td>\n",
       "      <td>942</td>\n",
       "      <td>-0.092262</td>\n",
       "      <td>0.026604</td>\n",
       "      <td>-0.334175</td>\n",
       "      <td>1.0</td>\n",
       "      <td>0.0</td>\n",
       "      <td>0.466716</td>\n",
       "    </tr>\n",
       "    <tr>\n",
       "      <th>1</th>\n",
       "      <td>0.227636</td>\n",
       "      <td>1100</td>\n",
       "      <td>-0.092262</td>\n",
       "      <td>0.026604</td>\n",
       "      <td>-0.334175</td>\n",
       "      <td>1.0</td>\n",
       "      <td>0.0</td>\n",
       "      <td>0.466716</td>\n",
       "    </tr>\n",
       "    <tr>\n",
       "      <th>2</th>\n",
       "      <td>0.227636</td>\n",
       "      <td>1263</td>\n",
       "      <td>-0.092262</td>\n",
       "      <td>0.026604</td>\n",
       "      <td>-0.334175</td>\n",
       "      <td>1.0</td>\n",
       "      <td>0.0</td>\n",
       "      <td>0.466716</td>\n",
       "    </tr>\n",
       "    <tr>\n",
       "      <th>3</th>\n",
       "      <td>0.227636</td>\n",
       "      <td>1432</td>\n",
       "      <td>-0.092262</td>\n",
       "      <td>0.026604</td>\n",
       "      <td>-0.334175</td>\n",
       "      <td>1.0</td>\n",
       "      <td>0.0</td>\n",
       "      <td>0.466716</td>\n",
       "    </tr>\n",
       "    <tr>\n",
       "      <th>4</th>\n",
       "      <td>0.227636</td>\n",
       "      <td>1605</td>\n",
       "      <td>-0.092262</td>\n",
       "      <td>0.026604</td>\n",
       "      <td>-0.334175</td>\n",
       "      <td>1.0</td>\n",
       "      <td>0.0</td>\n",
       "      <td>0.466716</td>\n",
       "    </tr>\n",
       "  </tbody>\n",
       "</table>\n",
       "</div>"
      ],
      "text/plain": [
       "      angle   rpm   speed_x   speed_y  track_position  acceleration  brake  \\\n",
       "0  0.227636   942 -0.092262  0.026604       -0.334175           1.0    0.0   \n",
       "1  0.227636  1100 -0.092262  0.026604       -0.334175           1.0    0.0   \n",
       "2  0.227636  1263 -0.092262  0.026604       -0.334175           1.0    0.0   \n",
       "3  0.227636  1432 -0.092262  0.026604       -0.334175           1.0    0.0   \n",
       "4  0.227636  1605 -0.092262  0.026604       -0.334175           1.0    0.0   \n",
       "\n",
       "      steer  \n",
       "0  0.466716  \n",
       "1  0.466716  \n",
       "2  0.466716  \n",
       "3  0.466716  \n",
       "4  0.466716  "
      ]
     },
     "execution_count": 3,
     "metadata": {},
     "output_type": "execute_result"
    }
   ],
   "source": [
    "df = pd.read_csv('cleaned_data/aalborg_data.csv')\n",
    "df.head()"
   ]
  },
  {
   "cell_type": "code",
   "execution_count": 4,
   "metadata": {},
   "outputs": [],
   "source": [
    "# Select relevant columns for features and target\n",
    "features = df[['angle', 'speed_x', 'speed_y', 'track_position']]\n",
    "# features = df[['angle', 'rpm', 'speed_x', 'speed_y', 'track_position']]\n",
    "targets = df[['acceleration', 'brake', 'steer']]\n",
    "\n",
    "# Normalize features\n",
    "scaler = StandardScaler()\n",
    "features = scaler.fit_transform(features)\n",
    "\n",
    "# Split the dataset\n",
    "X_train, X_test, y_train, y_test = train_test_split(features, targets, test_size=0.2, random_state=42)\n",
    "\n",
    "# Convert to PyTorch tensors\n",
    "X_train = torch.tensor(X_train, dtype=torch.float32).to(device)\n",
    "X_test = torch.tensor(X_test, dtype=torch.float32).to(device)\n",
    "y_train = torch.tensor(y_train.values, dtype=torch.float32).to(device)\n",
    "y_test = torch.tensor(y_test.values, dtype=torch.float32).to(device)\n"
   ]
  },
  {
   "cell_type": "markdown",
   "metadata": {},
   "source": [
    "## Create the model"
   ]
  },
  {
   "cell_type": "code",
   "execution_count": 5,
   "metadata": {},
   "outputs": [],
   "source": [
    "import torch.nn as nn\n",
    "\n",
    "class CarControlModel(nn.Module):\n",
    "    def __init__(self):\n",
    "        super(CarControlModel, self).__init__()\n",
    "        self.fc1 = nn.Linear(4, 64)  # 4 input features\n",
    "        # self.fc1 = nn.Linear(5, 64)  # 5 input features\n",
    "        self.fc2 = nn.Linear(64, 32)\n",
    "        self.fc3 = nn.Linear(32, 3)  # 3 output actions\n",
    "\n",
    "    def forward(self, x):\n",
    "        x = torch.relu(self.fc1(x))\n",
    "        x = torch.relu(self.fc2(x))\n",
    "        x = self.fc3(x)\n",
    "        return x\n",
    "\n",
    "model = CarControlModel().to(device)\n"
   ]
  },
  {
   "cell_type": "code",
   "execution_count": 6,
   "metadata": {},
   "outputs": [
    {
     "data": {
      "application/vnd.jupyter.widget-view+json": {
       "model_id": "570034afbe4d424883df01302748a058",
       "version_major": 2,
       "version_minor": 0
      },
      "text/plain": [
       "  0%|          | 0/100 [00:00<?, ?it/s]"
      ]
     },
     "metadata": {},
     "output_type": "display_data"
    },
    {
     "name": "stdout",
     "output_type": "stream",
     "text": [
      "Epoch [1/100], Train Loss: 0.042085, Test Loss: 0.034587\n",
      "Epoch [2/100], Train Loss: 0.033418, Test Loss: 0.030308\n",
      "Epoch [3/100], Train Loss: 0.031457, Test Loss: 0.032283\n",
      "Epoch [4/100], Train Loss: 0.030160, Test Loss: 0.032101\n",
      "Epoch [5/100], Train Loss: 0.030753, Test Loss: 0.030708\n",
      "Epoch [6/100], Train Loss: 0.030090, Test Loss: 0.029093\n",
      "Epoch [7/100], Train Loss: 0.028650, Test Loss: 0.030136\n",
      "Epoch [8/100], Train Loss: 0.028667, Test Loss: 0.030190\n",
      "Epoch [9/100], Train Loss: 0.027674, Test Loss: 0.027335\n",
      "Epoch [10/100], Train Loss: 0.027163, Test Loss: 0.026453\n",
      "Epoch [11/100], Train Loss: 0.027220, Test Loss: 0.028344\n",
      "Epoch [12/100], Train Loss: 0.026458, Test Loss: 0.025763\n",
      "Epoch [13/100], Train Loss: 0.027016, Test Loss: 0.025640\n",
      "Epoch [14/100], Train Loss: 0.026407, Test Loss: 0.025274\n",
      "Epoch [15/100], Train Loss: 0.025560, Test Loss: 0.026624\n",
      "Epoch [16/100], Train Loss: 0.025230, Test Loss: 0.024941\n",
      "Epoch [17/100], Train Loss: 0.025073, Test Loss: 0.024060\n",
      "Epoch [18/100], Train Loss: 0.024763, Test Loss: 0.027332\n",
      "Epoch [19/100], Train Loss: 0.024334, Test Loss: 0.023340\n",
      "Epoch [20/100], Train Loss: 0.024615, Test Loss: 0.022641\n",
      "Epoch [21/100], Train Loss: 0.023931, Test Loss: 0.023771\n",
      "Epoch [22/100], Train Loss: 0.024201, Test Loss: 0.026530\n",
      "Epoch [23/100], Train Loss: 0.024286, Test Loss: 0.022478\n",
      "Epoch [24/100], Train Loss: 0.023380, Test Loss: 0.024417\n",
      "Epoch [25/100], Train Loss: 0.024148, Test Loss: 0.022550\n",
      "Epoch [26/100], Train Loss: 0.023676, Test Loss: 0.022224\n",
      "Epoch [27/100], Train Loss: 0.023254, Test Loss: 0.022659\n",
      "Epoch [28/100], Train Loss: 0.023788, Test Loss: 0.022160\n",
      "Epoch [29/100], Train Loss: 0.023353, Test Loss: 0.024988\n",
      "Epoch [30/100], Train Loss: 0.023559, Test Loss: 0.022864\n",
      "Epoch [31/100], Train Loss: 0.023334, Test Loss: 0.022415\n",
      "Epoch [32/100], Train Loss: 0.023123, Test Loss: 0.023064\n",
      "Epoch [33/100], Train Loss: 0.022774, Test Loss: 0.023314\n",
      "Epoch [34/100], Train Loss: 0.022474, Test Loss: 0.022898\n",
      "Epoch [35/100], Train Loss: 0.023093, Test Loss: 0.023436\n",
      "Epoch [36/100], Train Loss: 0.022901, Test Loss: 0.022138\n",
      "Epoch [37/100], Train Loss: 0.023018, Test Loss: 0.021474\n",
      "Epoch [38/100], Train Loss: 0.022660, Test Loss: 0.021926\n",
      "Epoch [39/100], Train Loss: 0.022796, Test Loss: 0.022856\n",
      "Epoch [40/100], Train Loss: 0.022865, Test Loss: 0.022293\n",
      "Epoch [41/100], Train Loss: 0.023140, Test Loss: 0.022900\n",
      "Epoch [42/100], Train Loss: 0.023114, Test Loss: 0.025392\n",
      "Epoch [43/100], Train Loss: 0.022845, Test Loss: 0.024087\n",
      "Epoch [44/100], Train Loss: 0.022446, Test Loss: 0.020760\n",
      "Epoch [45/100], Train Loss: 0.022484, Test Loss: 0.024681\n",
      "Epoch [46/100], Train Loss: 0.022445, Test Loss: 0.020563\n",
      "Epoch [47/100], Train Loss: 0.022748, Test Loss: 0.022094\n",
      "Epoch [48/100], Train Loss: 0.022869, Test Loss: 0.024443\n",
      "Epoch [49/100], Train Loss: 0.022632, Test Loss: 0.023630\n",
      "Epoch [50/100], Train Loss: 0.022815, Test Loss: 0.024608\n",
      "Epoch [51/100], Train Loss: 0.022708, Test Loss: 0.022008\n",
      "Epoch [52/100], Train Loss: 0.022072, Test Loss: 0.022019\n",
      "Epoch [53/100], Train Loss: 0.022049, Test Loss: 0.026208\n",
      "Epoch [54/100], Train Loss: 0.021964, Test Loss: 0.020052\n",
      "Epoch [55/100], Train Loss: 0.022023, Test Loss: 0.021273\n",
      "Epoch [56/100], Train Loss: 0.023935, Test Loss: 0.021812\n",
      "Epoch [57/100], Train Loss: 0.022274, Test Loss: 0.024980\n",
      "Epoch [58/100], Train Loss: 0.021979, Test Loss: 0.021569\n",
      "Epoch [59/100], Train Loss: 0.021927, Test Loss: 0.021583\n",
      "Epoch [60/100], Train Loss: 0.022712, Test Loss: 0.023276\n",
      "Epoch [61/100], Train Loss: 0.021743, Test Loss: 0.021015\n",
      "Epoch [62/100], Train Loss: 0.021871, Test Loss: 0.020745\n",
      "Epoch [63/100], Train Loss: 0.021978, Test Loss: 0.022779\n",
      "Epoch [64/100], Train Loss: 0.021812, Test Loss: 0.023807\n",
      "Epoch [65/100], Train Loss: 0.022147, Test Loss: 0.021051\n",
      "Epoch [66/100], Train Loss: 0.021604, Test Loss: 0.021815\n",
      "Epoch [67/100], Train Loss: 0.021132, Test Loss: 0.020227\n",
      "Epoch [68/100], Train Loss: 0.021787, Test Loss: 0.021167\n",
      "Epoch [69/100], Train Loss: 0.022388, Test Loss: 0.023859\n",
      "Epoch [70/100], Train Loss: 0.021824, Test Loss: 0.022255\n",
      "Epoch [71/100], Train Loss: 0.021481, Test Loss: 0.023558\n",
      "Epoch [72/100], Train Loss: 0.022005, Test Loss: 0.020995\n",
      "Epoch [73/100], Train Loss: 0.021453, Test Loss: 0.019801\n",
      "Epoch [74/100], Train Loss: 0.022425, Test Loss: 0.023209\n",
      "Epoch [75/100], Train Loss: 0.022308, Test Loss: 0.022370\n",
      "Epoch [76/100], Train Loss: 0.021758, Test Loss: 0.022168\n",
      "Epoch [77/100], Train Loss: 0.022382, Test Loss: 0.021464\n",
      "Epoch [78/100], Train Loss: 0.021750, Test Loss: 0.021224\n",
      "Epoch [79/100], Train Loss: 0.021504, Test Loss: 0.020765\n",
      "Epoch [80/100], Train Loss: 0.021228, Test Loss: 0.023257\n",
      "Epoch [81/100], Train Loss: 0.021674, Test Loss: 0.021382\n",
      "Epoch [82/100], Train Loss: 0.022996, Test Loss: 0.022367\n",
      "Epoch [83/100], Train Loss: 0.021621, Test Loss: 0.021058\n",
      "Epoch [84/100], Train Loss: 0.021461, Test Loss: 0.022538\n",
      "Epoch [85/100], Train Loss: 0.022065, Test Loss: 0.021461\n",
      "Epoch [86/100], Train Loss: 0.021503, Test Loss: 0.023532\n",
      "Epoch [87/100], Train Loss: 0.021204, Test Loss: 0.024740\n",
      "Epoch [88/100], Train Loss: 0.022038, Test Loss: 0.022489\n",
      "Epoch [89/100], Train Loss: 0.021409, Test Loss: 0.021288\n",
      "Epoch [90/100], Train Loss: 0.021800, Test Loss: 0.020025\n",
      "Epoch [91/100], Train Loss: 0.021812, Test Loss: 0.019929\n",
      "Epoch [92/100], Train Loss: 0.021420, Test Loss: 0.021638\n",
      "Epoch [93/100], Train Loss: 0.021947, Test Loss: 0.022439\n",
      "Epoch [94/100], Train Loss: 0.021484, Test Loss: 0.020273\n",
      "Epoch [95/100], Train Loss: 0.021254, Test Loss: 0.020439\n",
      "Epoch [96/100], Train Loss: 0.021463, Test Loss: 0.022727\n",
      "Epoch [97/100], Train Loss: 0.021613, Test Loss: 0.020629\n",
      "Epoch [98/100], Train Loss: 0.021142, Test Loss: 0.020737\n",
      "Epoch [99/100], Train Loss: 0.021321, Test Loss: 0.023010\n",
      "Epoch [100/100], Train Loss: 0.021569, Test Loss: 0.022797\n"
     ]
    }
   ],
   "source": [
    "import torch.optim as optim\n",
    "from tqdm.auto import tqdm\n",
    "\n",
    "# Define loss function and optimizer\n",
    "criterion = nn.MSELoss()\n",
    "optimizer = optim.Adam(model.parameters(), lr=0.01)\n",
    "\n",
    "# Training loop\n",
    "num_epochs = 100\n",
    "batch_size = 20\n",
    "\n",
    "# Create DataLoader\n",
    "train_dataset = torch.utils.data.TensorDataset(X_train, y_train)\n",
    "train_loader = DataLoader(train_dataset, batch_size=batch_size, shuffle=True)\n",
    "\n",
    "# Initialize lists to store loss values\n",
    "train_losses = []\n",
    "test_losses = []\n",
    "\n",
    "for epoch in tqdm(range(num_epochs)):\n",
    "    model.train()\n",
    "    running_loss = 0.0\n",
    "    for i, (inputs, targets) in enumerate(train_loader):\n",
    "        # Zero the parameter gradients\n",
    "        optimizer.zero_grad()\n",
    "\n",
    "        # Forward pass\n",
    "        outputs = model(inputs)\n",
    "        loss = criterion(outputs, targets)\n",
    "\n",
    "        # Backward pass and optimize\n",
    "        loss.backward()\n",
    "        optimizer.step()\n",
    "\n",
    "        # Accumulate training loss\n",
    "        running_loss += loss.item()\n",
    "\n",
    "    # Calculate average training loss\n",
    "    avg_train_loss = running_loss / len(train_loader)\n",
    "    train_losses.append(avg_train_loss)\n",
    "    \n",
    "    # Evaluate on test data\n",
    "    model.eval()  # Set the model to evaluation mode\n",
    "    with torch.no_grad():\n",
    "        test_outputs = model(X_test)\n",
    "        test_loss = criterion(test_outputs, y_test)\n",
    "        test_losses.append(test_loss.item())\n",
    "\n",
    "    # Print loss for this epoch\n",
    "    print(f'Epoch [{epoch+1}/{num_epochs}], Train Loss: {avg_train_loss:.6f}, Test Loss: {test_loss.item():.6f}')\n"
   ]
  },
  {
   "cell_type": "markdown",
   "metadata": {},
   "source": [
    "Cost graph"
   ]
  },
  {
   "cell_type": "code",
   "execution_count": 7,
   "metadata": {},
   "outputs": [
    {
     "data": {
      "image/png": "[encoded data removed]",
      "text/plain": [
       "<Figure size 640x480 with 1 Axes>"
      ]
     },
     "metadata": {},
     "output_type": "display_data"
    }
   ],
   "source": [
    "import matplotlib.pyplot as plt\n",
    "\n",
    "plt.plot(train_losses, label='Train Loss')\t\n",
    "plt.plot(test_losses, label='Test Loss')\n",
    "plt.xlabel('Epoch')\n",
    "plt.ylabel('Loss')\n",
    "plt.legend()\n",
    "plt.show()"
   ]
  },
  {
   "cell_type": "markdown",
   "metadata": {},
   "source": [
    "## Calculate the accuracy"
   ]
  },
  {
   "cell_type": "code",
   "execution_count": 8,
   "metadata": {},
   "outputs": [
    {
     "name": "stdout",
     "output_type": "stream",
     "text": [
      "Mean Squared Error (MSE): 0.0228\n",
      "Mean Absolute Error (MAE): 0.0725\n",
      "R-squared (R²): 0.6166\n"
     ]
    }
   ],
   "source": [
    "import torch\n",
    "from sklearn.metrics import mean_squared_error, mean_absolute_error, r2_score\n",
    "\n",
    "def evaluate_model(model, X_test, y_test):\n",
    "    model.eval()  # Set the model to evaluation mode\n",
    "    with torch.no_grad():  # Disable gradient computation\n",
    "        predictions = model(X_test).cpu().numpy()  # Make predictions and move to CPU\n",
    "        targets = y_test.cpu().numpy()  # Move targets to CPU\n",
    "    \n",
    "    # Calculate evaluation metrics\n",
    "    mse = mean_squared_error(targets, predictions)\n",
    "    mae = mean_absolute_error(targets, predictions)\n",
    "    r2 = r2_score(targets, predictions)\n",
    "    \n",
    "    print(f'Mean Squared Error (MSE): {mse:.4f}')\n",
    "    print(f'Mean Absolute Error (MAE): {mae:.4f}')\n",
    "    print(f'R-squared (R²): {r2:.4f}')\n",
    "    \n",
    "    return mse, mae, r2\n",
    "\n",
    "mse, mae, r2 = evaluate_model(model, X_test, y_test)\n"
   ]
  },
  {
   "cell_type": "markdown",
   "metadata": {},
   "source": [
    "## Save the model"
   ]
  },
  {
   "cell_type": "code",
   "execution_count": 9,
   "metadata": {},
   "outputs": [],
   "source": [
    "# Save the model\n",
    "torch.save(model.state_dict(), 'models/car_control_model.pth')"
   ]
  },
  {
   "cell_type": "code",
   "execution_count": 10,
   "metadata": {},
   "outputs": [
    {
     "data": {
      "text/plain": [
       "<All keys matched successfully>"
      ]
     },
     "execution_count": 10,
     "metadata": {},
     "output_type": "execute_result"
    }
   ],
   "source": [
    "# load the model\n",
    "model_loaded = CarControlModel().to(device)\n",
    "model_loaded.load_state_dict(torch.load('models/car_control_model.pth'))\n"
   ]
  },
  {
   "cell_type": "code",
   "execution_count": 11,
   "metadata": {},
   "outputs": [],
   "source": [
    "# Save scaler\n",
    "import pickle\n",
    "\n",
    "with open('models/scaler.pkl', 'wb') as f:\n",
    "    pickle.dump(scaler, f)\n",
    "    "
   ]
  },
  {
   "cell_type": "markdown",
   "metadata": {},
   "source": [
    "## Make predictions"
   ]
  },
  {
   "cell_type": "code",
   "execution_count": 12,
   "metadata": {},
   "outputs": [
    {
     "name": "stderr",
     "output_type": "stream",
     "text": [
      "c:\\Users\\sam_y\\AppData\\Local\\Programs\\Python\\Python310\\lib\\site-packages\\sklearn\\base.py:465: UserWarning: X does not have valid feature names, but StandardScaler was fitted with feature names\n",
      "  warnings.warn(\n"
     ]
    },
    {
     "ename": "TypeError",
     "evalue": "can't convert cuda:0 device type tensor to numpy. Use Tensor.cpu() to copy the tensor to host memory first.",
     "output_type": "error",
     "traceback": [
      "\u001b[1;31m---------------------------------------------------------------------------\u001b[0m",
      "\u001b[1;31mTypeError\u001b[0m                                 Traceback (most recent call last)",
      "Cell \u001b[1;32mIn [12], line 15\u001b[0m\n\u001b[0;32m     12\u001b[0m y_example \u001b[38;5;241m=\u001b[39m y_test[:\u001b[38;5;241m5\u001b[39m]\n\u001b[0;32m     14\u001b[0m \u001b[38;5;66;03m# Make predictions\u001b[39;00m\n\u001b[1;32m---> 15\u001b[0m predictions \u001b[38;5;241m=\u001b[39m \u001b[43mpredict\u001b[49m\u001b[43m(\u001b[49m\u001b[43mmodel_loaded\u001b[49m\u001b[43m,\u001b[49m\u001b[43m \u001b[49m\u001b[43mscaler\u001b[49m\u001b[43m,\u001b[49m\u001b[43m \u001b[49m\u001b[43mX_example\u001b[49m\u001b[43m)\u001b[49m\n\u001b[0;32m     16\u001b[0m \u001b[38;5;28mprint\u001b[39m(\u001b[38;5;124m'\u001b[39m\u001b[38;5;124mPredictions:\u001b[39m\u001b[38;5;124m'\u001b[39m)\n\u001b[0;32m     17\u001b[0m \u001b[38;5;28mprint\u001b[39m(predictions)\n",
      "Cell \u001b[1;32mIn [12], line 6\u001b[0m, in \u001b[0;36mpredict\u001b[1;34m(model, scaler, X)\u001b[0m\n\u001b[0;32m      4\u001b[0m model\u001b[38;5;241m.\u001b[39meval()  \u001b[38;5;66;03m# Set the model to evaluation mode\u001b[39;00m\n\u001b[0;32m      5\u001b[0m \u001b[38;5;28;01mwith\u001b[39;00m torch\u001b[38;5;241m.\u001b[39mno_grad():  \u001b[38;5;66;03m# Disable gradient computation\u001b[39;00m\n\u001b[1;32m----> 6\u001b[0m     X \u001b[38;5;241m=\u001b[39m torch\u001b[38;5;241m.\u001b[39mtensor(\u001b[43mscaler\u001b[49m\u001b[38;5;241;43m.\u001b[39;49m\u001b[43mtransform\u001b[49m\u001b[43m(\u001b[49m\u001b[43mX\u001b[49m\u001b[43m)\u001b[49m, dtype\u001b[38;5;241m=\u001b[39mtorch\u001b[38;5;241m.\u001b[39mfloat32)\u001b[38;5;241m.\u001b[39mto(device)\n\u001b[0;32m      7\u001b[0m     predictions \u001b[38;5;241m=\u001b[39m model(X)\u001b[38;5;241m.\u001b[39mcpu()\u001b[38;5;241m.\u001b[39mnumpy()  \u001b[38;5;66;03m# Make predictions and move to CPU\u001b[39;00m\n\u001b[0;32m      8\u001b[0m \u001b[38;5;28;01mreturn\u001b[39;00m predictions\n",
      "File \u001b[1;32mc:\\Users\\sam_y\\AppData\\Local\\Programs\\Python\\Python310\\lib\\site-packages\\sklearn\\utils\\_set_output.py:157\u001b[0m, in \u001b[0;36m_wrap_method_output.<locals>.wrapped\u001b[1;34m(self, X, *args, **kwargs)\u001b[0m\n\u001b[0;32m    155\u001b[0m \u001b[38;5;129m@wraps\u001b[39m(f)\n\u001b[0;32m    156\u001b[0m \u001b[38;5;28;01mdef\u001b[39;00m \u001b[38;5;21mwrapped\u001b[39m(\u001b[38;5;28mself\u001b[39m, X, \u001b[38;5;241m*\u001b[39margs, \u001b[38;5;241m*\u001b[39m\u001b[38;5;241m*\u001b[39mkwargs):\n\u001b[1;32m--> 157\u001b[0m     data_to_wrap \u001b[38;5;241m=\u001b[39m f(\u001b[38;5;28mself\u001b[39m, X, \u001b[38;5;241m*\u001b[39margs, \u001b[38;5;241m*\u001b[39m\u001b[38;5;241m*\u001b[39mkwargs)\n\u001b[0;32m    158\u001b[0m     \u001b[38;5;28;01mif\u001b[39;00m \u001b[38;5;28misinstance\u001b[39m(data_to_wrap, \u001b[38;5;28mtuple\u001b[39m):\n\u001b[0;32m    159\u001b[0m         \u001b[38;5;66;03m# only wrap the first output for cross decomposition\u001b[39;00m\n\u001b[0;32m    160\u001b[0m         return_tuple \u001b[38;5;241m=\u001b[39m (\n\u001b[0;32m    161\u001b[0m             _wrap_data_with_container(method, data_to_wrap[\u001b[38;5;241m0\u001b[39m], X, \u001b[38;5;28mself\u001b[39m),\n\u001b[0;32m    162\u001b[0m             \u001b[38;5;241m*\u001b[39mdata_to_wrap[\u001b[38;5;241m1\u001b[39m:],\n\u001b[0;32m    163\u001b[0m         )\n",
      "File \u001b[1;32mc:\\Users\\sam_y\\AppData\\Local\\Programs\\Python\\Python310\\lib\\site-packages\\sklearn\\preprocessing\\_data.py:1006\u001b[0m, in \u001b[0;36mStandardScaler.transform\u001b[1;34m(self, X, copy)\u001b[0m\n\u001b[0;32m   1003\u001b[0m check_is_fitted(\u001b[38;5;28mself\u001b[39m)\n\u001b[0;32m   1005\u001b[0m copy \u001b[38;5;241m=\u001b[39m copy \u001b[38;5;28;01mif\u001b[39;00m copy \u001b[38;5;129;01mis\u001b[39;00m \u001b[38;5;129;01mnot\u001b[39;00m \u001b[38;5;28;01mNone\u001b[39;00m \u001b[38;5;28;01melse\u001b[39;00m \u001b[38;5;28mself\u001b[39m\u001b[38;5;241m.\u001b[39mcopy\n\u001b[1;32m-> 1006\u001b[0m X \u001b[38;5;241m=\u001b[39m \u001b[38;5;28;43mself\u001b[39;49m\u001b[38;5;241;43m.\u001b[39;49m\u001b[43m_validate_data\u001b[49m\u001b[43m(\u001b[49m\n\u001b[0;32m   1007\u001b[0m \u001b[43m    \u001b[49m\u001b[43mX\u001b[49m\u001b[43m,\u001b[49m\n\u001b[0;32m   1008\u001b[0m \u001b[43m    \u001b[49m\u001b[43mreset\u001b[49m\u001b[38;5;241;43m=\u001b[39;49m\u001b[38;5;28;43;01mFalse\u001b[39;49;00m\u001b[43m,\u001b[49m\n\u001b[0;32m   1009\u001b[0m \u001b[43m    \u001b[49m\u001b[43maccept_sparse\u001b[49m\u001b[38;5;241;43m=\u001b[39;49m\u001b[38;5;124;43m\"\u001b[39;49m\u001b[38;5;124;43mcsr\u001b[39;49m\u001b[38;5;124;43m\"\u001b[39;49m\u001b[43m,\u001b[49m\n\u001b[0;32m   1010\u001b[0m \u001b[43m    \u001b[49m\u001b[43mcopy\u001b[49m\u001b[38;5;241;43m=\u001b[39;49m\u001b[43mcopy\u001b[49m\u001b[43m,\u001b[49m\n\u001b[0;32m   1011\u001b[0m \u001b[43m    \u001b[49m\u001b[43mdtype\u001b[49m\u001b[38;5;241;43m=\u001b[39;49m\u001b[43mFLOAT_DTYPES\u001b[49m\u001b[43m,\u001b[49m\n\u001b[0;32m   1012\u001b[0m \u001b[43m    \u001b[49m\u001b[43mforce_all_finite\u001b[49m\u001b[38;5;241;43m=\u001b[39;49m\u001b[38;5;124;43m\"\u001b[39;49m\u001b[38;5;124;43mallow-nan\u001b[39;49m\u001b[38;5;124;43m\"\u001b[39;49m\u001b[43m,\u001b[49m\n\u001b[0;32m   1013\u001b[0m \u001b[43m\u001b[49m\u001b[43m)\u001b[49m\n\u001b[0;32m   1015\u001b[0m \u001b[38;5;28;01mif\u001b[39;00m sparse\u001b[38;5;241m.\u001b[39missparse(X):\n\u001b[0;32m   1016\u001b[0m     \u001b[38;5;28;01mif\u001b[39;00m \u001b[38;5;28mself\u001b[39m\u001b[38;5;241m.\u001b[39mwith_mean:\n",
      "File \u001b[1;32mc:\\Users\\sam_y\\AppData\\Local\\Programs\\Python\\Python310\\lib\\site-packages\\sklearn\\base.py:605\u001b[0m, in \u001b[0;36mBaseEstimator._validate_data\u001b[1;34m(self, X, y, reset, validate_separately, cast_to_ndarray, **check_params)\u001b[0m\n\u001b[0;32m    603\u001b[0m         out \u001b[38;5;241m=\u001b[39m X, y\n\u001b[0;32m    604\u001b[0m \u001b[38;5;28;01melif\u001b[39;00m \u001b[38;5;129;01mnot\u001b[39;00m no_val_X \u001b[38;5;129;01mand\u001b[39;00m no_val_y:\n\u001b[1;32m--> 605\u001b[0m     out \u001b[38;5;241m=\u001b[39m check_array(X, input_name\u001b[38;5;241m=\u001b[39m\u001b[38;5;124m\"\u001b[39m\u001b[38;5;124mX\u001b[39m\u001b[38;5;124m\"\u001b[39m, \u001b[38;5;241m*\u001b[39m\u001b[38;5;241m*\u001b[39mcheck_params)\n\u001b[0;32m    606\u001b[0m \u001b[38;5;28;01melif\u001b[39;00m no_val_X \u001b[38;5;129;01mand\u001b[39;00m \u001b[38;5;129;01mnot\u001b[39;00m no_val_y:\n\u001b[0;32m    607\u001b[0m     out \u001b[38;5;241m=\u001b[39m _check_y(y, \u001b[38;5;241m*\u001b[39m\u001b[38;5;241m*\u001b[39mcheck_params)\n",
      "File \u001b[1;32mc:\\Users\\sam_y\\AppData\\Local\\Programs\\Python\\Python310\\lib\\site-packages\\sklearn\\utils\\validation.py:915\u001b[0m, in \u001b[0;36mcheck_array\u001b[1;34m(array, accept_sparse, accept_large_sparse, dtype, order, copy, force_all_finite, ensure_2d, allow_nd, ensure_min_samples, ensure_min_features, estimator, input_name)\u001b[0m\n\u001b[0;32m    913\u001b[0m         array \u001b[38;5;241m=\u001b[39m xp\u001b[38;5;241m.\u001b[39mastype(array, dtype, copy\u001b[38;5;241m=\u001b[39m\u001b[38;5;28;01mFalse\u001b[39;00m)\n\u001b[0;32m    914\u001b[0m     \u001b[38;5;28;01melse\u001b[39;00m:\n\u001b[1;32m--> 915\u001b[0m         array \u001b[38;5;241m=\u001b[39m \u001b[43m_asarray_with_order\u001b[49m\u001b[43m(\u001b[49m\u001b[43marray\u001b[49m\u001b[43m,\u001b[49m\u001b[43m \u001b[49m\u001b[43morder\u001b[49m\u001b[38;5;241;43m=\u001b[39;49m\u001b[43morder\u001b[49m\u001b[43m,\u001b[49m\u001b[43m \u001b[49m\u001b[43mdtype\u001b[49m\u001b[38;5;241;43m=\u001b[39;49m\u001b[43mdtype\u001b[49m\u001b[43m,\u001b[49m\u001b[43m \u001b[49m\u001b[43mxp\u001b[49m\u001b[38;5;241;43m=\u001b[39;49m\u001b[43mxp\u001b[49m\u001b[43m)\u001b[49m\n\u001b[0;32m    916\u001b[0m \u001b[38;5;28;01mexcept\u001b[39;00m ComplexWarning \u001b[38;5;28;01mas\u001b[39;00m complex_warning:\n\u001b[0;32m    917\u001b[0m     \u001b[38;5;28;01mraise\u001b[39;00m \u001b[38;5;167;01mValueError\u001b[39;00m(\n\u001b[0;32m    918\u001b[0m         \u001b[38;5;124m\"\u001b[39m\u001b[38;5;124mComplex data not supported\u001b[39m\u001b[38;5;130;01m\\n\u001b[39;00m\u001b[38;5;132;01m{}\u001b[39;00m\u001b[38;5;130;01m\\n\u001b[39;00m\u001b[38;5;124m\"\u001b[39m\u001b[38;5;241m.\u001b[39mformat(array)\n\u001b[0;32m    919\u001b[0m     ) \u001b[38;5;28;01mfrom\u001b[39;00m \u001b[38;5;21;01mcomplex_warning\u001b[39;00m\n",
      "File \u001b[1;32mc:\\Users\\sam_y\\AppData\\Local\\Programs\\Python\\Python310\\lib\\site-packages\\sklearn\\utils\\_array_api.py:380\u001b[0m, in \u001b[0;36m_asarray_with_order\u001b[1;34m(array, dtype, order, copy, xp)\u001b[0m\n\u001b[0;32m    378\u001b[0m     array \u001b[38;5;241m=\u001b[39m numpy\u001b[38;5;241m.\u001b[39marray(array, order\u001b[38;5;241m=\u001b[39morder, dtype\u001b[38;5;241m=\u001b[39mdtype)\n\u001b[0;32m    379\u001b[0m \u001b[38;5;28;01melse\u001b[39;00m:\n\u001b[1;32m--> 380\u001b[0m     array \u001b[38;5;241m=\u001b[39m \u001b[43mnumpy\u001b[49m\u001b[38;5;241;43m.\u001b[39;49m\u001b[43masarray\u001b[49m\u001b[43m(\u001b[49m\u001b[43marray\u001b[49m\u001b[43m,\u001b[49m\u001b[43m \u001b[49m\u001b[43morder\u001b[49m\u001b[38;5;241;43m=\u001b[39;49m\u001b[43morder\u001b[49m\u001b[43m,\u001b[49m\u001b[43m \u001b[49m\u001b[43mdtype\u001b[49m\u001b[38;5;241;43m=\u001b[39;49m\u001b[43mdtype\u001b[49m\u001b[43m)\u001b[49m\n\u001b[0;32m    382\u001b[0m \u001b[38;5;66;03m# At this point array is a NumPy ndarray. We convert it to an array\u001b[39;00m\n\u001b[0;32m    383\u001b[0m \u001b[38;5;66;03m# container that is consistent with the input's namespace.\u001b[39;00m\n\u001b[0;32m    384\u001b[0m \u001b[38;5;28;01mreturn\u001b[39;00m xp\u001b[38;5;241m.\u001b[39masarray(array)\n",
      "File \u001b[1;32mc:\\Users\\sam_y\\AppData\\Local\\Programs\\Python\\Python310\\lib\\site-packages\\torch\\_tensor.py:1032\u001b[0m, in \u001b[0;36mTensor.__array__\u001b[1;34m(self, dtype)\u001b[0m\n\u001b[0;32m   1030\u001b[0m     \u001b[38;5;28;01mreturn\u001b[39;00m \u001b[38;5;28mself\u001b[39m\u001b[38;5;241m.\u001b[39mnumpy()\n\u001b[0;32m   1031\u001b[0m \u001b[38;5;28;01melse\u001b[39;00m:\n\u001b[1;32m-> 1032\u001b[0m     \u001b[38;5;28;01mreturn\u001b[39;00m \u001b[38;5;28;43mself\u001b[39;49m\u001b[38;5;241;43m.\u001b[39;49m\u001b[43mnumpy\u001b[49m\u001b[43m(\u001b[49m\u001b[43m)\u001b[49m\u001b[38;5;241m.\u001b[39mastype(dtype, copy\u001b[38;5;241m=\u001b[39m\u001b[38;5;28;01mFalse\u001b[39;00m)\n",
      "\u001b[1;31mTypeError\u001b[0m: can't convert cuda:0 device type tensor to numpy. Use Tensor.cpu() to copy the tensor to host memory first."
     ]
    }
   ],
   "source": [
    "# Make predictions\n",
    "\n",
    "def predict(model, scaler, X):\n",
    "    model.eval()  # Set the model to evaluation mode\n",
    "    with torch.no_grad():  # Disable gradient computation\n",
    "        X = torch.tensor(scaler.transform(X), dtype=torch.float32).to(device)\n",
    "        predictions = model(X).cpu().numpy()  # Make predictions and move to CPU\n",
    "    return predictions\n",
    "\n",
    "# Example input from the test set\n",
    "X_example = X_test[:5]\n",
    "y_example = y_test[:5]\n",
    "\n",
    "# Make predictions\n",
    "predictions = predict(model_loaded, scaler, X_example)\n",
    "print('Predictions:')\n",
    "print(predictions)\n",
    "print('\\nTrue values:')\n",
    "print(y_example)\n"
   ]
  }
 ],
 "metadata": {
  "kernelspec": {
   "display_name": "Python 3",
   "language": "python",
   "name": "python3"
  },
  "language_info": {
   "codemirror_mode": {
    "name": "ipython",
    "version": 3
   },
   "file_extension": ".py",
   "mimetype": "text/x-python",
   "name": "python",
   "nbconvert_exporter": "python",
   "pygments_lexer": "ipython3",
   "version": "3.10.7"
  }
 },
 "nbformat": 4,
 "nbformat_minor": 2
}
