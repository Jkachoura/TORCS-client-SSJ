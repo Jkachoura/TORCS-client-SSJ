{
 "cells": [
  {
   "cell_type": "markdown",
   "metadata": {},
   "source": [
    "# Pytorch"
   ]
  },
  {
   "cell_type": "markdown",
   "metadata": {},
   "source": [
    "## Preprocessing the data"
   ]
  },
  {
   "cell_type": "code",
   "execution_count": 1,
   "metadata": {},
   "outputs": [],
   "source": [
    "import pandas as pd\n",
    "from sklearn.model_selection import train_test_split\n",
    "from sklearn.preprocessing import StandardScaler\n",
    "import torch\n",
    "from torch.utils.data import Dataset, DataLoader"
   ]
  },
  {
   "cell_type": "code",
   "execution_count": 2,
   "metadata": {},
   "outputs": [
    {
     "data": {
      "text/plain": [
       "device(type='cuda')"
      ]
     },
     "execution_count": 2,
     "metadata": {},
     "output_type": "execute_result"
    }
   ],
   "source": [
    "# Check if GPU is available\n",
    "device = torch.device('cuda' if torch.cuda.is_available() else 'cpu')\n",
    "device"
   ]
  },
  {
   "cell_type": "code",
   "execution_count": 3,
   "metadata": {},
   "outputs": [
    {
     "data": {
      "text/html": [
       "<div>\n",
       "<style scoped>\n",
       "    .dataframe tbody tr th:only-of-type {\n",
       "        vertical-align: middle;\n",
       "    }\n",
       "\n",
       "    .dataframe tbody tr th {\n",
       "        vertical-align: top;\n",
       "    }\n",
       "\n",
       "    .dataframe thead th {\n",
       "        text-align: right;\n",
       "    }\n",
       "</style>\n",
       "<table border=\"1\" class=\"dataframe\">\n",
       "  <thead>\n",
       "    <tr style=\"text-align: right;\">\n",
       "      <th></th>\n",
       "      <th>angle</th>\n",
       "      <th>rpm</th>\n",
       "      <th>speed_x</th>\n",
       "      <th>speed_y</th>\n",
       "      <th>track_position</th>\n",
       "      <th>acceleration</th>\n",
       "      <th>brake</th>\n",
       "      <th>steer</th>\n",
       "    </tr>\n",
       "  </thead>\n",
       "  <tbody>\n",
       "    <tr>\n",
       "      <th>0</th>\n",
       "      <td>0.227636</td>\n",
       "      <td>942</td>\n",
       "      <td>-0.092262</td>\n",
       "      <td>0.026604</td>\n",
       "      <td>-0.334175</td>\n",
       "      <td>1.0</td>\n",
       "      <td>0.0</td>\n",
       "      <td>0.466716</td>\n",
       "    </tr>\n",
       "    <tr>\n",
       "      <th>1</th>\n",
       "      <td>0.227636</td>\n",
       "      <td>1100</td>\n",
       "      <td>-0.092262</td>\n",
       "      <td>0.026604</td>\n",
       "      <td>-0.334175</td>\n",
       "      <td>1.0</td>\n",
       "      <td>0.0</td>\n",
       "      <td>0.466716</td>\n",
       "    </tr>\n",
       "    <tr>\n",
       "      <th>2</th>\n",
       "      <td>0.227636</td>\n",
       "      <td>1263</td>\n",
       "      <td>-0.092262</td>\n",
       "      <td>0.026604</td>\n",
       "      <td>-0.334175</td>\n",
       "      <td>1.0</td>\n",
       "      <td>0.0</td>\n",
       "      <td>0.466716</td>\n",
       "    </tr>\n",
       "    <tr>\n",
       "      <th>3</th>\n",
       "      <td>0.227636</td>\n",
       "      <td>1432</td>\n",
       "      <td>-0.092262</td>\n",
       "      <td>0.026604</td>\n",
       "      <td>-0.334175</td>\n",
       "      <td>1.0</td>\n",
       "      <td>0.0</td>\n",
       "      <td>0.466716</td>\n",
       "    </tr>\n",
       "    <tr>\n",
       "      <th>4</th>\n",
       "      <td>0.227636</td>\n",
       "      <td>1605</td>\n",
       "      <td>-0.092262</td>\n",
       "      <td>0.026604</td>\n",
       "      <td>-0.334175</td>\n",
       "      <td>1.0</td>\n",
       "      <td>0.0</td>\n",
       "      <td>0.466716</td>\n",
       "    </tr>\n",
       "  </tbody>\n",
       "</table>\n",
       "</div>"
      ],
      "text/plain": [
       "      angle   rpm   speed_x   speed_y  track_position  acceleration  brake  \\\n",
       "0  0.227636   942 -0.092262  0.026604       -0.334175           1.0    0.0   \n",
       "1  0.227636  1100 -0.092262  0.026604       -0.334175           1.0    0.0   \n",
       "2  0.227636  1263 -0.092262  0.026604       -0.334175           1.0    0.0   \n",
       "3  0.227636  1432 -0.092262  0.026604       -0.334175           1.0    0.0   \n",
       "4  0.227636  1605 -0.092262  0.026604       -0.334175           1.0    0.0   \n",
       "\n",
       "      steer  \n",
       "0  0.466716  \n",
       "1  0.466716  \n",
       "2  0.466716  \n",
       "3  0.466716  \n",
       "4  0.466716  "
      ]
     },
     "execution_count": 3,
     "metadata": {},
     "output_type": "execute_result"
    }
   ],
   "source": [
    "df = pd.read_csv('cleaned_data/aalborg_data.csv')\n",
    "df.head()"
   ]
  },
  {
   "cell_type": "code",
   "execution_count": 4,
   "metadata": {},
   "outputs": [],
   "source": [
    "# Select relevant columns for features and target\n",
    "# features = df[['angle', 'speed_x', 'speed_y', 'track_position']]\n",
    "features = df[['angle', 'rpm', 'speed_x', 'speed_y', 'track_position']]\n",
    "targets = df[['acceleration', 'brake', 'steer']]\n",
    "\n",
    "# Normalize features\n",
    "scaler = StandardScaler()\n",
    "features = scaler.fit_transform(features)\n",
    "\n",
    "# Split the dataset\n",
    "X_train, X_test, y_train, y_test = train_test_split(features, targets, test_size=0.2, random_state=42)\n",
    "\n",
    "# Convert to PyTorch tensors\n",
    "X_train = torch.tensor(X_train, dtype=torch.float32).to(device)\n",
    "X_test = torch.tensor(X_test, dtype=torch.float32).to(device)\n",
    "y_train = torch.tensor(y_train.values, dtype=torch.float32).to(device)\n",
    "y_test = torch.tensor(y_test.values, dtype=torch.float32).to(device)\n"
   ]
  },
  {
   "cell_type": "markdown",
   "metadata": {},
   "source": [
    "## Create the model"
   ]
  },
  {
   "cell_type": "code",
   "execution_count": 5,
   "metadata": {},
   "outputs": [],
   "source": [
    "import torch.nn as nn\n",
    "\n",
    "class CarControlModel(nn.Module):\n",
    "    def __init__(self):\n",
    "        super(CarControlModel, self).__init__()\n",
    "        self.fc1 = nn.Linear(5, 64)  # 4 input features\n",
    "        # self.fc1 = nn.Linear(5, 64)  # 5 input features\n",
    "        self.fc2 = nn.Linear(64, 32)\n",
    "        self.fc3 = nn.Linear(32, 3)  # 3 output actions\n",
    "\n",
    "    def forward(self, x):\n",
    "        x = torch.relu(self.fc1(x))\n",
    "        x = torch.relu(self.fc2(x))\n",
    "        x = self.fc3(x)\n",
    "        return x\n",
    "\n",
    "model = CarControlModel().to(device)\n"
   ]
  },
  {
   "cell_type": "code",
   "execution_count": 6,
   "metadata": {},
   "outputs": [
    {
     "data": {
      "application/vnd.jupyter.widget-view+json": {
       "model_id": "24bb586da8824ad19eef3cc738dfbadb",
       "version_major": 2,
       "version_minor": 0
      },
      "text/plain": [
       "  0%|          | 0/100 [00:00<?, ?it/s]"
      ]
     },
     "metadata": {},
     "output_type": "display_data"
    },
    {
     "name": "stdout",
     "output_type": "stream",
     "text": [
      "Epoch [1/100], Train Loss: 0.033218, Test Loss: 0.025710, Test R²: 0.608545\n",
      "Epoch [2/100], Train Loss: 0.023953, Test Loss: 0.024568, Test R²: 0.622836\n",
      "Epoch [3/100], Train Loss: 0.022401, Test Loss: 0.021850, Test R²: 0.641386\n",
      "Epoch [4/100], Train Loss: 0.020810, Test Loss: 0.022742, Test R²: 0.616904\n",
      "Epoch [5/100], Train Loss: 0.019257, Test Loss: 0.019956, Test R²: 0.660622\n",
      "Epoch [6/100], Train Loss: 0.019515, Test Loss: 0.019438, Test R²: 0.669892\n",
      "Epoch [7/100], Train Loss: 0.018084, Test Loss: 0.018447, Test R²: 0.682585\n",
      "Epoch [8/100], Train Loss: 0.017057, Test Loss: 0.019874, Test R²: 0.677593\n",
      "Epoch [9/100], Train Loss: 0.016776, Test Loss: 0.016908, Test R²: 0.687328\n",
      "Epoch [10/100], Train Loss: 0.016331, Test Loss: 0.015783, Test R²: 0.709248\n",
      "Epoch [11/100], Train Loss: 0.015650, Test Loss: 0.016989, Test R²: 0.701869\n",
      "Epoch [12/100], Train Loss: 0.015883, Test Loss: 0.014057, Test R²: 0.725027\n",
      "Epoch [13/100], Train Loss: 0.015291, Test Loss: 0.014537, Test R²: 0.728391\n",
      "Epoch [14/100], Train Loss: 0.014353, Test Loss: 0.016247, Test R²: 0.721475\n",
      "Epoch [15/100], Train Loss: 0.014464, Test Loss: 0.014297, Test R²: 0.719870\n",
      "Epoch [16/100], Train Loss: 0.013955, Test Loss: 0.012999, Test R²: 0.743513\n",
      "Epoch [17/100], Train Loss: 0.013615, Test Loss: 0.016959, Test R²: 0.716367\n",
      "Epoch [18/100], Train Loss: 0.013920, Test Loss: 0.015892, Test R²: 0.722526\n",
      "Epoch [19/100], Train Loss: 0.014267, Test Loss: 0.015249, Test R²: 0.727061\n",
      "Epoch [20/100], Train Loss: 0.013342, Test Loss: 0.012687, Test R²: 0.755596\n",
      "Epoch [21/100], Train Loss: 0.013458, Test Loss: 0.012694, Test R²: 0.751961\n",
      "Epoch [22/100], Train Loss: 0.012509, Test Loss: 0.013638, Test R²: 0.750838\n",
      "Epoch [23/100], Train Loss: 0.012799, Test Loss: 0.016055, Test R²: 0.725872\n",
      "Epoch [24/100], Train Loss: 0.012539, Test Loss: 0.013068, Test R²: 0.754980\n",
      "Epoch [25/100], Train Loss: 0.012430, Test Loss: 0.012815, Test R²: 0.757554\n",
      "Epoch [26/100], Train Loss: 0.013123, Test Loss: 0.012914, Test R²: 0.731502\n",
      "Epoch [27/100], Train Loss: 0.012202, Test Loss: 0.013317, Test R²: 0.738908\n",
      "Epoch [28/100], Train Loss: 0.012437, Test Loss: 0.012847, Test R²: 0.750479\n",
      "Epoch [29/100], Train Loss: 0.012177, Test Loss: 0.013110, Test R²: 0.745233\n",
      "Epoch [30/100], Train Loss: 0.012309, Test Loss: 0.012406, Test R²: 0.758155\n",
      "Epoch [31/100], Train Loss: 0.012060, Test Loss: 0.012331, Test R²: 0.742096\n",
      "Epoch [32/100], Train Loss: 0.011715, Test Loss: 0.011977, Test R²: 0.755942\n",
      "Epoch [33/100], Train Loss: 0.011665, Test Loss: 0.012658, Test R²: 0.745830\n",
      "Epoch [34/100], Train Loss: 0.012116, Test Loss: 0.011388, Test R²: 0.759361\n",
      "Epoch [35/100], Train Loss: 0.011536, Test Loss: 0.012859, Test R²: 0.740595\n",
      "Epoch [36/100], Train Loss: 0.011325, Test Loss: 0.011468, Test R²: 0.776988\n",
      "Epoch [37/100], Train Loss: 0.011123, Test Loss: 0.011914, Test R²: 0.769316\n",
      "Epoch [38/100], Train Loss: 0.011506, Test Loss: 0.011335, Test R²: 0.753105\n",
      "Epoch [39/100], Train Loss: 0.011698, Test Loss: 0.011751, Test R²: 0.769325\n",
      "Epoch [40/100], Train Loss: 0.011363, Test Loss: 0.012826, Test R²: 0.732953\n",
      "Epoch [41/100], Train Loss: 0.011512, Test Loss: 0.012015, Test R²: 0.759982\n",
      "Epoch [42/100], Train Loss: 0.011417, Test Loss: 0.012016, Test R²: 0.772318\n",
      "Epoch [43/100], Train Loss: 0.011471, Test Loss: 0.011156, Test R²: 0.770216\n",
      "Epoch [44/100], Train Loss: 0.011340, Test Loss: 0.013791, Test R²: 0.755744\n",
      "Epoch [45/100], Train Loss: 0.011344, Test Loss: 0.010723, Test R²: 0.760769\n",
      "Epoch [46/100], Train Loss: 0.010781, Test Loss: 0.011651, Test R²: 0.759761\n",
      "Epoch [47/100], Train Loss: 0.010615, Test Loss: 0.010519, Test R²: 0.766722\n",
      "Epoch [48/100], Train Loss: 0.011228, Test Loss: 0.011349, Test R²: 0.777005\n",
      "Epoch [49/100], Train Loss: 0.011775, Test Loss: 0.011114, Test R²: 0.776834\n",
      "Epoch [50/100], Train Loss: 0.011272, Test Loss: 0.010222, Test R²: 0.787775\n",
      "Epoch [51/100], Train Loss: 0.010493, Test Loss: 0.010395, Test R²: 0.787382\n",
      "Epoch [52/100], Train Loss: 0.010741, Test Loss: 0.010482, Test R²: 0.779537\n",
      "Epoch [53/100], Train Loss: 0.010375, Test Loss: 0.009858, Test R²: 0.787077\n",
      "Epoch [54/100], Train Loss: 0.010481, Test Loss: 0.012895, Test R²: 0.740235\n",
      "Epoch [55/100], Train Loss: 0.010746, Test Loss: 0.010996, Test R²: 0.763897\n",
      "Epoch [56/100], Train Loss: 0.011316, Test Loss: 0.012462, Test R²: 0.769112\n",
      "Epoch [57/100], Train Loss: 0.011256, Test Loss: 0.010981, Test R²: 0.780715\n",
      "Epoch [58/100], Train Loss: 0.010508, Test Loss: 0.010781, Test R²: 0.771075\n",
      "Epoch [59/100], Train Loss: 0.010163, Test Loss: 0.015390, Test R²: 0.750536\n",
      "Epoch [60/100], Train Loss: 0.011065, Test Loss: 0.012445, Test R²: 0.762111\n",
      "Epoch [61/100], Train Loss: 0.010350, Test Loss: 0.010880, Test R²: 0.765011\n",
      "Epoch [62/100], Train Loss: 0.010816, Test Loss: 0.010836, Test R²: 0.771577\n",
      "Epoch [63/100], Train Loss: 0.010806, Test Loss: 0.012104, Test R²: 0.748909\n",
      "Epoch [64/100], Train Loss: 0.010709, Test Loss: 0.010084, Test R²: 0.771304\n",
      "Epoch [65/100], Train Loss: 0.010710, Test Loss: 0.011725, Test R²: 0.764036\n",
      "Epoch [66/100], Train Loss: 0.010874, Test Loss: 0.010060, Test R²: 0.783618\n",
      "Epoch [67/100], Train Loss: 0.010013, Test Loss: 0.012774, Test R²: 0.741154\n",
      "Epoch [68/100], Train Loss: 0.010726, Test Loss: 0.010845, Test R²: 0.773697\n",
      "Epoch [69/100], Train Loss: 0.010631, Test Loss: 0.011005, Test R²: 0.775480\n",
      "Epoch [70/100], Train Loss: 0.010391, Test Loss: 0.010566, Test R²: 0.778102\n",
      "Epoch [71/100], Train Loss: 0.010545, Test Loss: 0.010313, Test R²: 0.779209\n",
      "Epoch [72/100], Train Loss: 0.010153, Test Loss: 0.010766, Test R²: 0.778479\n",
      "Epoch [73/100], Train Loss: 0.010074, Test Loss: 0.010975, Test R²: 0.782458\n",
      "Epoch [74/100], Train Loss: 0.010351, Test Loss: 0.009943, Test R²: 0.770311\n",
      "Epoch [75/100], Train Loss: 0.010282, Test Loss: 0.011970, Test R²: 0.749573\n",
      "Epoch [76/100], Train Loss: 0.010693, Test Loss: 0.010803, Test R²: 0.760974\n",
      "Epoch [77/100], Train Loss: 0.010061, Test Loss: 0.010986, Test R²: 0.792551\n",
      "Epoch [78/100], Train Loss: 0.010155, Test Loss: 0.012984, Test R²: 0.749175\n",
      "Epoch [79/100], Train Loss: 0.010885, Test Loss: 0.010550, Test R²: 0.769125\n",
      "Epoch [80/100], Train Loss: 0.009869, Test Loss: 0.010092, Test R²: 0.786291\n",
      "Epoch [81/100], Train Loss: 0.010040, Test Loss: 0.011031, Test R²: 0.763593\n",
      "Epoch [82/100], Train Loss: 0.010726, Test Loss: 0.010444, Test R²: 0.790205\n",
      "Epoch [83/100], Train Loss: 0.010044, Test Loss: 0.010568, Test R²: 0.781329\n",
      "Epoch [84/100], Train Loss: 0.009820, Test Loss: 0.012165, Test R²: 0.775394\n",
      "Epoch [85/100], Train Loss: 0.009839, Test Loss: 0.010280, Test R²: 0.780318\n",
      "Epoch [86/100], Train Loss: 0.010295, Test Loss: 0.011636, Test R²: 0.770369\n",
      "Epoch [87/100], Train Loss: 0.010413, Test Loss: 0.011077, Test R²: 0.759501\n",
      "Epoch [88/100], Train Loss: 0.010367, Test Loss: 0.010669, Test R²: 0.786342\n",
      "Epoch [89/100], Train Loss: 0.010638, Test Loss: 0.010486, Test R²: 0.788817\n",
      "Epoch [90/100], Train Loss: 0.009874, Test Loss: 0.010784, Test R²: 0.788693\n",
      "Epoch [91/100], Train Loss: 0.010075, Test Loss: 0.010519, Test R²: 0.788759\n",
      "Epoch [92/100], Train Loss: 0.010226, Test Loss: 0.010134, Test R²: 0.777770\n",
      "Epoch [93/100], Train Loss: 0.010551, Test Loss: 0.009379, Test R²: 0.806838\n",
      "Epoch [94/100], Train Loss: 0.009893, Test Loss: 0.010493, Test R²: 0.790791\n",
      "Epoch [95/100], Train Loss: 0.009922, Test Loss: 0.009673, Test R²: 0.783262\n",
      "Epoch [96/100], Train Loss: 0.009918, Test Loss: 0.011022, Test R²: 0.765283\n",
      "Epoch [97/100], Train Loss: 0.010473, Test Loss: 0.010513, Test R²: 0.794422\n",
      "Epoch [98/100], Train Loss: 0.010206, Test Loss: 0.011190, Test R²: 0.744183\n",
      "Epoch [99/100], Train Loss: 0.009913, Test Loss: 0.010445, Test R²: 0.739976\n",
      "Epoch [100/100], Train Loss: 0.009776, Test Loss: 0.010333, Test R²: 0.792224\n"
     ]
    }
   ],
   "source": [
    "import torch.optim as optim\n",
    "from tqdm.auto import tqdm\n",
    "from sklearn.metrics import r2_score\n",
    "\n",
    "\n",
    "# Define loss function and optimizer\n",
    "criterion = nn.MSELoss()\n",
    "optimizer = optim.Adam(model.parameters(), lr=0.01)\n",
    "\n",
    "# Training loop\n",
    "num_epochs = 100\n",
    "batch_size = 64\n",
    "\n",
    "# Create DataLoader\n",
    "train_dataset = torch.utils.data.TensorDataset(X_train, y_train)\n",
    "train_loader = DataLoader(train_dataset, batch_size=batch_size, shuffle=True)\n",
    "\n",
    "# Initialize lists to store loss values\n",
    "train_losses = []\n",
    "test_losses = []\n",
    "test_r2_scores = []\n",
    "\n",
    "\n",
    "for epoch in tqdm(range(num_epochs)):\n",
    "    model.train()\n",
    "    running_loss = 0.0\n",
    "    for i, (inputs, targets) in enumerate(train_loader):\n",
    "        # Zero the parameter gradients\n",
    "        optimizer.zero_grad()\n",
    "\n",
    "        # Forward pass\n",
    "        outputs = model(inputs)\n",
    "        loss = criterion(outputs, targets)\n",
    "\n",
    "        # Backward pass and optimize\n",
    "        loss.backward()\n",
    "        optimizer.step()\n",
    "\n",
    "        # Accumulate training loss\n",
    "        running_loss += loss.item()\n",
    "\n",
    "    # Calculate average training loss\n",
    "    avg_train_loss = running_loss / len(train_loader)\n",
    "    train_losses.append(avg_train_loss)\n",
    "    \n",
    "    # Evaluate on test data\n",
    "    model.eval()  # Set the model to evaluation mode\n",
    "    with torch.no_grad():\n",
    "        test_outputs = model(X_test)\n",
    "        test_loss = criterion(test_outputs, y_test)\n",
    "        test_losses.append(test_loss.item())\n",
    "\n",
    "        test_r2 = r2_score(y_test.cpu().numpy(), test_outputs.cpu().numpy())\n",
    "        test_r2_scores.append(test_r2)\n",
    "\n",
    "\n",
    "    # Print loss and R² for this epoch\n",
    "    print(f'Epoch [{epoch+1}/{num_epochs}], Train Loss: {avg_train_loss:.6f}, Test Loss: {test_loss.item():.6f}, Test R²: {test_r2:.6f}')\n"
   ]
  },
  {
   "cell_type": "code",
   "execution_count": 7,
   "metadata": {},
   "outputs": [
    {
     "data": {
      "image/png": "[encoded data removed]",
      "text/plain": [
       "<Figure size 640x480 with 1 Axes>"
      ]
     },
     "metadata": {},
     "output_type": "display_data"
    }
   ],
   "source": [
    "import matplotlib.pyplot as plt\n",
    "\n",
    "plt.plot(train_losses, label='Train Loss')\t\n",
    "plt.plot(test_losses, label='Test Loss')\n",
    "plt.xlabel('Epoch')\n",
    "plt.ylabel('Loss')\n",
    "plt.legend()\n",
    "plt.show()"
   ]
  },
  {
   "cell_type": "code",
   "execution_count": 8,
   "metadata": {},
   "outputs": [
    {
     "data": {
      "image/png": "[encoded data removed]",
      "text/plain": [
       "<Figure size 640x480 with 1 Axes>"
      ]
     },
     "metadata": {},
     "output_type": "display_data"
    }
   ],
   "source": [
    "# plot the R² score\n",
    "plt.plot(test_r2_scores)\n",
    "plt.xlabel('Epoch')\n",
    "plt.ylabel('R² score')\n",
    "plt.show()"
   ]
  },
  {
   "cell_type": "markdown",
   "metadata": {},
   "source": [
    "## Calculate the accuracy"
   ]
  },
  {
   "cell_type": "code",
   "execution_count": null,
   "metadata": {},
   "outputs": [],
   "source": [
    "import torch\n",
    "from sklearn.metrics import mean_squared_error, mean_absolute_error, r2_score\n",
    "\n",
    "def evaluate_model(model, X_test, y_test):\n",
    "    model.eval()  # Set the model to evaluation mode\n",
    "    with torch.no_grad():  # Disable gradient computation\n",
    "        predictions = model(X_test).cpu().numpy()  # Make predictions and move to CPU\n",
    "        targets = y_test.cpu().numpy()  # Move targets to CPU\n",
    "    \n",
    "    # Calculate evaluation metrics\n",
    "    mse = mean_squared_error(targets, predictions)\n",
    "    mae = mean_absolute_error(targets, predictions)\n",
    "    r2 = r2_score(targets, predictions)\n",
    "    \n",
    "    print(f'Mean Squared Error (MSE): {mse:.4f}')\n",
    "    print(f'Mean Absolute Error (MAE): {mae:.4f}')\n",
    "    print(f'R-squared (R²): {r2:.4f}')\n",
    "    \n",
    "    return mse, mae, r2\n",
    "\n",
    "mse, mae, r2 = evaluate_model(model, X_test, y_test)\n"
   ]
  },
  {
   "cell_type": "markdown",
   "metadata": {},
   "source": [
    "## Save the model"
   ]
  },
  {
   "cell_type": "code",
   "execution_count": null,
   "metadata": {},
   "outputs": [],
   "source": [
    "# Save the model\n",
    "torch.save(model.state_dict(), 'models/car_control_model.pth')"
   ]
  },
  {
   "cell_type": "code",
   "execution_count": null,
   "metadata": {},
   "outputs": [],
   "source": [
    "# load the model\n",
    "model_loaded = CarControlModel().to(device)\n",
    "model_loaded.load_state_dict(torch.load('models/car_control_model.pth'))\n"
   ]
  },
  {
   "cell_type": "code",
   "execution_count": null,
   "metadata": {},
   "outputs": [],
   "source": [
    "# Save scaler\n",
    "import pickle\n",
    "\n",
    "with open('models/scaler.pkl', 'wb') as f:\n",
    "    pickle.dump(scaler, f)\n",
    "    "
   ]
  },
  {
   "cell_type": "markdown",
   "metadata": {},
   "source": [
    "## Make predictions"
   ]
  },
  {
   "cell_type": "code",
   "execution_count": null,
   "metadata": {},
   "outputs": [],
   "source": [
    "# Make predictions\n",
    "\n",
    "def predict(model, scaler, X):\n",
    "    model.eval()  # Set the model to evaluation mode\n",
    "    with torch.no_grad():  # Disable gradient computation\n",
    "        X = torch.tensor(scaler.transform(X), dtype=torch.float32).to(device)\n",
    "        predictions = model(X).cpu().numpy()  # Make predictions and move to CPU\n",
    "    return predictions\n",
    "\n",
    "# Example input from the test set\n",
    "X_example = X_test[:5]\n",
    "y_example = y_test[:5]\n",
    "\n",
    "# Make predictions\n",
    "predictions = predict(model_loaded, scaler, X_example)\n",
    "print('Predictions:')\n",
    "print(predictions)\n",
    "print('\\nTrue values:')\n",
    "print(y_example)\n"
   ]
  }
 ],
 "metadata": {
  "kernelspec": {
   "display_name": "Python 3",
   "language": "python",
   "name": "python3"
  },
  "language_info": {
   "codemirror_mode": {
    "name": "ipython",
    "version": 3
   },
   "file_extension": ".py",
   "mimetype": "text/x-python",
   "name": "python",
   "nbconvert_exporter": "python",
   "pygments_lexer": "ipython3",
   "version": "3.10.7"
  }
 },
 "nbformat": 4,
 "nbformat_minor": 2
}
